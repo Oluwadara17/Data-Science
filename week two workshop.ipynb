{
 "cells": [
  {
   "cell_type": "code",
   "execution_count": 1,
   "id": "d7826889",
   "metadata": {},
   "outputs": [],
   "source": [
    "import pandas as pd\n",
    "import numpy as np\n",
    "import matplotlib.pyplot as plt\n",
    "%matplotlib inline"
   ]
  },
  {
   "cell_type": "code",
   "execution_count": 2,
   "id": "a299860d",
   "metadata": {},
   "outputs": [],
   "source": [
    "dataset = pd.read_csv(r\"C:\\Users\\hp pc\\Franklin\\train_ctrUa4K.csv\")"
   ]
  },
  {
   "cell_type": "code",
   "execution_count": 3,
   "id": "a355dc4a",
   "metadata": {},
   "outputs": [
    {
     "data": {
      "text/html": [
       "<div>\n",
       "<style scoped>\n",
       "    .dataframe tbody tr th:only-of-type {\n",
       "        vertical-align: middle;\n",
       "    }\n",
       "\n",
       "    .dataframe tbody tr th {\n",
       "        vertical-align: top;\n",
       "    }\n",
       "\n",
       "    .dataframe thead th {\n",
       "        text-align: right;\n",
       "    }\n",
       "</style>\n",
       "<table border=\"1\" class=\"dataframe\">\n",
       "  <thead>\n",
       "    <tr style=\"text-align: right;\">\n",
       "      <th></th>\n",
       "      <th>Loan_ID</th>\n",
       "      <th>Gender</th>\n",
       "      <th>Married</th>\n",
       "      <th>Dependents</th>\n",
       "      <th>Education</th>\n",
       "      <th>Self_Employed</th>\n",
       "      <th>ApplicantIncome</th>\n",
       "      <th>CoapplicantIncome</th>\n",
       "      <th>LoanAmount</th>\n",
       "      <th>Loan_Amount_Term</th>\n",
       "      <th>Credit_History</th>\n",
       "      <th>Property_Area</th>\n",
       "      <th>Loan_Status</th>\n",
       "    </tr>\n",
       "  </thead>\n",
       "  <tbody>\n",
       "    <tr>\n",
       "      <th>0</th>\n",
       "      <td>LP001002</td>\n",
       "      <td>Male</td>\n",
       "      <td>No</td>\n",
       "      <td>0</td>\n",
       "      <td>Graduate</td>\n",
       "      <td>No</td>\n",
       "      <td>5849</td>\n",
       "      <td>0.0</td>\n",
       "      <td>NaN</td>\n",
       "      <td>360.0</td>\n",
       "      <td>1.0</td>\n",
       "      <td>Urban</td>\n",
       "      <td>Y</td>\n",
       "    </tr>\n",
       "    <tr>\n",
       "      <th>1</th>\n",
       "      <td>LP001003</td>\n",
       "      <td>Male</td>\n",
       "      <td>Yes</td>\n",
       "      <td>1</td>\n",
       "      <td>Graduate</td>\n",
       "      <td>No</td>\n",
       "      <td>4583</td>\n",
       "      <td>1508.0</td>\n",
       "      <td>128.0</td>\n",
       "      <td>360.0</td>\n",
       "      <td>1.0</td>\n",
       "      <td>Rural</td>\n",
       "      <td>N</td>\n",
       "    </tr>\n",
       "    <tr>\n",
       "      <th>2</th>\n",
       "      <td>LP001005</td>\n",
       "      <td>Male</td>\n",
       "      <td>Yes</td>\n",
       "      <td>0</td>\n",
       "      <td>Graduate</td>\n",
       "      <td>Yes</td>\n",
       "      <td>3000</td>\n",
       "      <td>0.0</td>\n",
       "      <td>66.0</td>\n",
       "      <td>360.0</td>\n",
       "      <td>1.0</td>\n",
       "      <td>Urban</td>\n",
       "      <td>Y</td>\n",
       "    </tr>\n",
       "    <tr>\n",
       "      <th>3</th>\n",
       "      <td>LP001006</td>\n",
       "      <td>Male</td>\n",
       "      <td>Yes</td>\n",
       "      <td>0</td>\n",
       "      <td>Not Graduate</td>\n",
       "      <td>No</td>\n",
       "      <td>2583</td>\n",
       "      <td>2358.0</td>\n",
       "      <td>120.0</td>\n",
       "      <td>360.0</td>\n",
       "      <td>1.0</td>\n",
       "      <td>Urban</td>\n",
       "      <td>Y</td>\n",
       "    </tr>\n",
       "    <tr>\n",
       "      <th>4</th>\n",
       "      <td>LP001008</td>\n",
       "      <td>Male</td>\n",
       "      <td>No</td>\n",
       "      <td>0</td>\n",
       "      <td>Graduate</td>\n",
       "      <td>No</td>\n",
       "      <td>6000</td>\n",
       "      <td>0.0</td>\n",
       "      <td>141.0</td>\n",
       "      <td>360.0</td>\n",
       "      <td>1.0</td>\n",
       "      <td>Urban</td>\n",
       "      <td>Y</td>\n",
       "    </tr>\n",
       "  </tbody>\n",
       "</table>\n",
       "</div>"
      ],
      "text/plain": [
       "    Loan_ID Gender Married Dependents     Education Self_Employed  \\\n",
       "0  LP001002   Male      No          0      Graduate            No   \n",
       "1  LP001003   Male     Yes          1      Graduate            No   \n",
       "2  LP001005   Male     Yes          0      Graduate           Yes   \n",
       "3  LP001006   Male     Yes          0  Not Graduate            No   \n",
       "4  LP001008   Male      No          0      Graduate            No   \n",
       "\n",
       "   ApplicantIncome  CoapplicantIncome  LoanAmount  Loan_Amount_Term  \\\n",
       "0             5849                0.0         NaN             360.0   \n",
       "1             4583             1508.0       128.0             360.0   \n",
       "2             3000                0.0        66.0             360.0   \n",
       "3             2583             2358.0       120.0             360.0   \n",
       "4             6000                0.0       141.0             360.0   \n",
       "\n",
       "   Credit_History Property_Area Loan_Status  \n",
       "0             1.0         Urban           Y  \n",
       "1             1.0         Rural           N  \n",
       "2             1.0         Urban           Y  \n",
       "3             1.0         Urban           Y  \n",
       "4             1.0         Urban           Y  "
      ]
     },
     "execution_count": 3,
     "metadata": {},
     "output_type": "execute_result"
    }
   ],
   "source": [
    "dataset.head()"
   ]
  },
  {
   "cell_type": "code",
   "execution_count": 4,
   "id": "8d44df01",
   "metadata": {},
   "outputs": [
    {
     "data": {
      "text/plain": [
       "(614, 13)"
      ]
     },
     "execution_count": 4,
     "metadata": {},
     "output_type": "execute_result"
    }
   ],
   "source": [
    "dataset.shape"
   ]
  },
  {
   "cell_type": "code",
   "execution_count": 5,
   "id": "72b58de3",
   "metadata": {},
   "outputs": [],
   "source": [
    "dataset = dataset.sample(n=550, random_state = 28)"
   ]
  },
  {
   "cell_type": "code",
   "execution_count": 6,
   "id": "aba58ae5",
   "metadata": {},
   "outputs": [],
   "source": [
    "dataset.to_csv('FranklinChukwuyem_2117008.csv')"
   ]
  },
  {
   "cell_type": "code",
   "execution_count": 7,
   "id": "8e960f1a",
   "metadata": {},
   "outputs": [],
   "source": [
    "data = pd.read_csv('FranklinChukwuyem_2117008.csv')"
   ]
  },
  {
   "cell_type": "code",
   "execution_count": 8,
   "id": "6038d374",
   "metadata": {},
   "outputs": [
    {
     "data": {
      "text/html": [
       "<div>\n",
       "<style scoped>\n",
       "    .dataframe tbody tr th:only-of-type {\n",
       "        vertical-align: middle;\n",
       "    }\n",
       "\n",
       "    .dataframe tbody tr th {\n",
       "        vertical-align: top;\n",
       "    }\n",
       "\n",
       "    .dataframe thead th {\n",
       "        text-align: right;\n",
       "    }\n",
       "</style>\n",
       "<table border=\"1\" class=\"dataframe\">\n",
       "  <thead>\n",
       "    <tr style=\"text-align: right;\">\n",
       "      <th></th>\n",
       "      <th>Unnamed: 0</th>\n",
       "      <th>Loan_ID</th>\n",
       "      <th>Gender</th>\n",
       "      <th>Married</th>\n",
       "      <th>Dependents</th>\n",
       "      <th>Education</th>\n",
       "      <th>Self_Employed</th>\n",
       "      <th>ApplicantIncome</th>\n",
       "      <th>CoapplicantIncome</th>\n",
       "      <th>LoanAmount</th>\n",
       "      <th>Loan_Amount_Term</th>\n",
       "      <th>Credit_History</th>\n",
       "      <th>Property_Area</th>\n",
       "      <th>Loan_Status</th>\n",
       "    </tr>\n",
       "  </thead>\n",
       "  <tbody>\n",
       "    <tr>\n",
       "      <th>0</th>\n",
       "      <td>406</td>\n",
       "      <td>LP002308</td>\n",
       "      <td>Male</td>\n",
       "      <td>Yes</td>\n",
       "      <td>0</td>\n",
       "      <td>Not Graduate</td>\n",
       "      <td>No</td>\n",
       "      <td>2167</td>\n",
       "      <td>2400.0</td>\n",
       "      <td>115.0</td>\n",
       "      <td>360.0</td>\n",
       "      <td>1.0</td>\n",
       "      <td>Urban</td>\n",
       "      <td>Y</td>\n",
       "    </tr>\n",
       "    <tr>\n",
       "      <th>1</th>\n",
       "      <td>502</td>\n",
       "      <td>LP002615</td>\n",
       "      <td>Male</td>\n",
       "      <td>Yes</td>\n",
       "      <td>2</td>\n",
       "      <td>Graduate</td>\n",
       "      <td>No</td>\n",
       "      <td>4865</td>\n",
       "      <td>5624.0</td>\n",
       "      <td>208.0</td>\n",
       "      <td>360.0</td>\n",
       "      <td>1.0</td>\n",
       "      <td>Semiurban</td>\n",
       "      <td>Y</td>\n",
       "    </tr>\n",
       "    <tr>\n",
       "      <th>2</th>\n",
       "      <td>403</td>\n",
       "      <td>LP002300</td>\n",
       "      <td>Female</td>\n",
       "      <td>No</td>\n",
       "      <td>0</td>\n",
       "      <td>Not Graduate</td>\n",
       "      <td>No</td>\n",
       "      <td>1963</td>\n",
       "      <td>0.0</td>\n",
       "      <td>53.0</td>\n",
       "      <td>360.0</td>\n",
       "      <td>1.0</td>\n",
       "      <td>Semiurban</td>\n",
       "      <td>Y</td>\n",
       "    </tr>\n",
       "    <tr>\n",
       "      <th>3</th>\n",
       "      <td>46</td>\n",
       "      <td>LP001138</td>\n",
       "      <td>Male</td>\n",
       "      <td>Yes</td>\n",
       "      <td>1</td>\n",
       "      <td>Graduate</td>\n",
       "      <td>No</td>\n",
       "      <td>5649</td>\n",
       "      <td>0.0</td>\n",
       "      <td>44.0</td>\n",
       "      <td>360.0</td>\n",
       "      <td>1.0</td>\n",
       "      <td>Urban</td>\n",
       "      <td>Y</td>\n",
       "    </tr>\n",
       "    <tr>\n",
       "      <th>4</th>\n",
       "      <td>247</td>\n",
       "      <td>LP001819</td>\n",
       "      <td>Male</td>\n",
       "      <td>Yes</td>\n",
       "      <td>1</td>\n",
       "      <td>Not Graduate</td>\n",
       "      <td>No</td>\n",
       "      <td>6608</td>\n",
       "      <td>0.0</td>\n",
       "      <td>137.0</td>\n",
       "      <td>180.0</td>\n",
       "      <td>1.0</td>\n",
       "      <td>Urban</td>\n",
       "      <td>Y</td>\n",
       "    </tr>\n",
       "  </tbody>\n",
       "</table>\n",
       "</div>"
      ],
      "text/plain": [
       "   Unnamed: 0   Loan_ID  Gender Married Dependents     Education  \\\n",
       "0         406  LP002308    Male     Yes          0  Not Graduate   \n",
       "1         502  LP002615    Male     Yes          2      Graduate   \n",
       "2         403  LP002300  Female      No          0  Not Graduate   \n",
       "3          46  LP001138    Male     Yes          1      Graduate   \n",
       "4         247  LP001819    Male     Yes          1  Not Graduate   \n",
       "\n",
       "  Self_Employed  ApplicantIncome  CoapplicantIncome  LoanAmount  \\\n",
       "0            No             2167             2400.0       115.0   \n",
       "1            No             4865             5624.0       208.0   \n",
       "2            No             1963                0.0        53.0   \n",
       "3            No             5649                0.0        44.0   \n",
       "4            No             6608                0.0       137.0   \n",
       "\n",
       "   Loan_Amount_Term  Credit_History Property_Area Loan_Status  \n",
       "0             360.0             1.0         Urban           Y  \n",
       "1             360.0             1.0     Semiurban           Y  \n",
       "2             360.0             1.0     Semiurban           Y  \n",
       "3             360.0             1.0         Urban           Y  \n",
       "4             180.0             1.0         Urban           Y  "
      ]
     },
     "execution_count": 8,
     "metadata": {},
     "output_type": "execute_result"
    }
   ],
   "source": [
    "data.head()"
   ]
  },
  {
   "cell_type": "code",
   "execution_count": 9,
   "id": "acd85736",
   "metadata": {},
   "outputs": [],
   "source": [
    "data=data.drop('Unnamed: 0', axis = 1)"
   ]
  },
  {
   "cell_type": "code",
   "execution_count": 10,
   "id": "df684f2a",
   "metadata": {
    "scrolled": true
   },
   "outputs": [
    {
     "data": {
      "text/html": [
       "<div>\n",
       "<style scoped>\n",
       "    .dataframe tbody tr th:only-of-type {\n",
       "        vertical-align: middle;\n",
       "    }\n",
       "\n",
       "    .dataframe tbody tr th {\n",
       "        vertical-align: top;\n",
       "    }\n",
       "\n",
       "    .dataframe thead th {\n",
       "        text-align: right;\n",
       "    }\n",
       "</style>\n",
       "<table border=\"1\" class=\"dataframe\">\n",
       "  <thead>\n",
       "    <tr style=\"text-align: right;\">\n",
       "      <th></th>\n",
       "      <th>Loan_ID</th>\n",
       "      <th>Gender</th>\n",
       "      <th>Married</th>\n",
       "      <th>Dependents</th>\n",
       "      <th>Education</th>\n",
       "      <th>Self_Employed</th>\n",
       "      <th>ApplicantIncome</th>\n",
       "      <th>CoapplicantIncome</th>\n",
       "      <th>LoanAmount</th>\n",
       "      <th>Loan_Amount_Term</th>\n",
       "      <th>Credit_History</th>\n",
       "      <th>Property_Area</th>\n",
       "      <th>Loan_Status</th>\n",
       "    </tr>\n",
       "  </thead>\n",
       "  <tbody>\n",
       "    <tr>\n",
       "      <th>0</th>\n",
       "      <td>LP002308</td>\n",
       "      <td>Male</td>\n",
       "      <td>Yes</td>\n",
       "      <td>0</td>\n",
       "      <td>Not Graduate</td>\n",
       "      <td>No</td>\n",
       "      <td>2167</td>\n",
       "      <td>2400.0</td>\n",
       "      <td>115.0</td>\n",
       "      <td>360.0</td>\n",
       "      <td>1.0</td>\n",
       "      <td>Urban</td>\n",
       "      <td>Y</td>\n",
       "    </tr>\n",
       "    <tr>\n",
       "      <th>1</th>\n",
       "      <td>LP002615</td>\n",
       "      <td>Male</td>\n",
       "      <td>Yes</td>\n",
       "      <td>2</td>\n",
       "      <td>Graduate</td>\n",
       "      <td>No</td>\n",
       "      <td>4865</td>\n",
       "      <td>5624.0</td>\n",
       "      <td>208.0</td>\n",
       "      <td>360.0</td>\n",
       "      <td>1.0</td>\n",
       "      <td>Semiurban</td>\n",
       "      <td>Y</td>\n",
       "    </tr>\n",
       "    <tr>\n",
       "      <th>2</th>\n",
       "      <td>LP002300</td>\n",
       "      <td>Female</td>\n",
       "      <td>No</td>\n",
       "      <td>0</td>\n",
       "      <td>Not Graduate</td>\n",
       "      <td>No</td>\n",
       "      <td>1963</td>\n",
       "      <td>0.0</td>\n",
       "      <td>53.0</td>\n",
       "      <td>360.0</td>\n",
       "      <td>1.0</td>\n",
       "      <td>Semiurban</td>\n",
       "      <td>Y</td>\n",
       "    </tr>\n",
       "    <tr>\n",
       "      <th>3</th>\n",
       "      <td>LP001138</td>\n",
       "      <td>Male</td>\n",
       "      <td>Yes</td>\n",
       "      <td>1</td>\n",
       "      <td>Graduate</td>\n",
       "      <td>No</td>\n",
       "      <td>5649</td>\n",
       "      <td>0.0</td>\n",
       "      <td>44.0</td>\n",
       "      <td>360.0</td>\n",
       "      <td>1.0</td>\n",
       "      <td>Urban</td>\n",
       "      <td>Y</td>\n",
       "    </tr>\n",
       "    <tr>\n",
       "      <th>4</th>\n",
       "      <td>LP001819</td>\n",
       "      <td>Male</td>\n",
       "      <td>Yes</td>\n",
       "      <td>1</td>\n",
       "      <td>Not Graduate</td>\n",
       "      <td>No</td>\n",
       "      <td>6608</td>\n",
       "      <td>0.0</td>\n",
       "      <td>137.0</td>\n",
       "      <td>180.0</td>\n",
       "      <td>1.0</td>\n",
       "      <td>Urban</td>\n",
       "      <td>Y</td>\n",
       "    </tr>\n",
       "  </tbody>\n",
       "</table>\n",
       "</div>"
      ],
      "text/plain": [
       "    Loan_ID  Gender Married Dependents     Education Self_Employed  \\\n",
       "0  LP002308    Male     Yes          0  Not Graduate            No   \n",
       "1  LP002615    Male     Yes          2      Graduate            No   \n",
       "2  LP002300  Female      No          0  Not Graduate            No   \n",
       "3  LP001138    Male     Yes          1      Graduate            No   \n",
       "4  LP001819    Male     Yes          1  Not Graduate            No   \n",
       "\n",
       "   ApplicantIncome  CoapplicantIncome  LoanAmount  Loan_Amount_Term  \\\n",
       "0             2167             2400.0       115.0             360.0   \n",
       "1             4865             5624.0       208.0             360.0   \n",
       "2             1963                0.0        53.0             360.0   \n",
       "3             5649                0.0        44.0             360.0   \n",
       "4             6608                0.0       137.0             180.0   \n",
       "\n",
       "   Credit_History Property_Area Loan_Status  \n",
       "0             1.0         Urban           Y  \n",
       "1             1.0     Semiurban           Y  \n",
       "2             1.0     Semiurban           Y  \n",
       "3             1.0         Urban           Y  \n",
       "4             1.0         Urban           Y  "
      ]
     },
     "execution_count": 10,
     "metadata": {},
     "output_type": "execute_result"
    }
   ],
   "source": [
    "data.head()"
   ]
  },
  {
   "cell_type": "code",
   "execution_count": null,
   "id": "d146519d",
   "metadata": {},
   "outputs": [],
   "source": []
  },
  {
   "cell_type": "code",
   "execution_count": null,
   "id": "8cdac0b8",
   "metadata": {},
   "outputs": [],
   "source": []
  },
  {
   "cell_type": "markdown",
   "id": "b77c5c97",
   "metadata": {},
   "source": [
    "Question 1 : Use and explain the following DataFrame functions/properties on your data.\n",
    "\n",
    "describe()\n",
    "\n",
    "size\n",
    "\n",
    "ndim\n",
    "\n",
    "shape\n",
    "\n",
    "Hint: Use print() to what are the outputs."
   ]
  },
  {
   "cell_type": "code",
   "execution_count": 11,
   "id": "3a89f2e2",
   "metadata": {},
   "outputs": [
    {
     "name": "stdout",
     "output_type": "stream",
     "text": [
      "       ApplicantIncome  CoapplicantIncome  LoanAmount  Loan_Amount_Term  \\\n",
      "count       550.000000         550.000000  533.000000        538.000000   \n",
      "mean       5465.503636        1608.574182  146.399625        342.758364   \n",
      "std        6359.238671        2526.718424   86.588560         63.949040   \n",
      "min         150.000000           0.000000    9.000000         12.000000   \n",
      "25%        2843.000000           0.000000  100.000000        360.000000   \n",
      "50%        3787.500000        1257.500000  128.000000        360.000000   \n",
      "75%        5741.000000        2324.000000  168.000000        360.000000   \n",
      "max       81000.000000       33837.000000  700.000000        480.000000   \n",
      "\n",
      "       Credit_History  \n",
      "count      507.000000  \n",
      "mean         0.832347  \n",
      "std          0.373927  \n",
      "min          0.000000  \n",
      "25%          1.000000  \n",
      "50%          1.000000  \n",
      "75%          1.000000  \n",
      "max          1.000000  \n"
     ]
    }
   ],
   "source": [
    "a = data.describe()\n",
    "print(a)"
   ]
  },
  {
   "cell_type": "markdown",
   "id": "a15d39e3",
   "metadata": {},
   "source": [
    "The describe() function is use to get informations on the Dataset such as number of rows with element,The Mean of the each row ,their (Standard Deviation,Mininium,Maximum,25%,50%,75%)"
   ]
  },
  {
   "cell_type": "code",
   "execution_count": 12,
   "id": "da3ca645",
   "metadata": {},
   "outputs": [
    {
     "data": {
      "text/plain": [
       "7150"
      ]
     },
     "execution_count": 12,
     "metadata": {},
     "output_type": "execute_result"
    }
   ],
   "source": [
    "data.size"
   ]
  },
  {
   "cell_type": "markdown",
   "id": "d8c82be6",
   "metadata": {},
   "source": [
    "size is used to discover the number of element in a dataframe it multiply the number of rows with the number of columns"
   ]
  },
  {
   "cell_type": "code",
   "execution_count": 13,
   "id": "7c6906a6",
   "metadata": {},
   "outputs": [
    {
     "data": {
      "text/plain": [
       "2"
      ]
     },
     "execution_count": 13,
     "metadata": {},
     "output_type": "execute_result"
    }
   ],
   "source": [
    "data.ndim"
   ]
  },
  {
   "cell_type": "markdown",
   "id": "a0615caa",
   "metadata": {},
   "source": [
    "ndim is used to get an int of dimensions of the DataFrame number of axes / array dimensions.It Return 2 if DataFrame."
   ]
  },
  {
   "cell_type": "code",
   "execution_count": 14,
   "id": "d26af2cc",
   "metadata": {},
   "outputs": [
    {
     "data": {
      "text/plain": [
       "(550, 13)"
      ]
     },
     "execution_count": 14,
     "metadata": {},
     "output_type": "execute_result"
    }
   ],
   "source": [
    "data.shape"
   ]
  },
  {
   "cell_type": "markdown",
   "id": "2ab7b212",
   "metadata": {},
   "source": [
    "shape is use to check the dimension of Dataset, The first value in the parenthesis represent the number of rows and the other value represents the number of columns\n"
   ]
  },
  {
   "cell_type": "code",
   "execution_count": null,
   "id": "739d2ec5",
   "metadata": {},
   "outputs": [],
   "source": []
  },
  {
   "cell_type": "markdown",
   "id": "d3a0eb6c",
   "metadata": {},
   "source": [
    "Q2.\n",
    "Is there any difference between dimensions of the original dataset and the new dataset? If yes, what is thedifference?"
   ]
  },
  {
   "cell_type": "markdown",
   "id": "52a4d882",
   "metadata": {},
   "source": [
    "Solution to Question two"
   ]
  },
  {
   "cell_type": "code",
   "execution_count": 15,
   "id": "4c252426",
   "metadata": {},
   "outputs": [
    {
     "data": {
      "text/plain": [
       "2"
      ]
     },
     "execution_count": 15,
     "metadata": {},
     "output_type": "execute_result"
    }
   ],
   "source": [
    "dataset.ndim"
   ]
  },
  {
   "cell_type": "code",
   "execution_count": 16,
   "id": "99ba68c5",
   "metadata": {},
   "outputs": [
    {
     "data": {
      "text/plain": [
       "2"
      ]
     },
     "execution_count": 16,
     "metadata": {},
     "output_type": "execute_result"
    }
   ],
   "source": [
    "data.ndim"
   ]
  },
  {
   "cell_type": "markdown",
   "id": "29e557c5",
   "metadata": {},
   "source": [
    "the dimesions of the original dataset and the new dataset are not different because the are both DataFrame"
   ]
  },
  {
   "cell_type": "code",
   "execution_count": null,
   "id": "9de06954",
   "metadata": {},
   "outputs": [],
   "source": []
  },
  {
   "cell_type": "markdown",
   "id": "51d6be8e",
   "metadata": {},
   "source": [
    "Q3.\n",
    "What are the possible values 'Education' can take? Write code to display all the possible values of'Education'."
   ]
  },
  {
   "cell_type": "markdown",
   "id": "b934a5fa",
   "metadata": {},
   "source": [
    "Solution to question 3"
   ]
  },
  {
   "cell_type": "code",
   "execution_count": 17,
   "id": "079bf99e",
   "metadata": {},
   "outputs": [
    {
     "data": {
      "text/plain": [
       "array(['Not Graduate', 'Graduate'], dtype=object)"
      ]
     },
     "execution_count": 17,
     "metadata": {},
     "output_type": "execute_result"
    }
   ],
   "source": [
    "# The \"Education\" Column takes 'Not Graduate', 'Graduate' only\n",
    "data.Education.unique()"
   ]
  },
  {
   "cell_type": "markdown",
   "id": "5c80dec4",
   "metadata": {},
   "source": [
    "The Values possible in the Column 'Education' are : Graduate and Not Graduate "
   ]
  },
  {
   "cell_type": "code",
   "execution_count": null,
   "id": "6a711034",
   "metadata": {},
   "outputs": [],
   "source": []
  },
  {
   "cell_type": "code",
   "execution_count": 18,
   "id": "1b04eebe",
   "metadata": {},
   "outputs": [
    {
     "data": {
      "text/plain": [
       "Index(['Loan_ID', 'Gender', 'Married', 'Dependents', 'Education',\n",
       "       'Self_Employed', 'ApplicantIncome', 'CoapplicantIncome', 'LoanAmount',\n",
       "       'Loan_Amount_Term', 'Credit_History', 'Property_Area', 'Loan_Status'],\n",
       "      dtype='object')"
      ]
     },
     "execution_count": 18,
     "metadata": {},
     "output_type": "execute_result"
    }
   ],
   "source": [
    "columns = data.columns\n",
    "columns"
   ]
  },
  {
   "cell_type": "raw",
   "id": "d1a56638",
   "metadata": {},
   "source": [
    "The above cell, get and displays column names "
   ]
  },
  {
   "cell_type": "code",
   "execution_count": 19,
   "id": "fb2d289c",
   "metadata": {},
   "outputs": [
    {
     "data": {
      "text/html": [
       "<div>\n",
       "<style scoped>\n",
       "    .dataframe tbody tr th:only-of-type {\n",
       "        vertical-align: middle;\n",
       "    }\n",
       "\n",
       "    .dataframe tbody tr th {\n",
       "        vertical-align: top;\n",
       "    }\n",
       "\n",
       "    .dataframe thead th {\n",
       "        text-align: right;\n",
       "    }\n",
       "</style>\n",
       "<table border=\"1\" class=\"dataframe\">\n",
       "  <thead>\n",
       "    <tr style=\"text-align: right;\">\n",
       "      <th></th>\n",
       "      <th>Loan_ID</th>\n",
       "      <th>Gender</th>\n",
       "      <th>Married</th>\n",
       "      <th>Dependents</th>\n",
       "      <th>Education</th>\n",
       "      <th>Self_Employed</th>\n",
       "      <th>ApplicantIncome</th>\n",
       "      <th>CoapplicantIncome</th>\n",
       "      <th>LoanAmount</th>\n",
       "      <th>Loan_Amount_Term</th>\n",
       "      <th>Credit_History</th>\n",
       "      <th>Property_Area</th>\n",
       "      <th>Loan_Status</th>\n",
       "    </tr>\n",
       "  </thead>\n",
       "  <tbody>\n",
       "    <tr>\n",
       "      <th>0</th>\n",
       "      <td>LP002308</td>\n",
       "      <td>Male</td>\n",
       "      <td>Yes</td>\n",
       "      <td>0</td>\n",
       "      <td>Not Graduate</td>\n",
       "      <td>No</td>\n",
       "      <td>2167</td>\n",
       "      <td>2400.0</td>\n",
       "      <td>115.0</td>\n",
       "      <td>360.0</td>\n",
       "      <td>1.0</td>\n",
       "      <td>Urban</td>\n",
       "      <td>Y</td>\n",
       "    </tr>\n",
       "    <tr>\n",
       "      <th>1</th>\n",
       "      <td>LP002615</td>\n",
       "      <td>Male</td>\n",
       "      <td>Yes</td>\n",
       "      <td>2</td>\n",
       "      <td>Graduate</td>\n",
       "      <td>No</td>\n",
       "      <td>4865</td>\n",
       "      <td>5624.0</td>\n",
       "      <td>208.0</td>\n",
       "      <td>360.0</td>\n",
       "      <td>1.0</td>\n",
       "      <td>Semiurban</td>\n",
       "      <td>Y</td>\n",
       "    </tr>\n",
       "    <tr>\n",
       "      <th>2</th>\n",
       "      <td>LP002300</td>\n",
       "      <td>Female</td>\n",
       "      <td>No</td>\n",
       "      <td>0</td>\n",
       "      <td>Not Graduate</td>\n",
       "      <td>No</td>\n",
       "      <td>1963</td>\n",
       "      <td>0.0</td>\n",
       "      <td>53.0</td>\n",
       "      <td>360.0</td>\n",
       "      <td>1.0</td>\n",
       "      <td>Semiurban</td>\n",
       "      <td>Y</td>\n",
       "    </tr>\n",
       "    <tr>\n",
       "      <th>3</th>\n",
       "      <td>LP001138</td>\n",
       "      <td>Male</td>\n",
       "      <td>Yes</td>\n",
       "      <td>1</td>\n",
       "      <td>Graduate</td>\n",
       "      <td>No</td>\n",
       "      <td>5649</td>\n",
       "      <td>0.0</td>\n",
       "      <td>44.0</td>\n",
       "      <td>360.0</td>\n",
       "      <td>1.0</td>\n",
       "      <td>Urban</td>\n",
       "      <td>Y</td>\n",
       "    </tr>\n",
       "    <tr>\n",
       "      <th>4</th>\n",
       "      <td>LP001819</td>\n",
       "      <td>Male</td>\n",
       "      <td>Yes</td>\n",
       "      <td>1</td>\n",
       "      <td>Not Graduate</td>\n",
       "      <td>No</td>\n",
       "      <td>6608</td>\n",
       "      <td>0.0</td>\n",
       "      <td>137.0</td>\n",
       "      <td>180.0</td>\n",
       "      <td>1.0</td>\n",
       "      <td>Urban</td>\n",
       "      <td>Y</td>\n",
       "    </tr>\n",
       "  </tbody>\n",
       "</table>\n",
       "</div>"
      ],
      "text/plain": [
       "    Loan_ID  Gender Married Dependents     Education Self_Employed  \\\n",
       "0  LP002308    Male     Yes          0  Not Graduate            No   \n",
       "1  LP002615    Male     Yes          2      Graduate            No   \n",
       "2  LP002300  Female      No          0  Not Graduate            No   \n",
       "3  LP001138    Male     Yes          1      Graduate            No   \n",
       "4  LP001819    Male     Yes          1  Not Graduate            No   \n",
       "\n",
       "   ApplicantIncome  CoapplicantIncome  LoanAmount  Loan_Amount_Term  \\\n",
       "0             2167             2400.0       115.0             360.0   \n",
       "1             4865             5624.0       208.0             360.0   \n",
       "2             1963                0.0        53.0             360.0   \n",
       "3             5649                0.0        44.0             360.0   \n",
       "4             6608                0.0       137.0             180.0   \n",
       "\n",
       "   Credit_History Property_Area Loan_Status  \n",
       "0             1.0         Urban           Y  \n",
       "1             1.0     Semiurban           Y  \n",
       "2             1.0     Semiurban           Y  \n",
       "3             1.0         Urban           Y  \n",
       "4             1.0         Urban           Y  "
      ]
     },
     "execution_count": 19,
     "metadata": {},
     "output_type": "execute_result"
    }
   ],
   "source": [
    "data.head()"
   ]
  },
  {
   "cell_type": "markdown",
   "id": "c1c4088d",
   "metadata": {},
   "source": [
    "For judging loan approval case, 'Applicantincome' and \"LoanAmount\" look like important atttributes. Let's look at\n",
    "these attributes. You will note that these are numeric variables."
   ]
  },
  {
   "cell_type": "code",
   "execution_count": 20,
   "id": "b42e413b",
   "metadata": {},
   "outputs": [
    {
     "data": {
      "text/plain": [
       "<AxesSubplot:>"
      ]
     },
     "execution_count": 20,
     "metadata": {},
     "output_type": "execute_result"
    },
    {
     "data": {
      "image/png": "[encoded data removed]",
      "text/plain": [
       "<Figure size 432x288 with 1 Axes>"
      ]
     },
     "metadata": {
      "needs_background": "light"
     },
     "output_type": "display_data"
    }
   ],
   "source": [
    "data[\"ApplicantIncome\"].hist(bins=50)"
   ]
  },
  {
   "cell_type": "markdown",
   "id": "339316b1",
   "metadata": {},
   "source": [
    "# Q4"
   ]
  },
  {
   "cell_type": "code",
   "execution_count": 21,
   "id": "0180d996",
   "metadata": {},
   "outputs": [
    {
     "data": {
      "text/plain": [
       "<AxesSubplot:>"
      ]
     },
     "execution_count": 21,
     "metadata": {},
     "output_type": "execute_result"
    },
    {
     "data": {
      "image/png": "[encoded data removed]",
      "text/plain": [
       "<Figure size 432x288 with 1 Axes>"
      ]
     },
     "metadata": {
      "needs_background": "light"
     },
     "output_type": "display_data"
    }
   ],
   "source": [
    "data[\"ApplicantIncome\"].hist(bins=50)"
   ]
  },
  {
   "cell_type": "raw",
   "id": "b6728ec1",
   "metadata": {},
   "source": [
    "The Histogram chart and the Boxplot chart are both use to visualize the 'Applicantincome' which they both show the distribution of the element in the column\n"
   ]
  },
  {
   "cell_type": "code",
   "execution_count": 22,
   "id": "f7376384",
   "metadata": {},
   "outputs": [
    {
     "data": {
      "text/plain": [
       "<AxesSubplot:>"
      ]
     },
     "execution_count": 22,
     "metadata": {},
     "output_type": "execute_result"
    },
    {
     "data": {
      "image/png": "[encoded data removed]",
      "text/plain": [
       "<Figure size 432x288 with 1 Axes>"
      ]
     },
     "metadata": {
      "needs_background": "light"
     },
     "output_type": "display_data"
    }
   ],
   "source": [
    "data.boxplot('ApplicantIncome')"
   ]
  },
  {
   "cell_type": "markdown",
   "id": "0728e2ae",
   "metadata": {},
   "source": [
    "# 4a"
   ]
  },
  {
   "cell_type": "markdown",
   "id": "89aef562",
   "metadata": {},
   "source": [
    "Extreme values are data values which are separated from other data values by a gap at least two classes wide.\n",
    "Yes there are Outline in the dataset based on the \"Applicantibncome\" at point 72000 - 80000\n",
    "The Histogram chart and the Boxplot chart are both use to visualize the 'Applicantincome' which they both show the distribution of the element in the column\n"
   ]
  },
  {
   "cell_type": "code",
   "execution_count": null,
   "id": "7a87ca89",
   "metadata": {},
   "outputs": [],
   "source": []
  },
  {
   "cell_type": "markdown",
   "id": "3418706b",
   "metadata": {},
   "source": [
    "# 4b"
   ]
  },
  {
   "cell_type": "raw",
   "id": "1afe86d7",
   "metadata": {},
   "source": [
    "# The Results of both plots are comparable\n",
    "There are difference between the two plots above which  the type of plot we use.\n",
    "The key Difference are :\n",
    "    1) the type of plot \n",
    "    2) the histogram shows more insight on the distribution of the data then boxplots "
   ]
  },
  {
   "cell_type": "code",
   "execution_count": null,
   "id": "75d21772",
   "metadata": {},
   "outputs": [],
   "source": []
  },
  {
   "cell_type": "markdown",
   "id": "5d356360",
   "metadata": {},
   "source": [
    "Try-It-Yourself: Use Histogram and Box plot on 'LoanAmount' and observe extreme values."
   ]
  },
  {
   "cell_type": "code",
   "execution_count": 23,
   "id": "ead6ff8f",
   "metadata": {},
   "outputs": [
    {
     "data": {
      "text/plain": [
       "<AxesSubplot:>"
      ]
     },
     "execution_count": 23,
     "metadata": {},
     "output_type": "execute_result"
    },
    {
     "data": {
      "image/png": "[encoded data removed]",
      "text/plain": [
       "<Figure size 432x288 with 1 Axes>"
      ]
     },
     "metadata": {
      "needs_background": "light"
     },
     "output_type": "display_data"
    }
   ],
   "source": [
    "#Box plot\n",
    "data.boxplot('LoanAmount')"
   ]
  },
  {
   "cell_type": "code",
   "execution_count": 24,
   "id": "5e4c5402",
   "metadata": {},
   "outputs": [
    {
     "data": {
      "text/plain": [
       "<AxesSubplot:>"
      ]
     },
     "execution_count": 24,
     "metadata": {},
     "output_type": "execute_result"
    },
    {
     "data": {
      "image/png": "[encoded data removed]",
      "text/plain": [
       "<Figure size 432x288 with 1 Axes>"
      ]
     },
     "metadata": {
      "needs_background": "light"
     },
     "output_type": "display_data"
    }
   ],
   "source": [
    "#Histogram\n",
    "data['LoanAmount'].hist(bins=30)"
   ]
  },
  {
   "cell_type": "code",
   "execution_count": null,
   "id": "4781fe05",
   "metadata": {},
   "outputs": [],
   "source": []
  },
  {
   "cell_type": "code",
   "execution_count": null,
   "id": "a7204572",
   "metadata": {},
   "outputs": [],
   "source": []
  },
  {
   "cell_type": "markdown",
   "id": "cfc20319",
   "metadata": {},
   "source": [
    "# Categorical variable analysis"
   ]
  },
  {
   "cell_type": "raw",
   "id": "72b96036",
   "metadata": {},
   "source": [
    "In this section we will create a pivot table from dataframe, which is similar to the pivot table in excel. A Pivot\n",
    "Table is an effective way of analysing and summarising data using aggregate functions such as sum, mean and\n",
    "count. You can then compare, see patterns and trends in the data."
   ]
  },
  {
   "cell_type": "code",
   "execution_count": 25,
   "id": "af509469",
   "metadata": {},
   "outputs": [
    {
     "data": {
      "text/plain": [
       "1.0    422\n",
       "0.0     85\n",
       "Name: Credit_History, dtype: int64"
      ]
     },
     "execution_count": 25,
     "metadata": {},
     "output_type": "execute_result"
    }
   ],
   "source": [
    "data[\"Credit_History\"].value_counts()"
   ]
  },
  {
   "cell_type": "code",
   "execution_count": 26,
   "id": "9cca6945",
   "metadata": {},
   "outputs": [
    {
     "name": "stdout",
     "output_type": "stream",
     "text": [
      "Frequency Table for Credit History:\n",
      "0.0     85\n",
      "1.0    422\n",
      "Name: Credit_History, dtype: int64\n",
      "\n",
      "Probability of getting loan for each Credit History class:\n",
      "                Loan_Status\n",
      "Credit_History             \n",
      "0.0                0.070588\n",
      "1.0                0.815166\n"
     ]
    }
   ],
   "source": [
    "credit_history = data[\"Credit_History\"].value_counts(ascending=True)\n",
    "loan_probability = data.pivot_table(values=\"Loan_Status\", index=[\"Credit_History\"],\n",
    "                                   aggfunc=lambda x: x.map({'Y':1,\"N\":0}).mean())\n",
    "\n",
    "print('Frequency Table for Credit History:')\n",
    "print(credit_history)\n",
    "print('\\nProbability of getting loan for each Credit History class:')\n",
    "print(loan_probability)\n"
   ]
  },
  {
   "cell_type": "code",
   "execution_count": 27,
   "id": "ed628166",
   "metadata": {},
   "outputs": [
    {
     "data": {
      "text/plain": [
       "Y    385\n",
       "N    165\n",
       "Name: Loan_Status, dtype: int64"
      ]
     },
     "execution_count": 27,
     "metadata": {},
     "output_type": "execute_result"
    }
   ],
   "source": [
    "data['Loan_Status'].value_counts()"
   ]
  },
  {
   "cell_type": "code",
   "execution_count": 28,
   "id": "ea4b7eb1",
   "metadata": {},
   "outputs": [
    {
     "data": {
      "text/plain": [
       "(550, 13)"
      ]
     },
     "execution_count": 28,
     "metadata": {},
     "output_type": "execute_result"
    }
   ],
   "source": [
    "data.shape"
   ]
  },
  {
   "cell_type": "markdown",
   "id": "4f4306f5",
   "metadata": {},
   "source": [
    "We have created pivote table loan_probability by taking mean of Loan_status. We used print() to print the table\n",
    "Next,create bar graphs to visualise both."
   ]
  },
  {
   "cell_type": "code",
   "execution_count": 29,
   "id": "af56b914",
   "metadata": {},
   "outputs": [
    {
     "data": {
      "text/html": [
       "<div>\n",
       "<style scoped>\n",
       "    .dataframe tbody tr th:only-of-type {\n",
       "        vertical-align: middle;\n",
       "    }\n",
       "\n",
       "    .dataframe tbody tr th {\n",
       "        vertical-align: top;\n",
       "    }\n",
       "\n",
       "    .dataframe thead th {\n",
       "        text-align: right;\n",
       "    }\n",
       "</style>\n",
       "<table border=\"1\" class=\"dataframe\">\n",
       "  <thead>\n",
       "    <tr style=\"text-align: right;\">\n",
       "      <th></th>\n",
       "      <th>Loan_ID</th>\n",
       "      <th>Gender</th>\n",
       "      <th>Married</th>\n",
       "      <th>Dependents</th>\n",
       "      <th>Education</th>\n",
       "      <th>Self_Employed</th>\n",
       "      <th>ApplicantIncome</th>\n",
       "      <th>CoapplicantIncome</th>\n",
       "      <th>LoanAmount</th>\n",
       "      <th>Loan_Amount_Term</th>\n",
       "      <th>Credit_History</th>\n",
       "      <th>Property_Area</th>\n",
       "      <th>Loan_Status</th>\n",
       "    </tr>\n",
       "  </thead>\n",
       "  <tbody>\n",
       "    <tr>\n",
       "      <th>0</th>\n",
       "      <td>LP002308</td>\n",
       "      <td>Male</td>\n",
       "      <td>Yes</td>\n",
       "      <td>0</td>\n",
       "      <td>Not Graduate</td>\n",
       "      <td>No</td>\n",
       "      <td>2167</td>\n",
       "      <td>2400.0</td>\n",
       "      <td>115.0</td>\n",
       "      <td>360.0</td>\n",
       "      <td>1.0</td>\n",
       "      <td>Urban</td>\n",
       "      <td>Y</td>\n",
       "    </tr>\n",
       "    <tr>\n",
       "      <th>1</th>\n",
       "      <td>LP002615</td>\n",
       "      <td>Male</td>\n",
       "      <td>Yes</td>\n",
       "      <td>2</td>\n",
       "      <td>Graduate</td>\n",
       "      <td>No</td>\n",
       "      <td>4865</td>\n",
       "      <td>5624.0</td>\n",
       "      <td>208.0</td>\n",
       "      <td>360.0</td>\n",
       "      <td>1.0</td>\n",
       "      <td>Semiurban</td>\n",
       "      <td>Y</td>\n",
       "    </tr>\n",
       "    <tr>\n",
       "      <th>2</th>\n",
       "      <td>LP002300</td>\n",
       "      <td>Female</td>\n",
       "      <td>No</td>\n",
       "      <td>0</td>\n",
       "      <td>Not Graduate</td>\n",
       "      <td>No</td>\n",
       "      <td>1963</td>\n",
       "      <td>0.0</td>\n",
       "      <td>53.0</td>\n",
       "      <td>360.0</td>\n",
       "      <td>1.0</td>\n",
       "      <td>Semiurban</td>\n",
       "      <td>Y</td>\n",
       "    </tr>\n",
       "    <tr>\n",
       "      <th>3</th>\n",
       "      <td>LP001138</td>\n",
       "      <td>Male</td>\n",
       "      <td>Yes</td>\n",
       "      <td>1</td>\n",
       "      <td>Graduate</td>\n",
       "      <td>No</td>\n",
       "      <td>5649</td>\n",
       "      <td>0.0</td>\n",
       "      <td>44.0</td>\n",
       "      <td>360.0</td>\n",
       "      <td>1.0</td>\n",
       "      <td>Urban</td>\n",
       "      <td>Y</td>\n",
       "    </tr>\n",
       "    <tr>\n",
       "      <th>4</th>\n",
       "      <td>LP001819</td>\n",
       "      <td>Male</td>\n",
       "      <td>Yes</td>\n",
       "      <td>1</td>\n",
       "      <td>Not Graduate</td>\n",
       "      <td>No</td>\n",
       "      <td>6608</td>\n",
       "      <td>0.0</td>\n",
       "      <td>137.0</td>\n",
       "      <td>180.0</td>\n",
       "      <td>1.0</td>\n",
       "      <td>Urban</td>\n",
       "      <td>Y</td>\n",
       "    </tr>\n",
       "  </tbody>\n",
       "</table>\n",
       "</div>"
      ],
      "text/plain": [
       "    Loan_ID  Gender Married Dependents     Education Self_Employed  \\\n",
       "0  LP002308    Male     Yes          0  Not Graduate            No   \n",
       "1  LP002615    Male     Yes          2      Graduate            No   \n",
       "2  LP002300  Female      No          0  Not Graduate            No   \n",
       "3  LP001138    Male     Yes          1      Graduate            No   \n",
       "4  LP001819    Male     Yes          1  Not Graduate            No   \n",
       "\n",
       "   ApplicantIncome  CoapplicantIncome  LoanAmount  Loan_Amount_Term  \\\n",
       "0             2167             2400.0       115.0             360.0   \n",
       "1             4865             5624.0       208.0             360.0   \n",
       "2             1963                0.0        53.0             360.0   \n",
       "3             5649                0.0        44.0             360.0   \n",
       "4             6608                0.0       137.0             180.0   \n",
       "\n",
       "   Credit_History Property_Area Loan_Status  \n",
       "0             1.0         Urban           Y  \n",
       "1             1.0     Semiurban           Y  \n",
       "2             1.0     Semiurban           Y  \n",
       "3             1.0         Urban           Y  \n",
       "4             1.0         Urban           Y  "
      ]
     },
     "execution_count": 29,
     "metadata": {},
     "output_type": "execute_result"
    }
   ],
   "source": [
    "data.head()"
   ]
  },
  {
   "cell_type": "code",
   "execution_count": 30,
   "id": "74c9cb79",
   "metadata": {},
   "outputs": [
    {
     "data": {
      "image/png": "[encoded data removed]",
      "text/plain": [
       "<Figure size 576x288 with 1 Axes>"
      ]
     },
     "metadata": {
      "needs_background": "light"
     },
     "output_type": "display_data"
    },
    {
     "data": {
      "image/png": "[encoded data removed]",
      "text/plain": [
       "<Figure size 432x288 with 1 Axes>"
      ]
     },
     "metadata": {
      "needs_background": "light"
     },
     "output_type": "display_data"
    }
   ],
   "source": [
    "fig = plt.figure(figsize=(8,4))\n",
    "ax1 = fig.add_subplot(121)\n",
    "ax1.set_xlabel('Credit_History')\n",
    "ax1.set_ylabel('Count of Applicants')\n",
    "ax1.set_title(\"Applicants by Credit_History\")\n",
    "credit_history.plot(kind='bar')\n",
    "plt.show()\n",
    "\n",
    "ax2 = fig.add_subplot(122)\n",
    "ax2.set_xlabel('Credit_History')\n",
    "ax2.set_ylabel('Probability of getting loan')\n",
    "ax2.set_title(\"Probability of getting loan by credit history\")\n",
    "loan_probability.plot(kind = 'bar')\n",
    "plt.show()"
   ]
  },
  {
   "cell_type": "markdown",
   "id": "e0f422d3",
   "metadata": {},
   "source": [
    "# Data Pre-processing"
   ]
  },
  {
   "cell_type": "markdown",
   "id": "4d7724da",
   "metadata": {},
   "source": [
    "Missing values\n",
    "Outliers and extreme values \n",
    "Dealing with non-numerical fields"
   ]
  },
  {
   "cell_type": "code",
   "execution_count": 31,
   "id": "8ae0c744",
   "metadata": {},
   "outputs": [
    {
     "data": {
      "text/plain": [
       "Male      435\n",
       "Female    103\n",
       "Name: Gender, dtype: int64"
      ]
     },
     "execution_count": 31,
     "metadata": {},
     "output_type": "execute_result"
    }
   ],
   "source": [
    "data['Gender'].value_counts()"
   ]
  },
  {
   "cell_type": "markdown",
   "id": "8d7335f2",
   "metadata": {},
   "source": [
    "# Filling in missing values by mean "
   ]
  },
  {
   "cell_type": "raw",
   "id": "e6aa35c5",
   "metadata": {},
   "source": [
    "As you can see there are several missing values exist in the dataset. For instance, Gender has 13 missing \n",
    "values and LoanAmount has 22 missing values. we need to deal with the missing values. There are various\n",
    "ways to deal with it. Here, we will use mean of LoanAmount to replace all it's missing values "
   ]
  },
  {
   "cell_type": "code",
   "execution_count": 32,
   "id": "97685c3f",
   "metadata": {},
   "outputs": [
    {
     "data": {
      "text/plain": [
       "Loan_ID               0\n",
       "Gender               12\n",
       "Married               3\n",
       "Dependents           14\n",
       "Education             0\n",
       "Self_Employed        28\n",
       "ApplicantIncome       0\n",
       "CoapplicantIncome     0\n",
       "LoanAmount           17\n",
       "Loan_Amount_Term     12\n",
       "Credit_History       43\n",
       "Property_Area         0\n",
       "Loan_Status           0\n",
       "dtype: int64"
      ]
     },
     "execution_count": 32,
     "metadata": {},
     "output_type": "execute_result"
    }
   ],
   "source": [
    "data.apply(lambda x: sum(x.isnull()),axis=0)"
   ]
  },
  {
   "cell_type": "code",
   "execution_count": 33,
   "id": "6b53096a",
   "metadata": {},
   "outputs": [
    {
     "data": {
      "text/html": [
       "<div>\n",
       "<style scoped>\n",
       "    .dataframe tbody tr th:only-of-type {\n",
       "        vertical-align: middle;\n",
       "    }\n",
       "\n",
       "    .dataframe tbody tr th {\n",
       "        vertical-align: top;\n",
       "    }\n",
       "\n",
       "    .dataframe thead th {\n",
       "        text-align: right;\n",
       "    }\n",
       "</style>\n",
       "<table border=\"1\" class=\"dataframe\">\n",
       "  <thead>\n",
       "    <tr style=\"text-align: right;\">\n",
       "      <th></th>\n",
       "      <th>Loan_ID</th>\n",
       "      <th>Gender</th>\n",
       "      <th>Married</th>\n",
       "      <th>Dependents</th>\n",
       "      <th>Education</th>\n",
       "      <th>Self_Employed</th>\n",
       "      <th>ApplicantIncome</th>\n",
       "      <th>CoapplicantIncome</th>\n",
       "      <th>LoanAmount</th>\n",
       "      <th>Loan_Amount_Term</th>\n",
       "      <th>Credit_History</th>\n",
       "      <th>Property_Area</th>\n",
       "      <th>Loan_Status</th>\n",
       "    </tr>\n",
       "  </thead>\n",
       "  <tbody>\n",
       "    <tr>\n",
       "      <th>0</th>\n",
       "      <td>LP002308</td>\n",
       "      <td>Male</td>\n",
       "      <td>Yes</td>\n",
       "      <td>0</td>\n",
       "      <td>Not Graduate</td>\n",
       "      <td>No</td>\n",
       "      <td>2167</td>\n",
       "      <td>2400.0</td>\n",
       "      <td>115.0</td>\n",
       "      <td>360.0</td>\n",
       "      <td>1.0</td>\n",
       "      <td>Urban</td>\n",
       "      <td>Y</td>\n",
       "    </tr>\n",
       "    <tr>\n",
       "      <th>1</th>\n",
       "      <td>LP002615</td>\n",
       "      <td>Male</td>\n",
       "      <td>Yes</td>\n",
       "      <td>2</td>\n",
       "      <td>Graduate</td>\n",
       "      <td>No</td>\n",
       "      <td>4865</td>\n",
       "      <td>5624.0</td>\n",
       "      <td>208.0</td>\n",
       "      <td>360.0</td>\n",
       "      <td>1.0</td>\n",
       "      <td>Semiurban</td>\n",
       "      <td>Y</td>\n",
       "    </tr>\n",
       "    <tr>\n",
       "      <th>2</th>\n",
       "      <td>LP002300</td>\n",
       "      <td>Female</td>\n",
       "      <td>No</td>\n",
       "      <td>0</td>\n",
       "      <td>Not Graduate</td>\n",
       "      <td>No</td>\n",
       "      <td>1963</td>\n",
       "      <td>0.0</td>\n",
       "      <td>53.0</td>\n",
       "      <td>360.0</td>\n",
       "      <td>1.0</td>\n",
       "      <td>Semiurban</td>\n",
       "      <td>Y</td>\n",
       "    </tr>\n",
       "    <tr>\n",
       "      <th>3</th>\n",
       "      <td>LP001138</td>\n",
       "      <td>Male</td>\n",
       "      <td>Yes</td>\n",
       "      <td>1</td>\n",
       "      <td>Graduate</td>\n",
       "      <td>No</td>\n",
       "      <td>5649</td>\n",
       "      <td>0.0</td>\n",
       "      <td>44.0</td>\n",
       "      <td>360.0</td>\n",
       "      <td>1.0</td>\n",
       "      <td>Urban</td>\n",
       "      <td>Y</td>\n",
       "    </tr>\n",
       "    <tr>\n",
       "      <th>4</th>\n",
       "      <td>LP001819</td>\n",
       "      <td>Male</td>\n",
       "      <td>Yes</td>\n",
       "      <td>1</td>\n",
       "      <td>Not Graduate</td>\n",
       "      <td>No</td>\n",
       "      <td>6608</td>\n",
       "      <td>0.0</td>\n",
       "      <td>137.0</td>\n",
       "      <td>180.0</td>\n",
       "      <td>1.0</td>\n",
       "      <td>Urban</td>\n",
       "      <td>Y</td>\n",
       "    </tr>\n",
       "  </tbody>\n",
       "</table>\n",
       "</div>"
      ],
      "text/plain": [
       "    Loan_ID  Gender Married Dependents     Education Self_Employed  \\\n",
       "0  LP002308    Male     Yes          0  Not Graduate            No   \n",
       "1  LP002615    Male     Yes          2      Graduate            No   \n",
       "2  LP002300  Female      No          0  Not Graduate            No   \n",
       "3  LP001138    Male     Yes          1      Graduate            No   \n",
       "4  LP001819    Male     Yes          1  Not Graduate            No   \n",
       "\n",
       "   ApplicantIncome  CoapplicantIncome  LoanAmount  Loan_Amount_Term  \\\n",
       "0             2167             2400.0       115.0             360.0   \n",
       "1             4865             5624.0       208.0             360.0   \n",
       "2             1963                0.0        53.0             360.0   \n",
       "3             5649                0.0        44.0             360.0   \n",
       "4             6608                0.0       137.0             180.0   \n",
       "\n",
       "   Credit_History Property_Area Loan_Status  \n",
       "0             1.0         Urban           Y  \n",
       "1             1.0     Semiurban           Y  \n",
       "2             1.0     Semiurban           Y  \n",
       "3             1.0         Urban           Y  \n",
       "4             1.0         Urban           Y  "
      ]
     },
     "execution_count": 33,
     "metadata": {},
     "output_type": "execute_result"
    }
   ],
   "source": [
    "data.head()"
   ]
  },
  {
   "cell_type": "code",
   "execution_count": 34,
   "id": "400c9815",
   "metadata": {},
   "outputs": [],
   "source": [
    "data['LoanAmount'].fillna(data['LoanAmount'].mean(), inplace = True)"
   ]
  },
  {
   "cell_type": "code",
   "execution_count": 35,
   "id": "30651ac4",
   "metadata": {},
   "outputs": [
    {
     "data": {
      "text/html": [
       "<div>\n",
       "<style scoped>\n",
       "    .dataframe tbody tr th:only-of-type {\n",
       "        vertical-align: middle;\n",
       "    }\n",
       "\n",
       "    .dataframe tbody tr th {\n",
       "        vertical-align: top;\n",
       "    }\n",
       "\n",
       "    .dataframe thead th {\n",
       "        text-align: right;\n",
       "    }\n",
       "</style>\n",
       "<table border=\"1\" class=\"dataframe\">\n",
       "  <thead>\n",
       "    <tr style=\"text-align: right;\">\n",
       "      <th></th>\n",
       "      <th>Loan_ID</th>\n",
       "      <th>Gender</th>\n",
       "      <th>Married</th>\n",
       "      <th>Dependents</th>\n",
       "      <th>Education</th>\n",
       "      <th>Self_Employed</th>\n",
       "      <th>ApplicantIncome</th>\n",
       "      <th>CoapplicantIncome</th>\n",
       "      <th>LoanAmount</th>\n",
       "      <th>Loan_Amount_Term</th>\n",
       "      <th>Credit_History</th>\n",
       "      <th>Property_Area</th>\n",
       "      <th>Loan_Status</th>\n",
       "    </tr>\n",
       "  </thead>\n",
       "  <tbody>\n",
       "    <tr>\n",
       "      <th>0</th>\n",
       "      <td>LP002308</td>\n",
       "      <td>Male</td>\n",
       "      <td>Yes</td>\n",
       "      <td>0</td>\n",
       "      <td>Not Graduate</td>\n",
       "      <td>No</td>\n",
       "      <td>2167</td>\n",
       "      <td>2400.0</td>\n",
       "      <td>115.0</td>\n",
       "      <td>360.0</td>\n",
       "      <td>1.0</td>\n",
       "      <td>Urban</td>\n",
       "      <td>Y</td>\n",
       "    </tr>\n",
       "    <tr>\n",
       "      <th>1</th>\n",
       "      <td>LP002615</td>\n",
       "      <td>Male</td>\n",
       "      <td>Yes</td>\n",
       "      <td>2</td>\n",
       "      <td>Graduate</td>\n",
       "      <td>No</td>\n",
       "      <td>4865</td>\n",
       "      <td>5624.0</td>\n",
       "      <td>208.0</td>\n",
       "      <td>360.0</td>\n",
       "      <td>1.0</td>\n",
       "      <td>Semiurban</td>\n",
       "      <td>Y</td>\n",
       "    </tr>\n",
       "    <tr>\n",
       "      <th>2</th>\n",
       "      <td>LP002300</td>\n",
       "      <td>Female</td>\n",
       "      <td>No</td>\n",
       "      <td>0</td>\n",
       "      <td>Not Graduate</td>\n",
       "      <td>No</td>\n",
       "      <td>1963</td>\n",
       "      <td>0.0</td>\n",
       "      <td>53.0</td>\n",
       "      <td>360.0</td>\n",
       "      <td>1.0</td>\n",
       "      <td>Semiurban</td>\n",
       "      <td>Y</td>\n",
       "    </tr>\n",
       "    <tr>\n",
       "      <th>3</th>\n",
       "      <td>LP001138</td>\n",
       "      <td>Male</td>\n",
       "      <td>Yes</td>\n",
       "      <td>1</td>\n",
       "      <td>Graduate</td>\n",
       "      <td>No</td>\n",
       "      <td>5649</td>\n",
       "      <td>0.0</td>\n",
       "      <td>44.0</td>\n",
       "      <td>360.0</td>\n",
       "      <td>1.0</td>\n",
       "      <td>Urban</td>\n",
       "      <td>Y</td>\n",
       "    </tr>\n",
       "    <tr>\n",
       "      <th>4</th>\n",
       "      <td>LP001819</td>\n",
       "      <td>Male</td>\n",
       "      <td>Yes</td>\n",
       "      <td>1</td>\n",
       "      <td>Not Graduate</td>\n",
       "      <td>No</td>\n",
       "      <td>6608</td>\n",
       "      <td>0.0</td>\n",
       "      <td>137.0</td>\n",
       "      <td>180.0</td>\n",
       "      <td>1.0</td>\n",
       "      <td>Urban</td>\n",
       "      <td>Y</td>\n",
       "    </tr>\n",
       "  </tbody>\n",
       "</table>\n",
       "</div>"
      ],
      "text/plain": [
       "    Loan_ID  Gender Married Dependents     Education Self_Employed  \\\n",
       "0  LP002308    Male     Yes          0  Not Graduate            No   \n",
       "1  LP002615    Male     Yes          2      Graduate            No   \n",
       "2  LP002300  Female      No          0  Not Graduate            No   \n",
       "3  LP001138    Male     Yes          1      Graduate            No   \n",
       "4  LP001819    Male     Yes          1  Not Graduate            No   \n",
       "\n",
       "   ApplicantIncome  CoapplicantIncome  LoanAmount  Loan_Amount_Term  \\\n",
       "0             2167             2400.0       115.0             360.0   \n",
       "1             4865             5624.0       208.0             360.0   \n",
       "2             1963                0.0        53.0             360.0   \n",
       "3             5649                0.0        44.0             360.0   \n",
       "4             6608                0.0       137.0             180.0   \n",
       "\n",
       "   Credit_History Property_Area Loan_Status  \n",
       "0             1.0         Urban           Y  \n",
       "1             1.0     Semiurban           Y  \n",
       "2             1.0     Semiurban           Y  \n",
       "3             1.0         Urban           Y  \n",
       "4             1.0         Urban           Y  "
      ]
     },
     "execution_count": 35,
     "metadata": {},
     "output_type": "execute_result"
    }
   ],
   "source": [
    "data.head()"
   ]
  },
  {
   "cell_type": "code",
   "execution_count": 36,
   "id": "02678c13",
   "metadata": {},
   "outputs": [
    {
     "data": {
      "text/plain": [
       "Loan_ID               0\n",
       "Gender               12\n",
       "Married               3\n",
       "Dependents           14\n",
       "Education             0\n",
       "Self_Employed        28\n",
       "ApplicantIncome       0\n",
       "CoapplicantIncome     0\n",
       "LoanAmount            0\n",
       "Loan_Amount_Term     12\n",
       "Credit_History       43\n",
       "Property_Area         0\n",
       "Loan_Status           0\n",
       "dtype: int64"
      ]
     },
     "execution_count": 36,
     "metadata": {},
     "output_type": "execute_result"
    }
   ],
   "source": [
    "data.apply(lambda x: sum(x.isnull()), axis =0)"
   ]
  },
  {
   "cell_type": "code",
   "execution_count": 37,
   "id": "200e905b",
   "metadata": {},
   "outputs": [
    {
     "data": {
      "text/plain": [
       "(550, 13)"
      ]
     },
     "execution_count": 37,
     "metadata": {},
     "output_type": "execute_result"
    }
   ],
   "source": [
    "data.shape"
   ]
  },
  {
   "cell_type": "code",
   "execution_count": 38,
   "id": "364370da",
   "metadata": {},
   "outputs": [],
   "source": [
    "data.to_csv('new_train.csv')"
   ]
  },
  {
   "cell_type": "raw",
   "id": "5feccadb",
   "metadata": {},
   "source": [
    "It will be interseting to know how much loan amount could be offered to which sort of people based on their\n",
    "'Education' and 'Self Employed' statues?\n",
    "\n",
    "For this, we'll use boxplot and group by multiple variables - 'Education' and 'Self_Employed'.\n",
    "\n",
    "Note: LoanAmount is a numeric attribute. Wheras, Group by can be applied on numeric and non-numeric attributes"
   ]
  },
  {
   "cell_type": "code",
   "execution_count": 39,
   "id": "690bc2db",
   "metadata": {},
   "outputs": [
    {
     "data": {
      "text/plain": [
       "<AxesSubplot:title={'center':'LoanAmount'}, xlabel='[Education, Self_Employed]'>"
      ]
     },
     "execution_count": 39,
     "metadata": {},
     "output_type": "execute_result"
    },
    {
     "data": {
      "image/png": "[encoded data removed]",
      "text/plain": [
       "<Figure size 432x288 with 1 Axes>"
      ]
     },
     "metadata": {
      "needs_background": "light"
     },
     "output_type": "display_data"
    }
   ],
   "source": [
    "data.boxplot(column='LoanAmount', by = ['Education','Self_Employed'],\n",
    "             grid = False, rot = 45, fontsize = 10)"
   ]
  },
  {
   "cell_type": "markdown",
   "id": "21a7c100",
   "metadata": {},
   "source": [
    "# Impute the values"
   ]
  },
  {
   "cell_type": "markdown",
   "id": "46d4776c",
   "metadata": {},
   "source": [
    "The above boxplot gives some good insight of each group receiving the loan amount. Data points that form a \n",
    "different patterns are outliers - in circles. We'll deal with the outliers later, for now let's observe some of the\n",
    "variations which are visible in the median of loan amount. And, we have seen that Self_Employed has 32\n",
    "missing values. This could be a possible reason of these variations.\n",
    "\n",
    "So let's deal with this by imputing  the values.\n",
    "\n",
    "Before that let's fill in the missing values by some suitable values - not mean this time!"
   ]
  },
  {
   "cell_type": "code",
   "execution_count": 40,
   "id": "a3e1ee5b",
   "metadata": {},
   "outputs": [
    {
     "data": {
      "text/plain": [
       "No     447\n",
       "Yes     75\n",
       "Name: Self_Employed, dtype: int64"
      ]
     },
     "execution_count": 40,
     "metadata": {},
     "output_type": "execute_result"
    }
   ],
   "source": [
    "data['Self_Employed'].value_counts()"
   ]
  },
  {
   "cell_type": "markdown",
   "id": "223977f0",
   "metadata": {},
   "source": [
    "From the frequence table of Self_Employed, we can see that around 86% values are “No”. Therefore, it is safe to impute the missing values as “No” as there is a high probability of success"
   ]
  },
  {
   "cell_type": "code",
   "execution_count": 41,
   "id": "a84d35df",
   "metadata": {},
   "outputs": [],
   "source": [
    "data['Self_Employed'].fillna('No', inplace=True)"
   ]
  },
  {
   "cell_type": "code",
   "execution_count": 45,
   "id": "20f20be8",
   "metadata": {},
   "outputs": [
    {
     "data": {
      "text/plain": [
       "No     475\n",
       "Yes     75\n",
       "Name: Self_Employed, dtype: int64"
      ]
     },
     "execution_count": 45,
     "metadata": {},
     "output_type": "execute_result"
    }
   ],
   "source": [
    "data['Self_Employed'].value_counts()"
   ]
  },
  {
   "cell_type": "code",
   "execution_count": 46,
   "id": "567aeb09",
   "metadata": {},
   "outputs": [
    {
     "data": {
      "text/plain": [
       "Loan_ID               0\n",
       "Gender               12\n",
       "Married               3\n",
       "Dependents           14\n",
       "Education             0\n",
       "Self_Employed         0\n",
       "ApplicantIncome       0\n",
       "CoapplicantIncome     0\n",
       "LoanAmount            0\n",
       "Loan_Amount_Term     12\n",
       "Credit_History       43\n",
       "Property_Area         0\n",
       "Loan_Status           0\n",
       "dtype: int64"
      ]
     },
     "execution_count": 46,
     "metadata": {},
     "output_type": "execute_result"
    }
   ],
   "source": [
    "data.apply(lambda x: sum(x.isnull()), axis=0)"
   ]
  },
  {
   "cell_type": "markdown",
   "id": "f7514c47",
   "metadata": {},
   "source": [
    "# Dealing with outliers"
   ]
  },
  {
   "cell_type": "markdown",
   "id": "2dd7cce4",
   "metadata": {},
   "source": [
    "Extreme values are the minimum and the maximum values in the dataset. Values beyond extreme values are considered as outliers.\n",
    "Outliers are the data points those are far away from all other data point and represent unusual patterns in the dataset.\n",
    "Depending on the problem domain, outliers could be considered as an activity of interest (e.g., a malicious attack in a network) or could be ignored completely (e.g., times of the day when the network traffic are high).\n",
    "Most of the learning algorithms are sensitive to outliers. Outliers can negatively influence and distort the result.Therefore, it is important to treat them. Outliers can be treated similar to missing values i.e., by removing or replacing them by appropriate values. It is also possible to take log transformation of outliers to reduce its influence. In the following steps, we will see how to nullify outliers' impact by taking log transformation.\n",
    "To better understand this concept, let's visualise ‘LoanAmount’ before and after treating outliers of‘LoanAmount"
   ]
  },
  {
   "cell_type": "code",
   "execution_count": 47,
   "id": "5de447c6",
   "metadata": {},
   "outputs": [
    {
     "data": {
      "text/html": [
       "<div>\n",
       "<style scoped>\n",
       "    .dataframe tbody tr th:only-of-type {\n",
       "        vertical-align: middle;\n",
       "    }\n",
       "\n",
       "    .dataframe tbody tr th {\n",
       "        vertical-align: top;\n",
       "    }\n",
       "\n",
       "    .dataframe thead th {\n",
       "        text-align: right;\n",
       "    }\n",
       "</style>\n",
       "<table border=\"1\" class=\"dataframe\">\n",
       "  <thead>\n",
       "    <tr style=\"text-align: right;\">\n",
       "      <th></th>\n",
       "      <th>ApplicantIncome</th>\n",
       "      <th>CoapplicantIncome</th>\n",
       "      <th>LoanAmount</th>\n",
       "      <th>Loan_Amount_Term</th>\n",
       "      <th>Credit_History</th>\n",
       "    </tr>\n",
       "  </thead>\n",
       "  <tbody>\n",
       "    <tr>\n",
       "      <th>count</th>\n",
       "      <td>550.000000</td>\n",
       "      <td>550.000000</td>\n",
       "      <td>550.000000</td>\n",
       "      <td>538.000000</td>\n",
       "      <td>507.000000</td>\n",
       "    </tr>\n",
       "    <tr>\n",
       "      <th>mean</th>\n",
       "      <td>5465.503636</td>\n",
       "      <td>1608.574182</td>\n",
       "      <td>146.399625</td>\n",
       "      <td>342.758364</td>\n",
       "      <td>0.832347</td>\n",
       "    </tr>\n",
       "    <tr>\n",
       "      <th>std</th>\n",
       "      <td>6359.238671</td>\n",
       "      <td>2526.718424</td>\n",
       "      <td>85.237394</td>\n",
       "      <td>63.949040</td>\n",
       "      <td>0.373927</td>\n",
       "    </tr>\n",
       "    <tr>\n",
       "      <th>min</th>\n",
       "      <td>150.000000</td>\n",
       "      <td>0.000000</td>\n",
       "      <td>9.000000</td>\n",
       "      <td>12.000000</td>\n",
       "      <td>0.000000</td>\n",
       "    </tr>\n",
       "    <tr>\n",
       "      <th>25%</th>\n",
       "      <td>2843.000000</td>\n",
       "      <td>0.000000</td>\n",
       "      <td>102.000000</td>\n",
       "      <td>360.000000</td>\n",
       "      <td>1.000000</td>\n",
       "    </tr>\n",
       "    <tr>\n",
       "      <th>50%</th>\n",
       "      <td>3787.500000</td>\n",
       "      <td>1257.500000</td>\n",
       "      <td>130.000000</td>\n",
       "      <td>360.000000</td>\n",
       "      <td>1.000000</td>\n",
       "    </tr>\n",
       "    <tr>\n",
       "      <th>75%</th>\n",
       "      <td>5741.000000</td>\n",
       "      <td>2324.000000</td>\n",
       "      <td>165.000000</td>\n",
       "      <td>360.000000</td>\n",
       "      <td>1.000000</td>\n",
       "    </tr>\n",
       "    <tr>\n",
       "      <th>max</th>\n",
       "      <td>81000.000000</td>\n",
       "      <td>33837.000000</td>\n",
       "      <td>700.000000</td>\n",
       "      <td>480.000000</td>\n",
       "      <td>1.000000</td>\n",
       "    </tr>\n",
       "  </tbody>\n",
       "</table>\n",
       "</div>"
      ],
      "text/plain": [
       "       ApplicantIncome  CoapplicantIncome  LoanAmount  Loan_Amount_Term  \\\n",
       "count       550.000000         550.000000  550.000000        538.000000   \n",
       "mean       5465.503636        1608.574182  146.399625        342.758364   \n",
       "std        6359.238671        2526.718424   85.237394         63.949040   \n",
       "min         150.000000           0.000000    9.000000         12.000000   \n",
       "25%        2843.000000           0.000000  102.000000        360.000000   \n",
       "50%        3787.500000        1257.500000  130.000000        360.000000   \n",
       "75%        5741.000000        2324.000000  165.000000        360.000000   \n",
       "max       81000.000000       33837.000000  700.000000        480.000000   \n",
       "\n",
       "       Credit_History  \n",
       "count      507.000000  \n",
       "mean         0.832347  \n",
       "std          0.373927  \n",
       "min          0.000000  \n",
       "25%          1.000000  \n",
       "50%          1.000000  \n",
       "75%          1.000000  \n",
       "max          1.000000  "
      ]
     },
     "execution_count": 47,
     "metadata": {},
     "output_type": "execute_result"
    }
   ],
   "source": [
    "data.describe()"
   ]
  },
  {
   "cell_type": "code",
   "execution_count": 48,
   "id": "e441e51b",
   "metadata": {},
   "outputs": [
    {
     "data": {
      "image/png": "[encoded data removed]",
      "text/plain": [
       "<Figure size 432x288 with 1 Axes>"
      ]
     },
     "metadata": {
      "needs_background": "light"
     },
     "output_type": "display_data"
    }
   ],
   "source": [
    "plt.hist(data['LoanAmount'], 20, facecolor='b')\n",
    "plt.ylabel('Loan Amount')\n",
    "plt.title('Histogram for loan amount')\n",
    "plt.grid(True)\n",
    "plt.show()"
   ]
  },
  {
   "cell_type": "code",
   "execution_count": 49,
   "id": "0c4a68c1",
   "metadata": {},
   "outputs": [
    {
     "data": {
      "text/plain": [
       "<AxesSubplot:>"
      ]
     },
     "execution_count": 49,
     "metadata": {},
     "output_type": "execute_result"
    },
    {
     "data": {
      "image/png": "[encoded data removed]",
      "text/plain": [
       "<Figure size 432x288 with 1 Axes>"
      ]
     },
     "metadata": {
      "needs_background": "light"
     },
     "output_type": "display_data"
    }
   ],
   "source": [
    "data.boxplot(column=\"LoanAmount\")"
   ]
  },
  {
   "cell_type": "code",
   "execution_count": 50,
   "id": "903196f4",
   "metadata": {},
   "outputs": [],
   "source": [
    "data[\"LoanAmount_log\"] = np.log(data['LoanAmount'])\n",
    "#data[\"LoanAmount_log\"].hist(bins = 20)"
   ]
  },
  {
   "cell_type": "code",
   "execution_count": 51,
   "id": "e02c4a09",
   "metadata": {},
   "outputs": [
    {
     "data": {
      "image/png": "[encoded data removed]",
      "text/plain": [
       "<Figure size 432x288 with 1 Axes>"
      ]
     },
     "metadata": {
      "needs_background": "light"
     },
     "output_type": "display_data"
    }
   ],
   "source": [
    "plt.hist(data['LoanAmount_log'], 20, facecolor='b')\n",
    "plt.xlabel(\"Loan Amount\")\n",
    "plt.ylabel(\"Count\")\n",
    "plt.title('Histogram for loan amount')\n",
    "plt.grid(True)\n",
    "plt.show()"
   ]
  },
  {
   "cell_type": "code",
   "execution_count": 52,
   "id": "c83397af",
   "metadata": {},
   "outputs": [
    {
     "data": {
      "text/plain": [
       "<AxesSubplot:>"
      ]
     },
     "execution_count": 52,
     "metadata": {},
     "output_type": "execute_result"
    },
    {
     "data": {
      "image/png": "[encoded data removed]",
      "text/plain": [
       "<Figure size 432x288 with 1 Axes>"
      ]
     },
     "metadata": {
      "needs_background": "light"
     },
     "output_type": "display_data"
    }
   ],
   "source": [
    "data.boxplot(column = \"LoanAmount_log\")"
   ]
  },
  {
   "cell_type": "code",
   "execution_count": 53,
   "id": "5c618b02",
   "metadata": {},
   "outputs": [
    {
     "data": {
      "text/html": [
       "<div>\n",
       "<style scoped>\n",
       "    .dataframe tbody tr th:only-of-type {\n",
       "        vertical-align: middle;\n",
       "    }\n",
       "\n",
       "    .dataframe tbody tr th {\n",
       "        vertical-align: top;\n",
       "    }\n",
       "\n",
       "    .dataframe thead th {\n",
       "        text-align: right;\n",
       "    }\n",
       "</style>\n",
       "<table border=\"1\" class=\"dataframe\">\n",
       "  <thead>\n",
       "    <tr style=\"text-align: right;\">\n",
       "      <th></th>\n",
       "      <th>Loan_ID</th>\n",
       "      <th>Gender</th>\n",
       "      <th>Married</th>\n",
       "      <th>Dependents</th>\n",
       "      <th>Education</th>\n",
       "      <th>Self_Employed</th>\n",
       "      <th>ApplicantIncome</th>\n",
       "      <th>CoapplicantIncome</th>\n",
       "      <th>LoanAmount</th>\n",
       "      <th>Loan_Amount_Term</th>\n",
       "      <th>Credit_History</th>\n",
       "      <th>Property_Area</th>\n",
       "      <th>Loan_Status</th>\n",
       "      <th>LoanAmount_log</th>\n",
       "    </tr>\n",
       "  </thead>\n",
       "  <tbody>\n",
       "    <tr>\n",
       "      <th>0</th>\n",
       "      <td>LP002308</td>\n",
       "      <td>Male</td>\n",
       "      <td>Yes</td>\n",
       "      <td>0</td>\n",
       "      <td>Not Graduate</td>\n",
       "      <td>No</td>\n",
       "      <td>2167</td>\n",
       "      <td>2400.0</td>\n",
       "      <td>115.0</td>\n",
       "      <td>360.0</td>\n",
       "      <td>1.0</td>\n",
       "      <td>Urban</td>\n",
       "      <td>Y</td>\n",
       "      <td>4.744932</td>\n",
       "    </tr>\n",
       "    <tr>\n",
       "      <th>1</th>\n",
       "      <td>LP002615</td>\n",
       "      <td>Male</td>\n",
       "      <td>Yes</td>\n",
       "      <td>2</td>\n",
       "      <td>Graduate</td>\n",
       "      <td>No</td>\n",
       "      <td>4865</td>\n",
       "      <td>5624.0</td>\n",
       "      <td>208.0</td>\n",
       "      <td>360.0</td>\n",
       "      <td>1.0</td>\n",
       "      <td>Semiurban</td>\n",
       "      <td>Y</td>\n",
       "      <td>5.337538</td>\n",
       "    </tr>\n",
       "    <tr>\n",
       "      <th>2</th>\n",
       "      <td>LP002300</td>\n",
       "      <td>Female</td>\n",
       "      <td>No</td>\n",
       "      <td>0</td>\n",
       "      <td>Not Graduate</td>\n",
       "      <td>No</td>\n",
       "      <td>1963</td>\n",
       "      <td>0.0</td>\n",
       "      <td>53.0</td>\n",
       "      <td>360.0</td>\n",
       "      <td>1.0</td>\n",
       "      <td>Semiurban</td>\n",
       "      <td>Y</td>\n",
       "      <td>3.970292</td>\n",
       "    </tr>\n",
       "    <tr>\n",
       "      <th>3</th>\n",
       "      <td>LP001138</td>\n",
       "      <td>Male</td>\n",
       "      <td>Yes</td>\n",
       "      <td>1</td>\n",
       "      <td>Graduate</td>\n",
       "      <td>No</td>\n",
       "      <td>5649</td>\n",
       "      <td>0.0</td>\n",
       "      <td>44.0</td>\n",
       "      <td>360.0</td>\n",
       "      <td>1.0</td>\n",
       "      <td>Urban</td>\n",
       "      <td>Y</td>\n",
       "      <td>3.784190</td>\n",
       "    </tr>\n",
       "    <tr>\n",
       "      <th>4</th>\n",
       "      <td>LP001819</td>\n",
       "      <td>Male</td>\n",
       "      <td>Yes</td>\n",
       "      <td>1</td>\n",
       "      <td>Not Graduate</td>\n",
       "      <td>No</td>\n",
       "      <td>6608</td>\n",
       "      <td>0.0</td>\n",
       "      <td>137.0</td>\n",
       "      <td>180.0</td>\n",
       "      <td>1.0</td>\n",
       "      <td>Urban</td>\n",
       "      <td>Y</td>\n",
       "      <td>4.919981</td>\n",
       "    </tr>\n",
       "  </tbody>\n",
       "</table>\n",
       "</div>"
      ],
      "text/plain": [
       "    Loan_ID  Gender Married Dependents     Education Self_Employed  \\\n",
       "0  LP002308    Male     Yes          0  Not Graduate            No   \n",
       "1  LP002615    Male     Yes          2      Graduate            No   \n",
       "2  LP002300  Female      No          0  Not Graduate            No   \n",
       "3  LP001138    Male     Yes          1      Graduate            No   \n",
       "4  LP001819    Male     Yes          1  Not Graduate            No   \n",
       "\n",
       "   ApplicantIncome  CoapplicantIncome  LoanAmount  Loan_Amount_Term  \\\n",
       "0             2167             2400.0       115.0             360.0   \n",
       "1             4865             5624.0       208.0             360.0   \n",
       "2             1963                0.0        53.0             360.0   \n",
       "3             5649                0.0        44.0             360.0   \n",
       "4             6608                0.0       137.0             180.0   \n",
       "\n",
       "   Credit_History Property_Area Loan_Status  LoanAmount_log  \n",
       "0             1.0         Urban           Y        4.744932  \n",
       "1             1.0     Semiurban           Y        5.337538  \n",
       "2             1.0     Semiurban           Y        3.970292  \n",
       "3             1.0         Urban           Y        3.784190  \n",
       "4             1.0         Urban           Y        4.919981  "
      ]
     },
     "execution_count": 53,
     "metadata": {},
     "output_type": "execute_result"
    }
   ],
   "source": [
    "data.head()"
   ]
  },
  {
   "cell_type": "code",
   "execution_count": 54,
   "id": "2121a765",
   "metadata": {},
   "outputs": [
    {
     "data": {
      "text/html": [
       "<div>\n",
       "<style scoped>\n",
       "    .dataframe tbody tr th:only-of-type {\n",
       "        vertical-align: middle;\n",
       "    }\n",
       "\n",
       "    .dataframe tbody tr th {\n",
       "        vertical-align: top;\n",
       "    }\n",
       "\n",
       "    .dataframe thead th {\n",
       "        text-align: right;\n",
       "    }\n",
       "</style>\n",
       "<table border=\"1\" class=\"dataframe\">\n",
       "  <thead>\n",
       "    <tr style=\"text-align: right;\">\n",
       "      <th></th>\n",
       "      <th>ApplicantIncome</th>\n",
       "      <th>CoapplicantIncome</th>\n",
       "      <th>LoanAmount</th>\n",
       "      <th>Loan_Amount_Term</th>\n",
       "      <th>Credit_History</th>\n",
       "      <th>LoanAmount_log</th>\n",
       "    </tr>\n",
       "  </thead>\n",
       "  <tbody>\n",
       "    <tr>\n",
       "      <th>count</th>\n",
       "      <td>550.000000</td>\n",
       "      <td>550.000000</td>\n",
       "      <td>550.000000</td>\n",
       "      <td>538.000000</td>\n",
       "      <td>507.000000</td>\n",
       "      <td>550.000000</td>\n",
       "    </tr>\n",
       "    <tr>\n",
       "      <th>mean</th>\n",
       "      <td>5465.503636</td>\n",
       "      <td>1608.574182</td>\n",
       "      <td>146.399625</td>\n",
       "      <td>342.758364</td>\n",
       "      <td>0.832347</td>\n",
       "      <td>4.858710</td>\n",
       "    </tr>\n",
       "    <tr>\n",
       "      <th>std</th>\n",
       "      <td>6359.238671</td>\n",
       "      <td>2526.718424</td>\n",
       "      <td>85.237394</td>\n",
       "      <td>63.949040</td>\n",
       "      <td>0.373927</td>\n",
       "      <td>0.504833</td>\n",
       "    </tr>\n",
       "    <tr>\n",
       "      <th>min</th>\n",
       "      <td>150.000000</td>\n",
       "      <td>0.000000</td>\n",
       "      <td>9.000000</td>\n",
       "      <td>12.000000</td>\n",
       "      <td>0.000000</td>\n",
       "      <td>2.197225</td>\n",
       "    </tr>\n",
       "    <tr>\n",
       "      <th>25%</th>\n",
       "      <td>2843.000000</td>\n",
       "      <td>0.000000</td>\n",
       "      <td>102.000000</td>\n",
       "      <td>360.000000</td>\n",
       "      <td>1.000000</td>\n",
       "      <td>4.624973</td>\n",
       "    </tr>\n",
       "    <tr>\n",
       "      <th>50%</th>\n",
       "      <td>3787.500000</td>\n",
       "      <td>1257.500000</td>\n",
       "      <td>130.000000</td>\n",
       "      <td>360.000000</td>\n",
       "      <td>1.000000</td>\n",
       "      <td>4.867534</td>\n",
       "    </tr>\n",
       "    <tr>\n",
       "      <th>75%</th>\n",
       "      <td>5741.000000</td>\n",
       "      <td>2324.000000</td>\n",
       "      <td>165.000000</td>\n",
       "      <td>360.000000</td>\n",
       "      <td>1.000000</td>\n",
       "      <td>5.105945</td>\n",
       "    </tr>\n",
       "    <tr>\n",
       "      <th>max</th>\n",
       "      <td>81000.000000</td>\n",
       "      <td>33837.000000</td>\n",
       "      <td>700.000000</td>\n",
       "      <td>480.000000</td>\n",
       "      <td>1.000000</td>\n",
       "      <td>6.551080</td>\n",
       "    </tr>\n",
       "  </tbody>\n",
       "</table>\n",
       "</div>"
      ],
      "text/plain": [
       "       ApplicantIncome  CoapplicantIncome  LoanAmount  Loan_Amount_Term  \\\n",
       "count       550.000000         550.000000  550.000000        538.000000   \n",
       "mean       5465.503636        1608.574182  146.399625        342.758364   \n",
       "std        6359.238671        2526.718424   85.237394         63.949040   \n",
       "min         150.000000           0.000000    9.000000         12.000000   \n",
       "25%        2843.000000           0.000000  102.000000        360.000000   \n",
       "50%        3787.500000        1257.500000  130.000000        360.000000   \n",
       "75%        5741.000000        2324.000000  165.000000        360.000000   \n",
       "max       81000.000000       33837.000000  700.000000        480.000000   \n",
       "\n",
       "       Credit_History  LoanAmount_log  \n",
       "count      507.000000      550.000000  \n",
       "mean         0.832347        4.858710  \n",
       "std          0.373927        0.504833  \n",
       "min          0.000000        2.197225  \n",
       "25%          1.000000        4.624973  \n",
       "50%          1.000000        4.867534  \n",
       "75%          1.000000        5.105945  \n",
       "max          1.000000        6.551080  "
      ]
     },
     "execution_count": 54,
     "metadata": {},
     "output_type": "execute_result"
    }
   ],
   "source": [
    "data.describe()"
   ]
  },
  {
   "cell_type": "raw",
   "id": "e909b5c3",
   "metadata": {},
   "source": [
    "It is ideal to remove 'LoanAmount' from the dataset as we have transformed it. Command below uses drop() to drop a column.\n"
   ]
  },
  {
   "cell_type": "code",
   "execution_count": 55,
   "id": "7683e8ab",
   "metadata": {},
   "outputs": [],
   "source": [
    "data = data.drop(['LoanAmount'], axis = 1)"
   ]
  },
  {
   "cell_type": "raw",
   "id": "8392239e",
   "metadata": {},
   "source": []
  },
  {
   "cell_type": "raw",
   "id": "23767864",
   "metadata": {},
   "source": [
    "Now the distribution looks much closer to normal."
   ]
  },
  {
   "cell_type": "raw",
   "id": "4bdfdb94",
   "metadata": {},
   "source": [
    "Try-it-yourself: Perform some other interesting analysis which can be derived from the data. Such as:\n",
    "Check another variable for outliers and treat it.\n",
    "Generate a new variable by combining two variables e.g., 'ApplicantIncome' and 'CoapplicantIncome'."
   ]
  },
  {
   "cell_type": "markdown",
   "id": "4e1ac192",
   "metadata": {},
   "source": [
    "# Check another variable for outliers and treat it?\n",
    "i will be working on the ‘ApplicantIncome’ variable outliers "
   ]
  },
  {
   "cell_type": "code",
   "execution_count": 56,
   "id": "cbec31b5",
   "metadata": {},
   "outputs": [
    {
     "data": {
      "image/png": "[encoded data removed]",
      "text/plain": [
       "<Figure size 432x288 with 1 Axes>"
      ]
     },
     "metadata": {
      "needs_background": "light"
     },
     "output_type": "display_data"
    }
   ],
   "source": [
    "plt.hist(data['ApplicantIncome'], 20, facecolor='b')\n",
    "plt.xlabel('ApplicantIncome')\n",
    "plt.ylabel('Count')\n",
    "plt.title('Histogram for Applicant Income')\n",
    "plt.grid(True)\n",
    "plt.show()"
   ]
  },
  {
   "cell_type": "code",
   "execution_count": 57,
   "id": "106f1989",
   "metadata": {},
   "outputs": [
    {
     "data": {
      "text/plain": [
       "<AxesSubplot:>"
      ]
     },
     "execution_count": 57,
     "metadata": {},
     "output_type": "execute_result"
    },
    {
     "data": {
      "image/png": "[encoded data removed]",
      "text/plain": [
       "<Figure size 432x288 with 1 Axes>"
      ]
     },
     "metadata": {
      "needs_background": "light"
     },
     "output_type": "display_data"
    }
   ],
   "source": [
    "data.boxplot(column='ApplicantIncome')"
   ]
  },
  {
   "cell_type": "code",
   "execution_count": 58,
   "id": "425f7ec2",
   "metadata": {},
   "outputs": [],
   "source": [
    "data['ApplicantIncome_log'] = np.log(data[\"ApplicantIncome\"])"
   ]
  },
  {
   "cell_type": "code",
   "execution_count": 59,
   "id": "93d46102",
   "metadata": {},
   "outputs": [
    {
     "data": {
      "image/png": "[encoded data removed]",
      "text/plain": [
       "<Figure size 432x288 with 1 Axes>"
      ]
     },
     "metadata": {
      "needs_background": "light"
     },
     "output_type": "display_data"
    }
   ],
   "source": [
    "plt.hist(data['ApplicantIncome_log'], 20, facecolor='b')\n",
    "plt.xlabel('ApplicantIncome')\n",
    "plt.ylabel('Count')\n",
    "plt.title('Histogram for Applicant Income')\n",
    "plt.grid(True)\n",
    "plt.show()"
   ]
  },
  {
   "cell_type": "code",
   "execution_count": 60,
   "id": "f81f5d2c",
   "metadata": {},
   "outputs": [
    {
     "data": {
      "text/plain": [
       "<AxesSubplot:>"
      ]
     },
     "execution_count": 60,
     "metadata": {},
     "output_type": "execute_result"
    },
    {
     "data": {
      "image/png": "[encoded data removed]",
      "text/plain": [
       "<Figure size 432x288 with 1 Axes>"
      ]
     },
     "metadata": {
      "needs_background": "light"
     },
     "output_type": "display_data"
    }
   ],
   "source": [
    "data.boxplot(column='ApplicantIncome_log')"
   ]
  },
  {
   "cell_type": "code",
   "execution_count": 61,
   "id": "6cb0e03c",
   "metadata": {},
   "outputs": [
    {
     "data": {
      "text/html": [
       "<div>\n",
       "<style scoped>\n",
       "    .dataframe tbody tr th:only-of-type {\n",
       "        vertical-align: middle;\n",
       "    }\n",
       "\n",
       "    .dataframe tbody tr th {\n",
       "        vertical-align: top;\n",
       "    }\n",
       "\n",
       "    .dataframe thead th {\n",
       "        text-align: right;\n",
       "    }\n",
       "</style>\n",
       "<table border=\"1\" class=\"dataframe\">\n",
       "  <thead>\n",
       "    <tr style=\"text-align: right;\">\n",
       "      <th></th>\n",
       "      <th>Loan_ID</th>\n",
       "      <th>Gender</th>\n",
       "      <th>Married</th>\n",
       "      <th>Dependents</th>\n",
       "      <th>Education</th>\n",
       "      <th>Self_Employed</th>\n",
       "      <th>ApplicantIncome</th>\n",
       "      <th>CoapplicantIncome</th>\n",
       "      <th>Loan_Amount_Term</th>\n",
       "      <th>Credit_History</th>\n",
       "      <th>Property_Area</th>\n",
       "      <th>Loan_Status</th>\n",
       "      <th>LoanAmount_log</th>\n",
       "      <th>ApplicantIncome_log</th>\n",
       "    </tr>\n",
       "  </thead>\n",
       "  <tbody>\n",
       "    <tr>\n",
       "      <th>0</th>\n",
       "      <td>LP002308</td>\n",
       "      <td>Male</td>\n",
       "      <td>Yes</td>\n",
       "      <td>0</td>\n",
       "      <td>Not Graduate</td>\n",
       "      <td>No</td>\n",
       "      <td>2167</td>\n",
       "      <td>2400.0</td>\n",
       "      <td>360.0</td>\n",
       "      <td>1.0</td>\n",
       "      <td>Urban</td>\n",
       "      <td>Y</td>\n",
       "      <td>4.744932</td>\n",
       "      <td>7.681099</td>\n",
       "    </tr>\n",
       "    <tr>\n",
       "      <th>1</th>\n",
       "      <td>LP002615</td>\n",
       "      <td>Male</td>\n",
       "      <td>Yes</td>\n",
       "      <td>2</td>\n",
       "      <td>Graduate</td>\n",
       "      <td>No</td>\n",
       "      <td>4865</td>\n",
       "      <td>5624.0</td>\n",
       "      <td>360.0</td>\n",
       "      <td>1.0</td>\n",
       "      <td>Semiurban</td>\n",
       "      <td>Y</td>\n",
       "      <td>5.337538</td>\n",
       "      <td>8.489822</td>\n",
       "    </tr>\n",
       "    <tr>\n",
       "      <th>2</th>\n",
       "      <td>LP002300</td>\n",
       "      <td>Female</td>\n",
       "      <td>No</td>\n",
       "      <td>0</td>\n",
       "      <td>Not Graduate</td>\n",
       "      <td>No</td>\n",
       "      <td>1963</td>\n",
       "      <td>0.0</td>\n",
       "      <td>360.0</td>\n",
       "      <td>1.0</td>\n",
       "      <td>Semiurban</td>\n",
       "      <td>Y</td>\n",
       "      <td>3.970292</td>\n",
       "      <td>7.582229</td>\n",
       "    </tr>\n",
       "    <tr>\n",
       "      <th>3</th>\n",
       "      <td>LP001138</td>\n",
       "      <td>Male</td>\n",
       "      <td>Yes</td>\n",
       "      <td>1</td>\n",
       "      <td>Graduate</td>\n",
       "      <td>No</td>\n",
       "      <td>5649</td>\n",
       "      <td>0.0</td>\n",
       "      <td>360.0</td>\n",
       "      <td>1.0</td>\n",
       "      <td>Urban</td>\n",
       "      <td>Y</td>\n",
       "      <td>3.784190</td>\n",
       "      <td>8.639234</td>\n",
       "    </tr>\n",
       "    <tr>\n",
       "      <th>4</th>\n",
       "      <td>LP001819</td>\n",
       "      <td>Male</td>\n",
       "      <td>Yes</td>\n",
       "      <td>1</td>\n",
       "      <td>Not Graduate</td>\n",
       "      <td>No</td>\n",
       "      <td>6608</td>\n",
       "      <td>0.0</td>\n",
       "      <td>180.0</td>\n",
       "      <td>1.0</td>\n",
       "      <td>Urban</td>\n",
       "      <td>Y</td>\n",
       "      <td>4.919981</td>\n",
       "      <td>8.796036</td>\n",
       "    </tr>\n",
       "  </tbody>\n",
       "</table>\n",
       "</div>"
      ],
      "text/plain": [
       "    Loan_ID  Gender Married Dependents     Education Self_Employed  \\\n",
       "0  LP002308    Male     Yes          0  Not Graduate            No   \n",
       "1  LP002615    Male     Yes          2      Graduate            No   \n",
       "2  LP002300  Female      No          0  Not Graduate            No   \n",
       "3  LP001138    Male     Yes          1      Graduate            No   \n",
       "4  LP001819    Male     Yes          1  Not Graduate            No   \n",
       "\n",
       "   ApplicantIncome  CoapplicantIncome  Loan_Amount_Term  Credit_History  \\\n",
       "0             2167             2400.0             360.0             1.0   \n",
       "1             4865             5624.0             360.0             1.0   \n",
       "2             1963                0.0             360.0             1.0   \n",
       "3             5649                0.0             360.0             1.0   \n",
       "4             6608                0.0             180.0             1.0   \n",
       "\n",
       "  Property_Area Loan_Status  LoanAmount_log  ApplicantIncome_log  \n",
       "0         Urban           Y        4.744932             7.681099  \n",
       "1     Semiurban           Y        5.337538             8.489822  \n",
       "2     Semiurban           Y        3.970292             7.582229  \n",
       "3         Urban           Y        3.784190             8.639234  \n",
       "4         Urban           Y        4.919981             8.796036  "
      ]
     },
     "execution_count": 61,
     "metadata": {},
     "output_type": "execute_result"
    }
   ],
   "source": [
    "data.head()"
   ]
  },
  {
   "cell_type": "code",
   "execution_count": 62,
   "id": "f92c9441",
   "metadata": {},
   "outputs": [
    {
     "data": {
      "text/html": [
       "<div>\n",
       "<style scoped>\n",
       "    .dataframe tbody tr th:only-of-type {\n",
       "        vertical-align: middle;\n",
       "    }\n",
       "\n",
       "    .dataframe tbody tr th {\n",
       "        vertical-align: top;\n",
       "    }\n",
       "\n",
       "    .dataframe thead th {\n",
       "        text-align: right;\n",
       "    }\n",
       "</style>\n",
       "<table border=\"1\" class=\"dataframe\">\n",
       "  <thead>\n",
       "    <tr style=\"text-align: right;\">\n",
       "      <th></th>\n",
       "      <th>ApplicantIncome</th>\n",
       "      <th>CoapplicantIncome</th>\n",
       "      <th>Loan_Amount_Term</th>\n",
       "      <th>Credit_History</th>\n",
       "      <th>LoanAmount_log</th>\n",
       "      <th>ApplicantIncome_log</th>\n",
       "    </tr>\n",
       "  </thead>\n",
       "  <tbody>\n",
       "    <tr>\n",
       "      <th>count</th>\n",
       "      <td>550.000000</td>\n",
       "      <td>550.000000</td>\n",
       "      <td>538.000000</td>\n",
       "      <td>507.000000</td>\n",
       "      <td>550.000000</td>\n",
       "      <td>550.000000</td>\n",
       "    </tr>\n",
       "    <tr>\n",
       "      <th>mean</th>\n",
       "      <td>5465.503636</td>\n",
       "      <td>1608.574182</td>\n",
       "      <td>342.758364</td>\n",
       "      <td>0.832347</td>\n",
       "      <td>4.858710</td>\n",
       "      <td>8.342323</td>\n",
       "    </tr>\n",
       "    <tr>\n",
       "      <th>std</th>\n",
       "      <td>6359.238671</td>\n",
       "      <td>2526.718424</td>\n",
       "      <td>63.949040</td>\n",
       "      <td>0.373927</td>\n",
       "      <td>0.504833</td>\n",
       "      <td>0.653863</td>\n",
       "    </tr>\n",
       "    <tr>\n",
       "      <th>min</th>\n",
       "      <td>150.000000</td>\n",
       "      <td>0.000000</td>\n",
       "      <td>12.000000</td>\n",
       "      <td>0.000000</td>\n",
       "      <td>2.197225</td>\n",
       "      <td>5.010635</td>\n",
       "    </tr>\n",
       "    <tr>\n",
       "      <th>25%</th>\n",
       "      <td>2843.000000</td>\n",
       "      <td>0.000000</td>\n",
       "      <td>360.000000</td>\n",
       "      <td>1.000000</td>\n",
       "      <td>4.624973</td>\n",
       "      <td>7.952597</td>\n",
       "    </tr>\n",
       "    <tr>\n",
       "      <th>50%</th>\n",
       "      <td>3787.500000</td>\n",
       "      <td>1257.500000</td>\n",
       "      <td>360.000000</td>\n",
       "      <td>1.000000</td>\n",
       "      <td>4.867534</td>\n",
       "      <td>8.239456</td>\n",
       "    </tr>\n",
       "    <tr>\n",
       "      <th>75%</th>\n",
       "      <td>5741.000000</td>\n",
       "      <td>2324.000000</td>\n",
       "      <td>360.000000</td>\n",
       "      <td>1.000000</td>\n",
       "      <td>5.105945</td>\n",
       "      <td>8.655388</td>\n",
       "    </tr>\n",
       "    <tr>\n",
       "      <th>max</th>\n",
       "      <td>81000.000000</td>\n",
       "      <td>33837.000000</td>\n",
       "      <td>480.000000</td>\n",
       "      <td>1.000000</td>\n",
       "      <td>6.551080</td>\n",
       "      <td>11.302204</td>\n",
       "    </tr>\n",
       "  </tbody>\n",
       "</table>\n",
       "</div>"
      ],
      "text/plain": [
       "       ApplicantIncome  CoapplicantIncome  Loan_Amount_Term  Credit_History  \\\n",
       "count       550.000000         550.000000        538.000000      507.000000   \n",
       "mean       5465.503636        1608.574182        342.758364        0.832347   \n",
       "std        6359.238671        2526.718424         63.949040        0.373927   \n",
       "min         150.000000           0.000000         12.000000        0.000000   \n",
       "25%        2843.000000           0.000000        360.000000        1.000000   \n",
       "50%        3787.500000        1257.500000        360.000000        1.000000   \n",
       "75%        5741.000000        2324.000000        360.000000        1.000000   \n",
       "max       81000.000000       33837.000000        480.000000        1.000000   \n",
       "\n",
       "       LoanAmount_log  ApplicantIncome_log  \n",
       "count      550.000000           550.000000  \n",
       "mean         4.858710             8.342323  \n",
       "std          0.504833             0.653863  \n",
       "min          2.197225             5.010635  \n",
       "25%          4.624973             7.952597  \n",
       "50%          4.867534             8.239456  \n",
       "75%          5.105945             8.655388  \n",
       "max          6.551080            11.302204  "
      ]
     },
     "execution_count": 62,
     "metadata": {},
     "output_type": "execute_result"
    }
   ],
   "source": [
    "data.describe()"
   ]
  },
  {
   "cell_type": "code",
   "execution_count": null,
   "id": "b38fdd60",
   "metadata": {},
   "outputs": [],
   "source": []
  },
  {
   "cell_type": "markdown",
   "id": "d5cd4a65",
   "metadata": {},
   "source": [
    "# Generate a new variable by combining two variables e.g., 'ApplicantIncome' and 'CoapplicantIncome'."
   ]
  },
  {
   "cell_type": "code",
   "execution_count": 63,
   "id": "212922c5",
   "metadata": {},
   "outputs": [],
   "source": [
    "data['Applicant_sum'] = data['ApplicantIncome'] + data[\"CoapplicantIncome\"]"
   ]
  },
  {
   "cell_type": "code",
   "execution_count": 64,
   "id": "88810298",
   "metadata": {},
   "outputs": [
    {
     "data": {
      "text/html": [
       "<div>\n",
       "<style scoped>\n",
       "    .dataframe tbody tr th:only-of-type {\n",
       "        vertical-align: middle;\n",
       "    }\n",
       "\n",
       "    .dataframe tbody tr th {\n",
       "        vertical-align: top;\n",
       "    }\n",
       "\n",
       "    .dataframe thead th {\n",
       "        text-align: right;\n",
       "    }\n",
       "</style>\n",
       "<table border=\"1\" class=\"dataframe\">\n",
       "  <thead>\n",
       "    <tr style=\"text-align: right;\">\n",
       "      <th></th>\n",
       "      <th>Loan_ID</th>\n",
       "      <th>Gender</th>\n",
       "      <th>Married</th>\n",
       "      <th>Dependents</th>\n",
       "      <th>Education</th>\n",
       "      <th>Self_Employed</th>\n",
       "      <th>ApplicantIncome</th>\n",
       "      <th>CoapplicantIncome</th>\n",
       "      <th>Loan_Amount_Term</th>\n",
       "      <th>Credit_History</th>\n",
       "      <th>Property_Area</th>\n",
       "      <th>Loan_Status</th>\n",
       "      <th>LoanAmount_log</th>\n",
       "      <th>ApplicantIncome_log</th>\n",
       "      <th>Applicant_sum</th>\n",
       "    </tr>\n",
       "  </thead>\n",
       "  <tbody>\n",
       "    <tr>\n",
       "      <th>0</th>\n",
       "      <td>LP002308</td>\n",
       "      <td>Male</td>\n",
       "      <td>Yes</td>\n",
       "      <td>0</td>\n",
       "      <td>Not Graduate</td>\n",
       "      <td>No</td>\n",
       "      <td>2167</td>\n",
       "      <td>2400.0</td>\n",
       "      <td>360.0</td>\n",
       "      <td>1.0</td>\n",
       "      <td>Urban</td>\n",
       "      <td>Y</td>\n",
       "      <td>4.744932</td>\n",
       "      <td>7.681099</td>\n",
       "      <td>4567.0</td>\n",
       "    </tr>\n",
       "    <tr>\n",
       "      <th>1</th>\n",
       "      <td>LP002615</td>\n",
       "      <td>Male</td>\n",
       "      <td>Yes</td>\n",
       "      <td>2</td>\n",
       "      <td>Graduate</td>\n",
       "      <td>No</td>\n",
       "      <td>4865</td>\n",
       "      <td>5624.0</td>\n",
       "      <td>360.0</td>\n",
       "      <td>1.0</td>\n",
       "      <td>Semiurban</td>\n",
       "      <td>Y</td>\n",
       "      <td>5.337538</td>\n",
       "      <td>8.489822</td>\n",
       "      <td>10489.0</td>\n",
       "    </tr>\n",
       "    <tr>\n",
       "      <th>2</th>\n",
       "      <td>LP002300</td>\n",
       "      <td>Female</td>\n",
       "      <td>No</td>\n",
       "      <td>0</td>\n",
       "      <td>Not Graduate</td>\n",
       "      <td>No</td>\n",
       "      <td>1963</td>\n",
       "      <td>0.0</td>\n",
       "      <td>360.0</td>\n",
       "      <td>1.0</td>\n",
       "      <td>Semiurban</td>\n",
       "      <td>Y</td>\n",
       "      <td>3.970292</td>\n",
       "      <td>7.582229</td>\n",
       "      <td>1963.0</td>\n",
       "    </tr>\n",
       "    <tr>\n",
       "      <th>3</th>\n",
       "      <td>LP001138</td>\n",
       "      <td>Male</td>\n",
       "      <td>Yes</td>\n",
       "      <td>1</td>\n",
       "      <td>Graduate</td>\n",
       "      <td>No</td>\n",
       "      <td>5649</td>\n",
       "      <td>0.0</td>\n",
       "      <td>360.0</td>\n",
       "      <td>1.0</td>\n",
       "      <td>Urban</td>\n",
       "      <td>Y</td>\n",
       "      <td>3.784190</td>\n",
       "      <td>8.639234</td>\n",
       "      <td>5649.0</td>\n",
       "    </tr>\n",
       "    <tr>\n",
       "      <th>4</th>\n",
       "      <td>LP001819</td>\n",
       "      <td>Male</td>\n",
       "      <td>Yes</td>\n",
       "      <td>1</td>\n",
       "      <td>Not Graduate</td>\n",
       "      <td>No</td>\n",
       "      <td>6608</td>\n",
       "      <td>0.0</td>\n",
       "      <td>180.0</td>\n",
       "      <td>1.0</td>\n",
       "      <td>Urban</td>\n",
       "      <td>Y</td>\n",
       "      <td>4.919981</td>\n",
       "      <td>8.796036</td>\n",
       "      <td>6608.0</td>\n",
       "    </tr>\n",
       "  </tbody>\n",
       "</table>\n",
       "</div>"
      ],
      "text/plain": [
       "    Loan_ID  Gender Married Dependents     Education Self_Employed  \\\n",
       "0  LP002308    Male     Yes          0  Not Graduate            No   \n",
       "1  LP002615    Male     Yes          2      Graduate            No   \n",
       "2  LP002300  Female      No          0  Not Graduate            No   \n",
       "3  LP001138    Male     Yes          1      Graduate            No   \n",
       "4  LP001819    Male     Yes          1  Not Graduate            No   \n",
       "\n",
       "   ApplicantIncome  CoapplicantIncome  Loan_Amount_Term  Credit_History  \\\n",
       "0             2167             2400.0             360.0             1.0   \n",
       "1             4865             5624.0             360.0             1.0   \n",
       "2             1963                0.0             360.0             1.0   \n",
       "3             5649                0.0             360.0             1.0   \n",
       "4             6608                0.0             180.0             1.0   \n",
       "\n",
       "  Property_Area Loan_Status  LoanAmount_log  ApplicantIncome_log  \\\n",
       "0         Urban           Y        4.744932             7.681099   \n",
       "1     Semiurban           Y        5.337538             8.489822   \n",
       "2     Semiurban           Y        3.970292             7.582229   \n",
       "3         Urban           Y        3.784190             8.639234   \n",
       "4         Urban           Y        4.919981             8.796036   \n",
       "\n",
       "   Applicant_sum  \n",
       "0         4567.0  \n",
       "1        10489.0  \n",
       "2         1963.0  \n",
       "3         5649.0  \n",
       "4         6608.0  "
      ]
     },
     "execution_count": 64,
     "metadata": {},
     "output_type": "execute_result"
    }
   ],
   "source": [
    "data.head()"
   ]
  },
  {
   "cell_type": "code",
   "execution_count": null,
   "id": "0a4d8b5e",
   "metadata": {},
   "outputs": [],
   "source": []
  },
  {
   "cell_type": "code",
   "execution_count": null,
   "id": "017ea7d2",
   "metadata": {},
   "outputs": [],
   "source": []
  },
  {
   "cell_type": "markdown",
   "id": "37e77f12",
   "metadata": {},
   "source": [
    "# Missing values continuous"
   ]
  },
  {
   "cell_type": "raw",
   "id": "4121b94c",
   "metadata": {},
   "source": [
    "There are more missing values present in the data. Before we build the model, we need to perform some more\n",
    "pre-processing and convert all the values as numeric:\n",
    "\n",
    "Fill all the missing values.\n",
    "Convert categorical variables into numeric as sklearn works on numeric values only"
   ]
  },
  {
   "cell_type": "raw",
   "id": "3c26b75a",
   "metadata": {},
   "source": [
    "Here we will use mode() to fill in the missing values. Mode is the value which occurs most often.\n"
   ]
  },
  {
   "cell_type": "code",
   "execution_count": 65,
   "id": "85042047",
   "metadata": {},
   "outputs": [],
   "source": [
    "data['Gender'].fillna(data['Gender'].mode()[0], inplace = True)\n",
    " #0:gets the mode of each column, 1: for each row\n",
    "data['Married'].fillna(data['Married'].mode()[0], inplace = True)\n",
    "data['Dependents'].fillna(data['Dependents'].mode()[0], inplace = True)\n",
    "data['Loan_Amount_Term'].fillna(data['Loan_Amount_Term'].mode()[0], inplace = True)\n",
    "data['Credit_History'].fillna(data['Credit_History'].mode()[0], inplace = True)\n"
   ]
  },
  {
   "cell_type": "code",
   "execution_count": 66,
   "id": "59fdac7c",
   "metadata": {},
   "outputs": [
    {
     "data": {
      "text/plain": [
       "Loan_ID                0\n",
       "Gender                 0\n",
       "Married                0\n",
       "Dependents             0\n",
       "Education              0\n",
       "Self_Employed          0\n",
       "ApplicantIncome        0\n",
       "CoapplicantIncome      0\n",
       "Loan_Amount_Term       0\n",
       "Credit_History         0\n",
       "Property_Area          0\n",
       "Loan_Status            0\n",
       "LoanAmount_log         0\n",
       "ApplicantIncome_log    0\n",
       "Applicant_sum          0\n",
       "dtype: int64"
      ]
     },
     "execution_count": 66,
     "metadata": {},
     "output_type": "execute_result"
    }
   ],
   "source": [
    "data.apply(lambda x: sum(x.isnull()), axis=0)"
   ]
  },
  {
   "cell_type": "code",
   "execution_count": null,
   "id": "1b83b003",
   "metadata": {},
   "outputs": [],
   "source": []
  },
  {
   "cell_type": "code",
   "execution_count": null,
   "id": "4951f9fe",
   "metadata": {},
   "outputs": [],
   "source": []
  },
  {
   "cell_type": "raw",
   "id": "1a86ad1d",
   "metadata": {},
   "source": [
    "Q5. Use LabelEncoder, to convert categorical variables into numeric. Hint: You will first need to identify categorial values"
   ]
  },
  {
   "cell_type": "code",
   "execution_count": 67,
   "id": "cd8a74f8",
   "metadata": {},
   "outputs": [
    {
     "name": "stdout",
     "output_type": "stream",
     "text": [
      "<class 'pandas.core.frame.DataFrame'>\n",
      "RangeIndex: 550 entries, 0 to 549\n",
      "Data columns (total 15 columns):\n",
      " #   Column               Non-Null Count  Dtype  \n",
      "---  ------               --------------  -----  \n",
      " 0   Loan_ID              550 non-null    object \n",
      " 1   Gender               550 non-null    object \n",
      " 2   Married              550 non-null    object \n",
      " 3   Dependents           550 non-null    object \n",
      " 4   Education            550 non-null    object \n",
      " 5   Self_Employed        550 non-null    object \n",
      " 6   ApplicantIncome      550 non-null    int64  \n",
      " 7   CoapplicantIncome    550 non-null    float64\n",
      " 8   Loan_Amount_Term     550 non-null    float64\n",
      " 9   Credit_History       550 non-null    float64\n",
      " 10  Property_Area        550 non-null    object \n",
      " 11  Loan_Status          550 non-null    object \n",
      " 12  LoanAmount_log       550 non-null    float64\n",
      " 13  ApplicantIncome_log  550 non-null    float64\n",
      " 14  Applicant_sum        550 non-null    float64\n",
      "dtypes: float64(6), int64(1), object(8)\n",
      "memory usage: 64.6+ KB\n"
     ]
    }
   ],
   "source": [
    "data.info()"
   ]
  },
  {
   "cell_type": "raw",
   "id": "27cd57f2",
   "metadata": {},
   "source": [
    "Categorial variable Data Types are mostly \"object\" and also are data that can take on number of possible values."
   ]
  },
  {
   "cell_type": "raw",
   "id": "4781b5d5",
   "metadata": {},
   "source": [
    "therefore with the above result the following are Categorical Values:['Loan_ID', 'Gender', 'Married', 'Dependents', 'Education', 'Self_Employed', 'Property_Area', 'Loan_Status']"
   ]
  },
  {
   "cell_type": "code",
   "execution_count": 68,
   "id": "b597deb9",
   "metadata": {},
   "outputs": [],
   "source": [
    "v = data.copy()"
   ]
  },
  {
   "cell_type": "code",
   "execution_count": 69,
   "id": "ce0ba5e6",
   "metadata": {},
   "outputs": [
    {
     "data": {
      "text/html": [
       "<div>\n",
       "<style scoped>\n",
       "    .dataframe tbody tr th:only-of-type {\n",
       "        vertical-align: middle;\n",
       "    }\n",
       "\n",
       "    .dataframe tbody tr th {\n",
       "        vertical-align: top;\n",
       "    }\n",
       "\n",
       "    .dataframe thead th {\n",
       "        text-align: right;\n",
       "    }\n",
       "</style>\n",
       "<table border=\"1\" class=\"dataframe\">\n",
       "  <thead>\n",
       "    <tr style=\"text-align: right;\">\n",
       "      <th></th>\n",
       "      <th>Loan_ID</th>\n",
       "      <th>Gender</th>\n",
       "      <th>Married</th>\n",
       "      <th>Dependents</th>\n",
       "      <th>Education</th>\n",
       "      <th>Self_Employed</th>\n",
       "      <th>ApplicantIncome</th>\n",
       "      <th>CoapplicantIncome</th>\n",
       "      <th>Loan_Amount_Term</th>\n",
       "      <th>Credit_History</th>\n",
       "      <th>Property_Area</th>\n",
       "      <th>Loan_Status</th>\n",
       "      <th>LoanAmount_log</th>\n",
       "      <th>ApplicantIncome_log</th>\n",
       "      <th>Applicant_sum</th>\n",
       "    </tr>\n",
       "  </thead>\n",
       "  <tbody>\n",
       "    <tr>\n",
       "      <th>0</th>\n",
       "      <td>LP002308</td>\n",
       "      <td>1</td>\n",
       "      <td>1</td>\n",
       "      <td>0</td>\n",
       "      <td>1</td>\n",
       "      <td>0</td>\n",
       "      <td>2167</td>\n",
       "      <td>2400.0</td>\n",
       "      <td>360.0</td>\n",
       "      <td>1.0</td>\n",
       "      <td>2</td>\n",
       "      <td>1</td>\n",
       "      <td>4.744932</td>\n",
       "      <td>7.681099</td>\n",
       "      <td>4567.0</td>\n",
       "    </tr>\n",
       "    <tr>\n",
       "      <th>1</th>\n",
       "      <td>LP002615</td>\n",
       "      <td>1</td>\n",
       "      <td>1</td>\n",
       "      <td>2</td>\n",
       "      <td>0</td>\n",
       "      <td>0</td>\n",
       "      <td>4865</td>\n",
       "      <td>5624.0</td>\n",
       "      <td>360.0</td>\n",
       "      <td>1.0</td>\n",
       "      <td>1</td>\n",
       "      <td>1</td>\n",
       "      <td>5.337538</td>\n",
       "      <td>8.489822</td>\n",
       "      <td>10489.0</td>\n",
       "    </tr>\n",
       "    <tr>\n",
       "      <th>2</th>\n",
       "      <td>LP002300</td>\n",
       "      <td>0</td>\n",
       "      <td>0</td>\n",
       "      <td>0</td>\n",
       "      <td>1</td>\n",
       "      <td>0</td>\n",
       "      <td>1963</td>\n",
       "      <td>0.0</td>\n",
       "      <td>360.0</td>\n",
       "      <td>1.0</td>\n",
       "      <td>1</td>\n",
       "      <td>1</td>\n",
       "      <td>3.970292</td>\n",
       "      <td>7.582229</td>\n",
       "      <td>1963.0</td>\n",
       "    </tr>\n",
       "    <tr>\n",
       "      <th>3</th>\n",
       "      <td>LP001138</td>\n",
       "      <td>1</td>\n",
       "      <td>1</td>\n",
       "      <td>1</td>\n",
       "      <td>0</td>\n",
       "      <td>0</td>\n",
       "      <td>5649</td>\n",
       "      <td>0.0</td>\n",
       "      <td>360.0</td>\n",
       "      <td>1.0</td>\n",
       "      <td>2</td>\n",
       "      <td>1</td>\n",
       "      <td>3.784190</td>\n",
       "      <td>8.639234</td>\n",
       "      <td>5649.0</td>\n",
       "    </tr>\n",
       "    <tr>\n",
       "      <th>4</th>\n",
       "      <td>LP001819</td>\n",
       "      <td>1</td>\n",
       "      <td>1</td>\n",
       "      <td>1</td>\n",
       "      <td>1</td>\n",
       "      <td>0</td>\n",
       "      <td>6608</td>\n",
       "      <td>0.0</td>\n",
       "      <td>180.0</td>\n",
       "      <td>1.0</td>\n",
       "      <td>2</td>\n",
       "      <td>1</td>\n",
       "      <td>4.919981</td>\n",
       "      <td>8.796036</td>\n",
       "      <td>6608.0</td>\n",
       "    </tr>\n",
       "  </tbody>\n",
       "</table>\n",
       "</div>"
      ],
      "text/plain": [
       "    Loan_ID  Gender  Married Dependents  Education  Self_Employed  \\\n",
       "0  LP002308       1        1          0          1              0   \n",
       "1  LP002615       1        1          2          0              0   \n",
       "2  LP002300       0        0          0          1              0   \n",
       "3  LP001138       1        1          1          0              0   \n",
       "4  LP001819       1        1          1          1              0   \n",
       "\n",
       "   ApplicantIncome  CoapplicantIncome  Loan_Amount_Term  Credit_History  \\\n",
       "0             2167             2400.0             360.0             1.0   \n",
       "1             4865             5624.0             360.0             1.0   \n",
       "2             1963                0.0             360.0             1.0   \n",
       "3             5649                0.0             360.0             1.0   \n",
       "4             6608                0.0             180.0             1.0   \n",
       "\n",
       "   Property_Area  Loan_Status  LoanAmount_log  ApplicantIncome_log  \\\n",
       "0              2            1        4.744932             7.681099   \n",
       "1              1            1        5.337538             8.489822   \n",
       "2              1            1        3.970292             7.582229   \n",
       "3              2            1        3.784190             8.639234   \n",
       "4              2            1        4.919981             8.796036   \n",
       "\n",
       "   Applicant_sum  \n",
       "0         4567.0  \n",
       "1        10489.0  \n",
       "2         1963.0  \n",
       "3         5649.0  \n",
       "4         6608.0  "
      ]
     },
     "execution_count": 69,
     "metadata": {},
     "output_type": "execute_result"
    }
   ],
   "source": [
    "from sklearn.preprocessing import LabelEncoder\n",
    "columns = [\"Gender\",\"Married\",\"Education\",\"Self_Employed\",\"Property_Area\",\"Loan_Status\"]\n",
    "v[columns] = v[columns].apply(LabelEncoder().fit_transform)\n",
    "v.head()    "
   ]
  },
  {
   "cell_type": "code",
   "execution_count": null,
   "id": "3c587110",
   "metadata": {},
   "outputs": [],
   "source": []
  },
  {
   "cell_type": "code",
   "execution_count": null,
   "id": "0e31f348",
   "metadata": {},
   "outputs": [],
   "source": []
  },
  {
   "cell_type": "code",
   "execution_count": 70,
   "id": "24321d1e",
   "metadata": {},
   "outputs": [
    {
     "data": {
      "text/html": [
       "<div>\n",
       "<style scoped>\n",
       "    .dataframe tbody tr th:only-of-type {\n",
       "        vertical-align: middle;\n",
       "    }\n",
       "\n",
       "    .dataframe tbody tr th {\n",
       "        vertical-align: top;\n",
       "    }\n",
       "\n",
       "    .dataframe thead th {\n",
       "        text-align: right;\n",
       "    }\n",
       "</style>\n",
       "<table border=\"1\" class=\"dataframe\">\n",
       "  <thead>\n",
       "    <tr style=\"text-align: right;\">\n",
       "      <th></th>\n",
       "      <th>Loan_ID</th>\n",
       "      <th>Gender</th>\n",
       "      <th>Married</th>\n",
       "      <th>Dependents</th>\n",
       "      <th>Education</th>\n",
       "      <th>Self_Employed</th>\n",
       "      <th>ApplicantIncome</th>\n",
       "      <th>CoapplicantIncome</th>\n",
       "      <th>Loan_Amount_Term</th>\n",
       "      <th>Credit_History</th>\n",
       "      <th>Property_Area</th>\n",
       "      <th>Loan_Status</th>\n",
       "      <th>LoanAmount_log</th>\n",
       "      <th>ApplicantIncome_log</th>\n",
       "      <th>Applicant_sum</th>\n",
       "    </tr>\n",
       "  </thead>\n",
       "  <tbody>\n",
       "    <tr>\n",
       "      <th>0</th>\n",
       "      <td>LP002308</td>\n",
       "      <td>Male</td>\n",
       "      <td>Yes</td>\n",
       "      <td>0</td>\n",
       "      <td>Not Graduate</td>\n",
       "      <td>No</td>\n",
       "      <td>2167</td>\n",
       "      <td>2400.0</td>\n",
       "      <td>360.0</td>\n",
       "      <td>1.0</td>\n",
       "      <td>Urban</td>\n",
       "      <td>Y</td>\n",
       "      <td>4.744932</td>\n",
       "      <td>7.681099</td>\n",
       "      <td>4567.0</td>\n",
       "    </tr>\n",
       "    <tr>\n",
       "      <th>1</th>\n",
       "      <td>LP002615</td>\n",
       "      <td>Male</td>\n",
       "      <td>Yes</td>\n",
       "      <td>2</td>\n",
       "      <td>Graduate</td>\n",
       "      <td>No</td>\n",
       "      <td>4865</td>\n",
       "      <td>5624.0</td>\n",
       "      <td>360.0</td>\n",
       "      <td>1.0</td>\n",
       "      <td>Semiurban</td>\n",
       "      <td>Y</td>\n",
       "      <td>5.337538</td>\n",
       "      <td>8.489822</td>\n",
       "      <td>10489.0</td>\n",
       "    </tr>\n",
       "    <tr>\n",
       "      <th>2</th>\n",
       "      <td>LP002300</td>\n",
       "      <td>Female</td>\n",
       "      <td>No</td>\n",
       "      <td>0</td>\n",
       "      <td>Not Graduate</td>\n",
       "      <td>No</td>\n",
       "      <td>1963</td>\n",
       "      <td>0.0</td>\n",
       "      <td>360.0</td>\n",
       "      <td>1.0</td>\n",
       "      <td>Semiurban</td>\n",
       "      <td>Y</td>\n",
       "      <td>3.970292</td>\n",
       "      <td>7.582229</td>\n",
       "      <td>1963.0</td>\n",
       "    </tr>\n",
       "    <tr>\n",
       "      <th>3</th>\n",
       "      <td>LP001138</td>\n",
       "      <td>Male</td>\n",
       "      <td>Yes</td>\n",
       "      <td>1</td>\n",
       "      <td>Graduate</td>\n",
       "      <td>No</td>\n",
       "      <td>5649</td>\n",
       "      <td>0.0</td>\n",
       "      <td>360.0</td>\n",
       "      <td>1.0</td>\n",
       "      <td>Urban</td>\n",
       "      <td>Y</td>\n",
       "      <td>3.784190</td>\n",
       "      <td>8.639234</td>\n",
       "      <td>5649.0</td>\n",
       "    </tr>\n",
       "    <tr>\n",
       "      <th>4</th>\n",
       "      <td>LP001819</td>\n",
       "      <td>Male</td>\n",
       "      <td>Yes</td>\n",
       "      <td>1</td>\n",
       "      <td>Not Graduate</td>\n",
       "      <td>No</td>\n",
       "      <td>6608</td>\n",
       "      <td>0.0</td>\n",
       "      <td>180.0</td>\n",
       "      <td>1.0</td>\n",
       "      <td>Urban</td>\n",
       "      <td>Y</td>\n",
       "      <td>4.919981</td>\n",
       "      <td>8.796036</td>\n",
       "      <td>6608.0</td>\n",
       "    </tr>\n",
       "  </tbody>\n",
       "</table>\n",
       "</div>"
      ],
      "text/plain": [
       "    Loan_ID  Gender Married Dependents     Education Self_Employed  \\\n",
       "0  LP002308    Male     Yes          0  Not Graduate            No   \n",
       "1  LP002615    Male     Yes          2      Graduate            No   \n",
       "2  LP002300  Female      No          0  Not Graduate            No   \n",
       "3  LP001138    Male     Yes          1      Graduate            No   \n",
       "4  LP001819    Male     Yes          1  Not Graduate            No   \n",
       "\n",
       "   ApplicantIncome  CoapplicantIncome  Loan_Amount_Term  Credit_History  \\\n",
       "0             2167             2400.0             360.0             1.0   \n",
       "1             4865             5624.0             360.0             1.0   \n",
       "2             1963                0.0             360.0             1.0   \n",
       "3             5649                0.0             360.0             1.0   \n",
       "4             6608                0.0             180.0             1.0   \n",
       "\n",
       "  Property_Area Loan_Status  LoanAmount_log  ApplicantIncome_log  \\\n",
       "0         Urban           Y        4.744932             7.681099   \n",
       "1     Semiurban           Y        5.337538             8.489822   \n",
       "2     Semiurban           Y        3.970292             7.582229   \n",
       "3         Urban           Y        3.784190             8.639234   \n",
       "4         Urban           Y        4.919981             8.796036   \n",
       "\n",
       "   Applicant_sum  \n",
       "0         4567.0  \n",
       "1        10489.0  \n",
       "2         1963.0  \n",
       "3         5649.0  \n",
       "4         6608.0  "
      ]
     },
     "execution_count": 70,
     "metadata": {},
     "output_type": "execute_result"
    }
   ],
   "source": [
    "data.head()"
   ]
  },
  {
   "cell_type": "code",
   "execution_count": 71,
   "id": "e4e58518",
   "metadata": {},
   "outputs": [
    {
     "data": {
      "text/plain": [
       "(550, 15)"
      ]
     },
     "execution_count": 71,
     "metadata": {},
     "output_type": "execute_result"
    }
   ],
   "source": [
    "data.shape"
   ]
  },
  {
   "cell_type": "code",
   "execution_count": 72,
   "id": "13fa0977",
   "metadata": {},
   "outputs": [],
   "source": [
    "from sklearn.preprocessing import LabelEncoder"
   ]
  },
  {
   "cell_type": "code",
   "execution_count": 73,
   "id": "68cb335d",
   "metadata": {},
   "outputs": [
    {
     "name": "stdout",
     "output_type": "stream",
     "text": [
      "['Loan_ID', 'Gender', 'Married', 'Dependents', 'Education', 'Self_Employed', 'ApplicantIncome', 'CoapplicantIncome', 'Loan_Amount_Term', 'Credit_History', 'Property_Area', 'Loan_Status', 'LoanAmount_log', 'ApplicantIncome_log', 'Applicant_sum']\n"
     ]
    }
   ],
   "source": [
    "columns = list(data) \n",
    "print(columns)"
   ]
  },
  {
   "cell_type": "code",
   "execution_count": 74,
   "id": "39a18a29",
   "metadata": {},
   "outputs": [],
   "source": [
    "data.drop([\"Applicant_sum\",\"ApplicantIncome_log\"],axis=1, inplace=True )"
   ]
  },
  {
   "cell_type": "code",
   "execution_count": 75,
   "id": "3fbc602e",
   "metadata": {},
   "outputs": [
    {
     "data": {
      "text/plain": [
       "Loan_ID               object\n",
       "Gender                object\n",
       "Married               object\n",
       "Dependents            object\n",
       "Education             object\n",
       "Self_Employed         object\n",
       "ApplicantIncome        int64\n",
       "CoapplicantIncome    float64\n",
       "Loan_Amount_Term     float64\n",
       "Credit_History       float64\n",
       "Property_Area         object\n",
       "Loan_Status           object\n",
       "LoanAmount_log       float64\n",
       "dtype: object"
      ]
     },
     "execution_count": 75,
     "metadata": {},
     "output_type": "execute_result"
    }
   ],
   "source": [
    "data.dtypes"
   ]
  },
  {
   "cell_type": "code",
   "execution_count": 76,
   "id": "e1b27f5b",
   "metadata": {},
   "outputs": [],
   "source": [
    "columns = list(data.select_dtypes(exclude=[\"Float64\",\"int64\"]))"
   ]
  },
  {
   "cell_type": "raw",
   "id": "9e00ec45",
   "metadata": {},
   "source": [
    "Above cell will select the columns which are not integer."
   ]
  },
  {
   "cell_type": "code",
   "execution_count": 77,
   "id": "d491b2c6",
   "metadata": {},
   "outputs": [],
   "source": [
    "# Categorical_columns = ['Loan_ID', 'Gender', 'Married', 'Dependents', 'Education', 'Self_Employed', 'Property_Area', 'Loan_Status']"
   ]
  },
  {
   "cell_type": "code",
   "execution_count": 78,
   "id": "1053dfc9",
   "metadata": {},
   "outputs": [],
   "source": [
    "le = LabelEncoder()\n",
    "for i in columns:\n",
    "    data[i] = le.fit_transform(data[i])"
   ]
  },
  {
   "cell_type": "code",
   "execution_count": 79,
   "id": "72aae7dd",
   "metadata": {},
   "outputs": [
    {
     "data": {
      "text/html": [
       "<div>\n",
       "<style scoped>\n",
       "    .dataframe tbody tr th:only-of-type {\n",
       "        vertical-align: middle;\n",
       "    }\n",
       "\n",
       "    .dataframe tbody tr th {\n",
       "        vertical-align: top;\n",
       "    }\n",
       "\n",
       "    .dataframe thead th {\n",
       "        text-align: right;\n",
       "    }\n",
       "</style>\n",
       "<table border=\"1\" class=\"dataframe\">\n",
       "  <thead>\n",
       "    <tr style=\"text-align: right;\">\n",
       "      <th></th>\n",
       "      <th>Loan_ID</th>\n",
       "      <th>Gender</th>\n",
       "      <th>Married</th>\n",
       "      <th>Dependents</th>\n",
       "      <th>Education</th>\n",
       "      <th>Self_Employed</th>\n",
       "      <th>ApplicantIncome</th>\n",
       "      <th>CoapplicantIncome</th>\n",
       "      <th>Loan_Amount_Term</th>\n",
       "      <th>Credit_History</th>\n",
       "      <th>Property_Area</th>\n",
       "      <th>Loan_Status</th>\n",
       "      <th>LoanAmount_log</th>\n",
       "    </tr>\n",
       "  </thead>\n",
       "  <tbody>\n",
       "    <tr>\n",
       "      <th>0</th>\n",
       "      <td>365</td>\n",
       "      <td>1</td>\n",
       "      <td>1</td>\n",
       "      <td>0</td>\n",
       "      <td>1</td>\n",
       "      <td>0</td>\n",
       "      <td>2167</td>\n",
       "      <td>2400.0</td>\n",
       "      <td>360.0</td>\n",
       "      <td>1.0</td>\n",
       "      <td>2</td>\n",
       "      <td>1</td>\n",
       "      <td>4.744932</td>\n",
       "    </tr>\n",
       "    <tr>\n",
       "      <th>1</th>\n",
       "      <td>449</td>\n",
       "      <td>1</td>\n",
       "      <td>1</td>\n",
       "      <td>2</td>\n",
       "      <td>0</td>\n",
       "      <td>0</td>\n",
       "      <td>4865</td>\n",
       "      <td>5624.0</td>\n",
       "      <td>360.0</td>\n",
       "      <td>1.0</td>\n",
       "      <td>1</td>\n",
       "      <td>1</td>\n",
       "      <td>5.337538</td>\n",
       "    </tr>\n",
       "    <tr>\n",
       "      <th>2</th>\n",
       "      <td>362</td>\n",
       "      <td>0</td>\n",
       "      <td>0</td>\n",
       "      <td>0</td>\n",
       "      <td>1</td>\n",
       "      <td>0</td>\n",
       "      <td>1963</td>\n",
       "      <td>0.0</td>\n",
       "      <td>360.0</td>\n",
       "      <td>1.0</td>\n",
       "      <td>1</td>\n",
       "      <td>1</td>\n",
       "      <td>3.970292</td>\n",
       "    </tr>\n",
       "    <tr>\n",
       "      <th>3</th>\n",
       "      <td>43</td>\n",
       "      <td>1</td>\n",
       "      <td>1</td>\n",
       "      <td>1</td>\n",
       "      <td>0</td>\n",
       "      <td>0</td>\n",
       "      <td>5649</td>\n",
       "      <td>0.0</td>\n",
       "      <td>360.0</td>\n",
       "      <td>1.0</td>\n",
       "      <td>2</td>\n",
       "      <td>1</td>\n",
       "      <td>3.784190</td>\n",
       "    </tr>\n",
       "    <tr>\n",
       "      <th>4</th>\n",
       "      <td>221</td>\n",
       "      <td>1</td>\n",
       "      <td>1</td>\n",
       "      <td>1</td>\n",
       "      <td>1</td>\n",
       "      <td>0</td>\n",
       "      <td>6608</td>\n",
       "      <td>0.0</td>\n",
       "      <td>180.0</td>\n",
       "      <td>1.0</td>\n",
       "      <td>2</td>\n",
       "      <td>1</td>\n",
       "      <td>4.919981</td>\n",
       "    </tr>\n",
       "  </tbody>\n",
       "</table>\n",
       "</div>"
      ],
      "text/plain": [
       "   Loan_ID  Gender  Married  Dependents  Education  Self_Employed  \\\n",
       "0      365       1        1           0          1              0   \n",
       "1      449       1        1           2          0              0   \n",
       "2      362       0        0           0          1              0   \n",
       "3       43       1        1           1          0              0   \n",
       "4      221       1        1           1          1              0   \n",
       "\n",
       "   ApplicantIncome  CoapplicantIncome  Loan_Amount_Term  Credit_History  \\\n",
       "0             2167             2400.0             360.0             1.0   \n",
       "1             4865             5624.0             360.0             1.0   \n",
       "2             1963                0.0             360.0             1.0   \n",
       "3             5649                0.0             360.0             1.0   \n",
       "4             6608                0.0             180.0             1.0   \n",
       "\n",
       "   Property_Area  Loan_Status  LoanAmount_log  \n",
       "0              2            1        4.744932  \n",
       "1              1            1        5.337538  \n",
       "2              1            1        3.970292  \n",
       "3              2            1        3.784190  \n",
       "4              2            1        4.919981  "
      ]
     },
     "execution_count": 79,
     "metadata": {},
     "output_type": "execute_result"
    }
   ],
   "source": [
    "data.head()"
   ]
  },
  {
   "cell_type": "code",
   "execution_count": null,
   "id": "23e64f4c",
   "metadata": {},
   "outputs": [],
   "source": []
  },
  {
   "cell_type": "markdown",
   "id": "ab9ec226",
   "metadata": {},
   "source": [
    "# Data Normalisation"
   ]
  },
  {
   "cell_type": "raw",
   "id": "a3c48228",
   "metadata": {},
   "source": [
    "As can be seen in the above table each column is in different scales. For example 'ApplicantIncome' column is in the range of thousands while 'Dependents' column is usually below 10. Having features with different scales can cause problems to the machine learning model. Therefore, we perform normalisation across the columns using normalize function in sklearn. There are other ways to scale the dataset within a range, which is know as 'Scaling' (or standardization). This can be performed using 'StandardScaler' method available in sklearn package. We will see this in the following workshop (Week 5)."
   ]
  },
  {
   "cell_type": "code",
   "execution_count": 80,
   "id": "fd9ca7d3",
   "metadata": {},
   "outputs": [],
   "source": [
    "# from sklearn.preprocessing import StandardScaler\n",
    "from sklearn.preprocessing import normalize"
   ]
  },
  {
   "cell_type": "code",
   "execution_count": 81,
   "id": "6f1664b5",
   "metadata": {},
   "outputs": [
    {
     "data": {
      "text/html": [
       "<div>\n",
       "<style scoped>\n",
       "    .dataframe tbody tr th:only-of-type {\n",
       "        vertical-align: middle;\n",
       "    }\n",
       "\n",
       "    .dataframe tbody tr th {\n",
       "        vertical-align: top;\n",
       "    }\n",
       "\n",
       "    .dataframe thead th {\n",
       "        text-align: right;\n",
       "    }\n",
       "</style>\n",
       "<table border=\"1\" class=\"dataframe\">\n",
       "  <thead>\n",
       "    <tr style=\"text-align: right;\">\n",
       "      <th></th>\n",
       "      <th>Loan_ID</th>\n",
       "      <th>Gender</th>\n",
       "      <th>Married</th>\n",
       "      <th>Dependents</th>\n",
       "      <th>Education</th>\n",
       "      <th>Self_Employed</th>\n",
       "      <th>ApplicantIncome</th>\n",
       "      <th>CoapplicantIncome</th>\n",
       "      <th>Loan_Amount_Term</th>\n",
       "      <th>Credit_History</th>\n",
       "      <th>Property_Area</th>\n",
       "      <th>Loan_Status</th>\n",
       "      <th>LoanAmount_log</th>\n",
       "    </tr>\n",
       "  </thead>\n",
       "  <tbody>\n",
       "    <tr>\n",
       "      <th>0</th>\n",
       "      <td>365</td>\n",
       "      <td>1</td>\n",
       "      <td>1</td>\n",
       "      <td>0</td>\n",
       "      <td>1</td>\n",
       "      <td>0</td>\n",
       "      <td>2167</td>\n",
       "      <td>2400.0</td>\n",
       "      <td>360.0</td>\n",
       "      <td>1.0</td>\n",
       "      <td>2</td>\n",
       "      <td>1</td>\n",
       "      <td>4.744932</td>\n",
       "    </tr>\n",
       "    <tr>\n",
       "      <th>1</th>\n",
       "      <td>449</td>\n",
       "      <td>1</td>\n",
       "      <td>1</td>\n",
       "      <td>2</td>\n",
       "      <td>0</td>\n",
       "      <td>0</td>\n",
       "      <td>4865</td>\n",
       "      <td>5624.0</td>\n",
       "      <td>360.0</td>\n",
       "      <td>1.0</td>\n",
       "      <td>1</td>\n",
       "      <td>1</td>\n",
       "      <td>5.337538</td>\n",
       "    </tr>\n",
       "    <tr>\n",
       "      <th>2</th>\n",
       "      <td>362</td>\n",
       "      <td>0</td>\n",
       "      <td>0</td>\n",
       "      <td>0</td>\n",
       "      <td>1</td>\n",
       "      <td>0</td>\n",
       "      <td>1963</td>\n",
       "      <td>0.0</td>\n",
       "      <td>360.0</td>\n",
       "      <td>1.0</td>\n",
       "      <td>1</td>\n",
       "      <td>1</td>\n",
       "      <td>3.970292</td>\n",
       "    </tr>\n",
       "    <tr>\n",
       "      <th>3</th>\n",
       "      <td>43</td>\n",
       "      <td>1</td>\n",
       "      <td>1</td>\n",
       "      <td>1</td>\n",
       "      <td>0</td>\n",
       "      <td>0</td>\n",
       "      <td>5649</td>\n",
       "      <td>0.0</td>\n",
       "      <td>360.0</td>\n",
       "      <td>1.0</td>\n",
       "      <td>2</td>\n",
       "      <td>1</td>\n",
       "      <td>3.784190</td>\n",
       "    </tr>\n",
       "    <tr>\n",
       "      <th>4</th>\n",
       "      <td>221</td>\n",
       "      <td>1</td>\n",
       "      <td>1</td>\n",
       "      <td>1</td>\n",
       "      <td>1</td>\n",
       "      <td>0</td>\n",
       "      <td>6608</td>\n",
       "      <td>0.0</td>\n",
       "      <td>180.0</td>\n",
       "      <td>1.0</td>\n",
       "      <td>2</td>\n",
       "      <td>1</td>\n",
       "      <td>4.919981</td>\n",
       "    </tr>\n",
       "  </tbody>\n",
       "</table>\n",
       "</div>"
      ],
      "text/plain": [
       "   Loan_ID  Gender  Married  Dependents  Education  Self_Employed  \\\n",
       "0      365       1        1           0          1              0   \n",
       "1      449       1        1           2          0              0   \n",
       "2      362       0        0           0          1              0   \n",
       "3       43       1        1           1          0              0   \n",
       "4      221       1        1           1          1              0   \n",
       "\n",
       "   ApplicantIncome  CoapplicantIncome  Loan_Amount_Term  Credit_History  \\\n",
       "0             2167             2400.0             360.0             1.0   \n",
       "1             4865             5624.0             360.0             1.0   \n",
       "2             1963                0.0             360.0             1.0   \n",
       "3             5649                0.0             360.0             1.0   \n",
       "4             6608                0.0             180.0             1.0   \n",
       "\n",
       "   Property_Area  Loan_Status  LoanAmount_log  \n",
       "0              2            1        4.744932  \n",
       "1              1            1        5.337538  \n",
       "2              1            1        3.970292  \n",
       "3              2            1        3.784190  \n",
       "4              2            1        4.919981  "
      ]
     },
     "execution_count": 81,
     "metadata": {},
     "output_type": "execute_result"
    }
   ],
   "source": [
    "original_data = data.copy()\n",
    "original_data.head()"
   ]
  },
  {
   "cell_type": "code",
   "execution_count": 82,
   "id": "236a198e",
   "metadata": {},
   "outputs": [
    {
     "data": {
      "text/html": [
       "<div>\n",
       "<style scoped>\n",
       "    .dataframe tbody tr th:only-of-type {\n",
       "        vertical-align: middle;\n",
       "    }\n",
       "\n",
       "    .dataframe tbody tr th {\n",
       "        vertical-align: top;\n",
       "    }\n",
       "\n",
       "    .dataframe thead th {\n",
       "        text-align: right;\n",
       "    }\n",
       "</style>\n",
       "<table border=\"1\" class=\"dataframe\">\n",
       "  <thead>\n",
       "    <tr style=\"text-align: right;\">\n",
       "      <th></th>\n",
       "      <th>Loan_ID</th>\n",
       "      <th>Gender</th>\n",
       "      <th>Married</th>\n",
       "      <th>Dependents</th>\n",
       "      <th>Education</th>\n",
       "      <th>Self_Employed</th>\n",
       "      <th>ApplicantIncome</th>\n",
       "      <th>CoapplicantIncome</th>\n",
       "      <th>Loan_Amount_Term</th>\n",
       "      <th>Credit_History</th>\n",
       "      <th>Property_Area</th>\n",
       "      <th>Loan_Status</th>\n",
       "      <th>LoanAmount_log</th>\n",
       "    </tr>\n",
       "  </thead>\n",
       "  <tbody>\n",
       "    <tr>\n",
       "      <th>0</th>\n",
       "      <td>365</td>\n",
       "      <td>1</td>\n",
       "      <td>1</td>\n",
       "      <td>0</td>\n",
       "      <td>1</td>\n",
       "      <td>0</td>\n",
       "      <td>2167</td>\n",
       "      <td>2400.0</td>\n",
       "      <td>360.0</td>\n",
       "      <td>1.0</td>\n",
       "      <td>2</td>\n",
       "      <td>1</td>\n",
       "      <td>4.744932</td>\n",
       "    </tr>\n",
       "    <tr>\n",
       "      <th>1</th>\n",
       "      <td>449</td>\n",
       "      <td>1</td>\n",
       "      <td>1</td>\n",
       "      <td>2</td>\n",
       "      <td>0</td>\n",
       "      <td>0</td>\n",
       "      <td>4865</td>\n",
       "      <td>5624.0</td>\n",
       "      <td>360.0</td>\n",
       "      <td>1.0</td>\n",
       "      <td>1</td>\n",
       "      <td>1</td>\n",
       "      <td>5.337538</td>\n",
       "    </tr>\n",
       "    <tr>\n",
       "      <th>2</th>\n",
       "      <td>362</td>\n",
       "      <td>0</td>\n",
       "      <td>0</td>\n",
       "      <td>0</td>\n",
       "      <td>1</td>\n",
       "      <td>0</td>\n",
       "      <td>1963</td>\n",
       "      <td>0.0</td>\n",
       "      <td>360.0</td>\n",
       "      <td>1.0</td>\n",
       "      <td>1</td>\n",
       "      <td>1</td>\n",
       "      <td>3.970292</td>\n",
       "    </tr>\n",
       "    <tr>\n",
       "      <th>3</th>\n",
       "      <td>43</td>\n",
       "      <td>1</td>\n",
       "      <td>1</td>\n",
       "      <td>1</td>\n",
       "      <td>0</td>\n",
       "      <td>0</td>\n",
       "      <td>5649</td>\n",
       "      <td>0.0</td>\n",
       "      <td>360.0</td>\n",
       "      <td>1.0</td>\n",
       "      <td>2</td>\n",
       "      <td>1</td>\n",
       "      <td>3.784190</td>\n",
       "    </tr>\n",
       "    <tr>\n",
       "      <th>4</th>\n",
       "      <td>221</td>\n",
       "      <td>1</td>\n",
       "      <td>1</td>\n",
       "      <td>1</td>\n",
       "      <td>1</td>\n",
       "      <td>0</td>\n",
       "      <td>6608</td>\n",
       "      <td>0.0</td>\n",
       "      <td>180.0</td>\n",
       "      <td>1.0</td>\n",
       "      <td>2</td>\n",
       "      <td>1</td>\n",
       "      <td>4.919981</td>\n",
       "    </tr>\n",
       "  </tbody>\n",
       "</table>\n",
       "</div>"
      ],
      "text/plain": [
       "   Loan_ID  Gender  Married  Dependents  Education  Self_Employed  \\\n",
       "0      365       1        1           0          1              0   \n",
       "1      449       1        1           2          0              0   \n",
       "2      362       0        0           0          1              0   \n",
       "3       43       1        1           1          0              0   \n",
       "4      221       1        1           1          1              0   \n",
       "\n",
       "   ApplicantIncome  CoapplicantIncome  Loan_Amount_Term  Credit_History  \\\n",
       "0             2167             2400.0             360.0             1.0   \n",
       "1             4865             5624.0             360.0             1.0   \n",
       "2             1963                0.0             360.0             1.0   \n",
       "3             5649                0.0             360.0             1.0   \n",
       "4             6608                0.0             180.0             1.0   \n",
       "\n",
       "   Property_Area  Loan_Status  LoanAmount_log  \n",
       "0              2            1        4.744932  \n",
       "1              1            1        5.337538  \n",
       "2              1            1        3.970292  \n",
       "3              2            1        3.784190  \n",
       "4              2            1        4.919981  "
      ]
     },
     "execution_count": 82,
     "metadata": {},
     "output_type": "execute_result"
    }
   ],
   "source": [
    "original_data[0:5]"
   ]
  },
  {
   "cell_type": "code",
   "execution_count": 83,
   "id": "1223a16b",
   "metadata": {},
   "outputs": [
    {
     "data": {
      "text/html": [
       "<div>\n",
       "<style scoped>\n",
       "    .dataframe tbody tr th:only-of-type {\n",
       "        vertical-align: middle;\n",
       "    }\n",
       "\n",
       "    .dataframe tbody tr th {\n",
       "        vertical-align: top;\n",
       "    }\n",
       "\n",
       "    .dataframe thead th {\n",
       "        text-align: right;\n",
       "    }\n",
       "</style>\n",
       "<table border=\"1\" class=\"dataframe\">\n",
       "  <thead>\n",
       "    <tr style=\"text-align: right;\">\n",
       "      <th></th>\n",
       "      <th>Loan_ID</th>\n",
       "      <th>Gender</th>\n",
       "      <th>Married</th>\n",
       "      <th>Dependents</th>\n",
       "      <th>Education</th>\n",
       "      <th>Self_Employed</th>\n",
       "      <th>ApplicantIncome</th>\n",
       "      <th>CoapplicantIncome</th>\n",
       "      <th>Loan_Amount_Term</th>\n",
       "      <th>Credit_History</th>\n",
       "      <th>Property_Area</th>\n",
       "      <th>Loan_Status</th>\n",
       "      <th>LoanAmount_log</th>\n",
       "    </tr>\n",
       "  </thead>\n",
       "  <tbody>\n",
       "    <tr>\n",
       "      <th>0</th>\n",
       "      <td>365</td>\n",
       "      <td>1</td>\n",
       "      <td>1</td>\n",
       "      <td>0</td>\n",
       "      <td>1</td>\n",
       "      <td>0</td>\n",
       "      <td>2167</td>\n",
       "      <td>2400.0</td>\n",
       "      <td>360.0</td>\n",
       "      <td>1.0</td>\n",
       "      <td>2</td>\n",
       "      <td>1</td>\n",
       "      <td>4.744932</td>\n",
       "    </tr>\n",
       "    <tr>\n",
       "      <th>1</th>\n",
       "      <td>449</td>\n",
       "      <td>1</td>\n",
       "      <td>1</td>\n",
       "      <td>2</td>\n",
       "      <td>0</td>\n",
       "      <td>0</td>\n",
       "      <td>4865</td>\n",
       "      <td>5624.0</td>\n",
       "      <td>360.0</td>\n",
       "      <td>1.0</td>\n",
       "      <td>1</td>\n",
       "      <td>1</td>\n",
       "      <td>5.337538</td>\n",
       "    </tr>\n",
       "    <tr>\n",
       "      <th>2</th>\n",
       "      <td>362</td>\n",
       "      <td>0</td>\n",
       "      <td>0</td>\n",
       "      <td>0</td>\n",
       "      <td>1</td>\n",
       "      <td>0</td>\n",
       "      <td>1963</td>\n",
       "      <td>0.0</td>\n",
       "      <td>360.0</td>\n",
       "      <td>1.0</td>\n",
       "      <td>1</td>\n",
       "      <td>1</td>\n",
       "      <td>3.970292</td>\n",
       "    </tr>\n",
       "    <tr>\n",
       "      <th>3</th>\n",
       "      <td>43</td>\n",
       "      <td>1</td>\n",
       "      <td>1</td>\n",
       "      <td>1</td>\n",
       "      <td>0</td>\n",
       "      <td>0</td>\n",
       "      <td>5649</td>\n",
       "      <td>0.0</td>\n",
       "      <td>360.0</td>\n",
       "      <td>1.0</td>\n",
       "      <td>2</td>\n",
       "      <td>1</td>\n",
       "      <td>3.784190</td>\n",
       "    </tr>\n",
       "    <tr>\n",
       "      <th>4</th>\n",
       "      <td>221</td>\n",
       "      <td>1</td>\n",
       "      <td>1</td>\n",
       "      <td>1</td>\n",
       "      <td>1</td>\n",
       "      <td>0</td>\n",
       "      <td>6608</td>\n",
       "      <td>0.0</td>\n",
       "      <td>180.0</td>\n",
       "      <td>1.0</td>\n",
       "      <td>2</td>\n",
       "      <td>1</td>\n",
       "      <td>4.919981</td>\n",
       "    </tr>\n",
       "  </tbody>\n",
       "</table>\n",
       "</div>"
      ],
      "text/plain": [
       "   Loan_ID  Gender  Married  Dependents  Education  Self_Employed  \\\n",
       "0      365       1        1           0          1              0   \n",
       "1      449       1        1           2          0              0   \n",
       "2      362       0        0           0          1              0   \n",
       "3       43       1        1           1          0              0   \n",
       "4      221       1        1           1          1              0   \n",
       "\n",
       "   ApplicantIncome  CoapplicantIncome  Loan_Amount_Term  Credit_History  \\\n",
       "0             2167             2400.0             360.0             1.0   \n",
       "1             4865             5624.0             360.0             1.0   \n",
       "2             1963                0.0             360.0             1.0   \n",
       "3             5649                0.0             360.0             1.0   \n",
       "4             6608                0.0             180.0             1.0   \n",
       "\n",
       "   Property_Area  Loan_Status  LoanAmount_log  \n",
       "0              2            1        4.744932  \n",
       "1              1            1        5.337538  \n",
       "2              1            1        3.970292  \n",
       "3              2            1        3.784190  \n",
       "4              2            1        4.919981  "
      ]
     },
     "execution_count": 83,
     "metadata": {},
     "output_type": "execute_result"
    }
   ],
   "source": [
    "data[0:5]"
   ]
  },
  {
   "cell_type": "code",
   "execution_count": 84,
   "id": "eb53e2b4",
   "metadata": {},
   "outputs": [],
   "source": [
    "data_for_norm = data.drop(['Loan_ID','Loan_Status'], axis=1)"
   ]
  },
  {
   "cell_type": "raw",
   "id": "6aee855d",
   "metadata": {},
   "source": [
    "In the above cell, we excluded two coulmns 'Loan_Status' and 'Loan_ID' from being normalised. 'Loan_Status' is a target class and is a binary class. Therefore, normalisation is not needed on it. We also dropped 'Loan_ID'. Could you think of a reason why 'Loan_ID' is dropped?"
   ]
  },
  {
   "cell_type": "raw",
   "id": "b3924882",
   "metadata": {},
   "source": [
    "'Loan_ID' is a target class in the sense that it is the index of the dataset"
   ]
  },
  {
   "cell_type": "code",
   "execution_count": 85,
   "id": "34a18b8f",
   "metadata": {},
   "outputs": [],
   "source": [
    "normalized_data = normalize( data_for_norm )"
   ]
  },
  {
   "cell_type": "code",
   "execution_count": 86,
   "id": "b69ed9ec",
   "metadata": {},
   "outputs": [
    {
     "name": "stdout",
     "output_type": "stream",
     "text": [
      "[[3.07357568e-04 3.07357568e-04 0.00000000e+00 3.07357568e-04\n",
      "  0.00000000e+00 6.66043850e-01 7.37658164e-01 1.10648725e-01\n",
      "  3.07357568e-04 6.14715136e-04 1.45839080e-03]\n",
      " [1.34319289e-04 1.34319289e-04 2.68638577e-04 0.00000000e+00\n",
      "  0.00000000e+00 6.53463339e-01 7.55411679e-01 4.83549439e-02\n",
      "  1.34319289e-04 1.34319289e-04 7.16934318e-04]\n",
      " [0.00000000e+00 0.00000000e+00 0.00000000e+00 5.01066668e-04\n",
      "  0.00000000e+00 9.83593870e-01 0.00000000e+00 1.80384001e-01\n",
      "  5.01066668e-04 5.01066668e-04 1.98938094e-03]\n",
      " [1.76664044e-04 1.76664044e-04 1.76664044e-04 0.00000000e+00\n",
      "  0.00000000e+00 9.97975182e-01 0.00000000e+00 6.35990557e-02\n",
      "  1.76664044e-04 3.53328087e-04 6.68530242e-04]\n",
      " [1.51275549e-04 1.51275549e-04 1.51275549e-04 1.51275549e-04\n",
      "  0.00000000e+00 9.99628826e-01 0.00000000e+00 2.72295988e-02\n",
      "  1.51275549e-04 3.02551097e-04 7.44272814e-04]]\n"
     ]
    }
   ],
   "source": [
    "print(normalized_data[0:5])"
   ]
  },
  {
   "cell_type": "raw",
   "id": "c14e8e47",
   "metadata": {},
   "source": [
    "Resultant normalized data (normalized_data) is in the form of ndimenssional array. Therefore, we fit it back to a dataframe to perform further processing with Pandas."
   ]
  },
  {
   "cell_type": "code",
   "execution_count": 87,
   "id": "7dd044be",
   "metadata": {},
   "outputs": [
    {
     "data": {
      "text/plain": [
       "(550, 11)"
      ]
     },
     "execution_count": 87,
     "metadata": {},
     "output_type": "execute_result"
    }
   ],
   "source": [
    "normalized_data.shape"
   ]
  },
  {
   "cell_type": "code",
   "execution_count": 88,
   "id": "6090b6ae",
   "metadata": {},
   "outputs": [
    {
     "data": {
      "text/plain": [
       "(550, 13)"
      ]
     },
     "execution_count": 88,
     "metadata": {},
     "output_type": "execute_result"
    }
   ],
   "source": [
    "data.shape"
   ]
  },
  {
   "cell_type": "code",
   "execution_count": 89,
   "id": "d980c90b",
   "metadata": {},
   "outputs": [],
   "source": [
    "normalized_data = pd.DataFrame(normalized_data, columns=data_for_norm.columns)"
   ]
  },
  {
   "cell_type": "code",
   "execution_count": 90,
   "id": "68fcdf90",
   "metadata": {},
   "outputs": [
    {
     "data": {
      "text/html": [
       "<div>\n",
       "<style scoped>\n",
       "    .dataframe tbody tr th:only-of-type {\n",
       "        vertical-align: middle;\n",
       "    }\n",
       "\n",
       "    .dataframe tbody tr th {\n",
       "        vertical-align: top;\n",
       "    }\n",
       "\n",
       "    .dataframe thead th {\n",
       "        text-align: right;\n",
       "    }\n",
       "</style>\n",
       "<table border=\"1\" class=\"dataframe\">\n",
       "  <thead>\n",
       "    <tr style=\"text-align: right;\">\n",
       "      <th></th>\n",
       "      <th>Gender</th>\n",
       "      <th>Married</th>\n",
       "      <th>Dependents</th>\n",
       "      <th>Education</th>\n",
       "      <th>Self_Employed</th>\n",
       "      <th>ApplicantIncome</th>\n",
       "      <th>CoapplicantIncome</th>\n",
       "      <th>Loan_Amount_Term</th>\n",
       "      <th>Credit_History</th>\n",
       "      <th>Property_Area</th>\n",
       "      <th>LoanAmount_log</th>\n",
       "    </tr>\n",
       "  </thead>\n",
       "  <tbody>\n",
       "    <tr>\n",
       "      <th>0</th>\n",
       "      <td>0.000307</td>\n",
       "      <td>0.000307</td>\n",
       "      <td>0.000000</td>\n",
       "      <td>0.000307</td>\n",
       "      <td>0.0</td>\n",
       "      <td>0.666044</td>\n",
       "      <td>0.737658</td>\n",
       "      <td>0.110649</td>\n",
       "      <td>0.000307</td>\n",
       "      <td>0.000615</td>\n",
       "      <td>0.001458</td>\n",
       "    </tr>\n",
       "    <tr>\n",
       "      <th>1</th>\n",
       "      <td>0.000134</td>\n",
       "      <td>0.000134</td>\n",
       "      <td>0.000269</td>\n",
       "      <td>0.000000</td>\n",
       "      <td>0.0</td>\n",
       "      <td>0.653463</td>\n",
       "      <td>0.755412</td>\n",
       "      <td>0.048355</td>\n",
       "      <td>0.000134</td>\n",
       "      <td>0.000134</td>\n",
       "      <td>0.000717</td>\n",
       "    </tr>\n",
       "    <tr>\n",
       "      <th>2</th>\n",
       "      <td>0.000000</td>\n",
       "      <td>0.000000</td>\n",
       "      <td>0.000000</td>\n",
       "      <td>0.000501</td>\n",
       "      <td>0.0</td>\n",
       "      <td>0.983594</td>\n",
       "      <td>0.000000</td>\n",
       "      <td>0.180384</td>\n",
       "      <td>0.000501</td>\n",
       "      <td>0.000501</td>\n",
       "      <td>0.001989</td>\n",
       "    </tr>\n",
       "    <tr>\n",
       "      <th>3</th>\n",
       "      <td>0.000177</td>\n",
       "      <td>0.000177</td>\n",
       "      <td>0.000177</td>\n",
       "      <td>0.000000</td>\n",
       "      <td>0.0</td>\n",
       "      <td>0.997975</td>\n",
       "      <td>0.000000</td>\n",
       "      <td>0.063599</td>\n",
       "      <td>0.000177</td>\n",
       "      <td>0.000353</td>\n",
       "      <td>0.000669</td>\n",
       "    </tr>\n",
       "    <tr>\n",
       "      <th>4</th>\n",
       "      <td>0.000151</td>\n",
       "      <td>0.000151</td>\n",
       "      <td>0.000151</td>\n",
       "      <td>0.000151</td>\n",
       "      <td>0.0</td>\n",
       "      <td>0.999629</td>\n",
       "      <td>0.000000</td>\n",
       "      <td>0.027230</td>\n",
       "      <td>0.000151</td>\n",
       "      <td>0.000303</td>\n",
       "      <td>0.000744</td>\n",
       "    </tr>\n",
       "  </tbody>\n",
       "</table>\n",
       "</div>"
      ],
      "text/plain": [
       "     Gender   Married  Dependents  Education  Self_Employed  ApplicantIncome  \\\n",
       "0  0.000307  0.000307    0.000000   0.000307            0.0         0.666044   \n",
       "1  0.000134  0.000134    0.000269   0.000000            0.0         0.653463   \n",
       "2  0.000000  0.000000    0.000000   0.000501            0.0         0.983594   \n",
       "3  0.000177  0.000177    0.000177   0.000000            0.0         0.997975   \n",
       "4  0.000151  0.000151    0.000151   0.000151            0.0         0.999629   \n",
       "\n",
       "   CoapplicantIncome  Loan_Amount_Term  Credit_History  Property_Area  \\\n",
       "0           0.737658          0.110649        0.000307       0.000615   \n",
       "1           0.755412          0.048355        0.000134       0.000134   \n",
       "2           0.000000          0.180384        0.000501       0.000501   \n",
       "3           0.000000          0.063599        0.000177       0.000353   \n",
       "4           0.000000          0.027230        0.000151       0.000303   \n",
       "\n",
       "   LoanAmount_log  \n",
       "0        0.001458  \n",
       "1        0.000717  \n",
       "2        0.001989  \n",
       "3        0.000669  \n",
       "4        0.000744  "
      ]
     },
     "execution_count": 90,
     "metadata": {},
     "output_type": "execute_result"
    }
   ],
   "source": [
    "normalized_data.head()"
   ]
  },
  {
   "cell_type": "code",
   "execution_count": 91,
   "id": "a2c6dffb",
   "metadata": {},
   "outputs": [],
   "source": [
    "normalized_data['Loan_ID'] = data['Loan_ID']"
   ]
  },
  {
   "cell_type": "raw",
   "id": "a65ef4f1",
   "metadata": {},
   "source": [
    "The above code inserts column 'Loan_ID' based on the 'index' in the dataframe."
   ]
  },
  {
   "cell_type": "code",
   "execution_count": 92,
   "id": "3a5ac98e",
   "metadata": {},
   "outputs": [],
   "source": [
    "normalized_data['Loan_Status'] = data['Loan_Status']"
   ]
  },
  {
   "cell_type": "raw",
   "id": "f04a8c65",
   "metadata": {},
   "source": [
    "The above code inserts column 'Loan_Status' based on the 'index' in the dataframe."
   ]
  },
  {
   "cell_type": "code",
   "execution_count": 93,
   "id": "bae9aed8",
   "metadata": {},
   "outputs": [
    {
     "data": {
      "text/html": [
       "<div>\n",
       "<style scoped>\n",
       "    .dataframe tbody tr th:only-of-type {\n",
       "        vertical-align: middle;\n",
       "    }\n",
       "\n",
       "    .dataframe tbody tr th {\n",
       "        vertical-align: top;\n",
       "    }\n",
       "\n",
       "    .dataframe thead th {\n",
       "        text-align: right;\n",
       "    }\n",
       "</style>\n",
       "<table border=\"1\" class=\"dataframe\">\n",
       "  <thead>\n",
       "    <tr style=\"text-align: right;\">\n",
       "      <th></th>\n",
       "      <th>Gender</th>\n",
       "      <th>Married</th>\n",
       "      <th>Dependents</th>\n",
       "      <th>Education</th>\n",
       "      <th>Self_Employed</th>\n",
       "      <th>ApplicantIncome</th>\n",
       "      <th>CoapplicantIncome</th>\n",
       "      <th>Loan_Amount_Term</th>\n",
       "      <th>Credit_History</th>\n",
       "      <th>Property_Area</th>\n",
       "      <th>LoanAmount_log</th>\n",
       "      <th>Loan_ID</th>\n",
       "      <th>Loan_Status</th>\n",
       "    </tr>\n",
       "  </thead>\n",
       "  <tbody>\n",
       "    <tr>\n",
       "      <th>0</th>\n",
       "      <td>0.000307</td>\n",
       "      <td>0.000307</td>\n",
       "      <td>0.000000</td>\n",
       "      <td>0.000307</td>\n",
       "      <td>0.0</td>\n",
       "      <td>0.666044</td>\n",
       "      <td>0.737658</td>\n",
       "      <td>0.110649</td>\n",
       "      <td>0.000307</td>\n",
       "      <td>0.000615</td>\n",
       "      <td>0.001458</td>\n",
       "      <td>365</td>\n",
       "      <td>1</td>\n",
       "    </tr>\n",
       "    <tr>\n",
       "      <th>1</th>\n",
       "      <td>0.000134</td>\n",
       "      <td>0.000134</td>\n",
       "      <td>0.000269</td>\n",
       "      <td>0.000000</td>\n",
       "      <td>0.0</td>\n",
       "      <td>0.653463</td>\n",
       "      <td>0.755412</td>\n",
       "      <td>0.048355</td>\n",
       "      <td>0.000134</td>\n",
       "      <td>0.000134</td>\n",
       "      <td>0.000717</td>\n",
       "      <td>449</td>\n",
       "      <td>1</td>\n",
       "    </tr>\n",
       "    <tr>\n",
       "      <th>2</th>\n",
       "      <td>0.000000</td>\n",
       "      <td>0.000000</td>\n",
       "      <td>0.000000</td>\n",
       "      <td>0.000501</td>\n",
       "      <td>0.0</td>\n",
       "      <td>0.983594</td>\n",
       "      <td>0.000000</td>\n",
       "      <td>0.180384</td>\n",
       "      <td>0.000501</td>\n",
       "      <td>0.000501</td>\n",
       "      <td>0.001989</td>\n",
       "      <td>362</td>\n",
       "      <td>1</td>\n",
       "    </tr>\n",
       "    <tr>\n",
       "      <th>3</th>\n",
       "      <td>0.000177</td>\n",
       "      <td>0.000177</td>\n",
       "      <td>0.000177</td>\n",
       "      <td>0.000000</td>\n",
       "      <td>0.0</td>\n",
       "      <td>0.997975</td>\n",
       "      <td>0.000000</td>\n",
       "      <td>0.063599</td>\n",
       "      <td>0.000177</td>\n",
       "      <td>0.000353</td>\n",
       "      <td>0.000669</td>\n",
       "      <td>43</td>\n",
       "      <td>1</td>\n",
       "    </tr>\n",
       "    <tr>\n",
       "      <th>4</th>\n",
       "      <td>0.000151</td>\n",
       "      <td>0.000151</td>\n",
       "      <td>0.000151</td>\n",
       "      <td>0.000151</td>\n",
       "      <td>0.0</td>\n",
       "      <td>0.999629</td>\n",
       "      <td>0.000000</td>\n",
       "      <td>0.027230</td>\n",
       "      <td>0.000151</td>\n",
       "      <td>0.000303</td>\n",
       "      <td>0.000744</td>\n",
       "      <td>221</td>\n",
       "      <td>1</td>\n",
       "    </tr>\n",
       "  </tbody>\n",
       "</table>\n",
       "</div>"
      ],
      "text/plain": [
       "     Gender   Married  Dependents  Education  Self_Employed  ApplicantIncome  \\\n",
       "0  0.000307  0.000307    0.000000   0.000307            0.0         0.666044   \n",
       "1  0.000134  0.000134    0.000269   0.000000            0.0         0.653463   \n",
       "2  0.000000  0.000000    0.000000   0.000501            0.0         0.983594   \n",
       "3  0.000177  0.000177    0.000177   0.000000            0.0         0.997975   \n",
       "4  0.000151  0.000151    0.000151   0.000151            0.0         0.999629   \n",
       "\n",
       "   CoapplicantIncome  Loan_Amount_Term  Credit_History  Property_Area  \\\n",
       "0           0.737658          0.110649        0.000307       0.000615   \n",
       "1           0.755412          0.048355        0.000134       0.000134   \n",
       "2           0.000000          0.180384        0.000501       0.000501   \n",
       "3           0.000000          0.063599        0.000177       0.000353   \n",
       "4           0.000000          0.027230        0.000151       0.000303   \n",
       "\n",
       "   LoanAmount_log  Loan_ID  Loan_Status  \n",
       "0        0.001458      365            1  \n",
       "1        0.000717      449            1  \n",
       "2        0.001989      362            1  \n",
       "3        0.000669       43            1  \n",
       "4        0.000744      221            1  "
      ]
     },
     "execution_count": 93,
     "metadata": {},
     "output_type": "execute_result"
    }
   ],
   "source": [
    "normalized_data.head()"
   ]
  },
  {
   "cell_type": "raw",
   "id": "3e68b67f",
   "metadata": {},
   "source": [
    "Now, we can see that the dataset is suitable to be fed to a machine learning algorithm. For example, it is in numeric format and normalised to a fixed range. More analysis and computation could be performed on the dataset as required, and also, it is in a format which can be acceptable for machine learning models."
   ]
  },
  {
   "cell_type": "code",
   "execution_count": 94,
   "id": "77f7da21",
   "metadata": {},
   "outputs": [
    {
     "data": {
      "text/html": [
       "<div>\n",
       "<style scoped>\n",
       "    .dataframe tbody tr th:only-of-type {\n",
       "        vertical-align: middle;\n",
       "    }\n",
       "\n",
       "    .dataframe tbody tr th {\n",
       "        vertical-align: top;\n",
       "    }\n",
       "\n",
       "    .dataframe thead th {\n",
       "        text-align: right;\n",
       "    }\n",
       "</style>\n",
       "<table border=\"1\" class=\"dataframe\">\n",
       "  <thead>\n",
       "    <tr style=\"text-align: right;\">\n",
       "      <th></th>\n",
       "      <th>Gender</th>\n",
       "      <th>Married</th>\n",
       "      <th>Dependents</th>\n",
       "      <th>Education</th>\n",
       "      <th>Self_Employed</th>\n",
       "      <th>ApplicantIncome</th>\n",
       "      <th>CoapplicantIncome</th>\n",
       "      <th>Loan_Amount_Term</th>\n",
       "      <th>Credit_History</th>\n",
       "      <th>Property_Area</th>\n",
       "      <th>LoanAmount_log</th>\n",
       "      <th>Loan_ID</th>\n",
       "      <th>Loan_Status</th>\n",
       "    </tr>\n",
       "  </thead>\n",
       "  <tbody>\n",
       "    <tr>\n",
       "      <th>count</th>\n",
       "      <td>550.000000</td>\n",
       "      <td>550.000000</td>\n",
       "      <td>550.000000</td>\n",
       "      <td>550.000000</td>\n",
       "      <td>550.000000</td>\n",
       "      <td>550.000000</td>\n",
       "      <td>550.000000</td>\n",
       "      <td>550.000000</td>\n",
       "      <td>550.000000</td>\n",
       "      <td>550.000000</td>\n",
       "      <td>550.000000</td>\n",
       "      <td>550.000000</td>\n",
       "      <td>550.000000</td>\n",
       "    </tr>\n",
       "    <tr>\n",
       "      <th>mean</th>\n",
       "      <td>0.000180</td>\n",
       "      <td>0.000145</td>\n",
       "      <td>0.000157</td>\n",
       "      <td>0.000057</td>\n",
       "      <td>0.000024</td>\n",
       "      <td>0.873146</td>\n",
       "      <td>0.313958</td>\n",
       "      <td>0.078365</td>\n",
       "      <td>0.000191</td>\n",
       "      <td>0.000243</td>\n",
       "      <td>0.001074</td>\n",
       "      <td>274.500000</td>\n",
       "      <td>0.700000</td>\n",
       "    </tr>\n",
       "    <tr>\n",
       "      <th>std</th>\n",
       "      <td>0.000124</td>\n",
       "      <td>0.000131</td>\n",
       "      <td>0.000243</td>\n",
       "      <td>0.000117</td>\n",
       "      <td>0.000070</td>\n",
       "      <td>0.174878</td>\n",
       "      <td>0.317933</td>\n",
       "      <td>0.038490</td>\n",
       "      <td>0.000124</td>\n",
       "      <td>0.000239</td>\n",
       "      <td>0.000428</td>\n",
       "      <td>158.915596</td>\n",
       "      <td>0.458675</td>\n",
       "    </tr>\n",
       "    <tr>\n",
       "      <th>min</th>\n",
       "      <td>0.000000</td>\n",
       "      <td>0.000000</td>\n",
       "      <td>0.000000</td>\n",
       "      <td>0.000000</td>\n",
       "      <td>0.000000</td>\n",
       "      <td>0.054177</td>\n",
       "      <td>0.000000</td>\n",
       "      <td>0.002207</td>\n",
       "      <td>0.000000</td>\n",
       "      <td>0.000000</td>\n",
       "      <td>0.000073</td>\n",
       "      <td>0.000000</td>\n",
       "      <td>0.000000</td>\n",
       "    </tr>\n",
       "    <tr>\n",
       "      <th>25%</th>\n",
       "      <td>0.000086</td>\n",
       "      <td>0.000000</td>\n",
       "      <td>0.000000</td>\n",
       "      <td>0.000000</td>\n",
       "      <td>0.000000</td>\n",
       "      <td>0.794058</td>\n",
       "      <td>0.000000</td>\n",
       "      <td>0.049089</td>\n",
       "      <td>0.000100</td>\n",
       "      <td>0.000000</td>\n",
       "      <td>0.000788</td>\n",
       "      <td>137.250000</td>\n",
       "      <td>0.000000</td>\n",
       "    </tr>\n",
       "    <tr>\n",
       "      <th>50%</th>\n",
       "      <td>0.000188</td>\n",
       "      <td>0.000151</td>\n",
       "      <td>0.000000</td>\n",
       "      <td>0.000000</td>\n",
       "      <td>0.000000</td>\n",
       "      <td>0.962934</td>\n",
       "      <td>0.262987</td>\n",
       "      <td>0.077837</td>\n",
       "      <td>0.000204</td>\n",
       "      <td>0.000211</td>\n",
       "      <td>0.001077</td>\n",
       "      <td>274.500000</td>\n",
       "      <td>1.000000</td>\n",
       "    </tr>\n",
       "    <tr>\n",
       "      <th>75%</th>\n",
       "      <td>0.000267</td>\n",
       "      <td>0.000250</td>\n",
       "      <td>0.000274</td>\n",
       "      <td>0.000000</td>\n",
       "      <td>0.000000</td>\n",
       "      <td>0.997118</td>\n",
       "      <td>0.603572</td>\n",
       "      <td>0.104109</td>\n",
       "      <td>0.000278</td>\n",
       "      <td>0.000370</td>\n",
       "      <td>0.001357</td>\n",
       "      <td>411.750000</td>\n",
       "      <td>1.000000</td>\n",
       "    </tr>\n",
       "    <tr>\n",
       "      <th>max</th>\n",
       "      <td>0.000673</td>\n",
       "      <td>0.000589</td>\n",
       "      <td>0.001609</td>\n",
       "      <td>0.000673</td>\n",
       "      <td>0.000455</td>\n",
       "      <td>0.999996</td>\n",
       "      <td>0.998475</td>\n",
       "      <td>0.242218</td>\n",
       "      <td>0.000673</td>\n",
       "      <td>0.001346</td>\n",
       "      <td>0.002674</td>\n",
       "      <td>549.000000</td>\n",
       "      <td>1.000000</td>\n",
       "    </tr>\n",
       "  </tbody>\n",
       "</table>\n",
       "</div>"
      ],
      "text/plain": [
       "           Gender     Married  Dependents   Education  Self_Employed  \\\n",
       "count  550.000000  550.000000  550.000000  550.000000     550.000000   \n",
       "mean     0.000180    0.000145    0.000157    0.000057       0.000024   \n",
       "std      0.000124    0.000131    0.000243    0.000117       0.000070   \n",
       "min      0.000000    0.000000    0.000000    0.000000       0.000000   \n",
       "25%      0.000086    0.000000    0.000000    0.000000       0.000000   \n",
       "50%      0.000188    0.000151    0.000000    0.000000       0.000000   \n",
       "75%      0.000267    0.000250    0.000274    0.000000       0.000000   \n",
       "max      0.000673    0.000589    0.001609    0.000673       0.000455   \n",
       "\n",
       "       ApplicantIncome  CoapplicantIncome  Loan_Amount_Term  Credit_History  \\\n",
       "count       550.000000         550.000000        550.000000      550.000000   \n",
       "mean          0.873146           0.313958          0.078365        0.000191   \n",
       "std           0.174878           0.317933          0.038490        0.000124   \n",
       "min           0.054177           0.000000          0.002207        0.000000   \n",
       "25%           0.794058           0.000000          0.049089        0.000100   \n",
       "50%           0.962934           0.262987          0.077837        0.000204   \n",
       "75%           0.997118           0.603572          0.104109        0.000278   \n",
       "max           0.999996           0.998475          0.242218        0.000673   \n",
       "\n",
       "       Property_Area  LoanAmount_log     Loan_ID  Loan_Status  \n",
       "count     550.000000      550.000000  550.000000   550.000000  \n",
       "mean        0.000243        0.001074  274.500000     0.700000  \n",
       "std         0.000239        0.000428  158.915596     0.458675  \n",
       "min         0.000000        0.000073    0.000000     0.000000  \n",
       "25%         0.000000        0.000788  137.250000     0.000000  \n",
       "50%         0.000211        0.001077  274.500000     1.000000  \n",
       "75%         0.000370        0.001357  411.750000     1.000000  \n",
       "max         0.001346        0.002674  549.000000     1.000000  "
      ]
     },
     "execution_count": 94,
     "metadata": {},
     "output_type": "execute_result"
    }
   ],
   "source": [
    "normalized_data.describe()"
   ]
  },
  {
   "cell_type": "code",
   "execution_count": 95,
   "id": "9bbd3a7b",
   "metadata": {},
   "outputs": [
    {
     "data": {
      "text/plain": [
       "<AxesSubplot:>"
      ]
     },
     "execution_count": 95,
     "metadata": {},
     "output_type": "execute_result"
    },
    {
     "data": {
      "image/png": "[encoded data removed]",
      "text/plain": [
       "<Figure size 432x288 with 1 Axes>"
      ]
     },
     "metadata": {
      "needs_background": "light"
     },
     "output_type": "display_data"
    }
   ],
   "source": [
    "normalized_data['LoanAmount_log'].hist(bins=100)"
   ]
  },
  {
   "cell_type": "code",
   "execution_count": 96,
   "id": "afc559c5",
   "metadata": {},
   "outputs": [
    {
     "data": {
      "text/plain": [
       "<AxesSubplot:>"
      ]
     },
     "execution_count": 96,
     "metadata": {},
     "output_type": "execute_result"
    },
    {
     "data": {
      "image/png": "[encoded data removed]",
      "text/plain": [
       "<Figure size 432x288 with 1 Axes>"
      ]
     },
     "metadata": {
      "needs_background": "light"
     },
     "output_type": "display_data"
    }
   ],
   "source": [
    "normalized_data['ApplicantIncome'].hist(bins=100)"
   ]
  },
  {
   "cell_type": "raw",
   "id": "7a6a0ccc",
   "metadata": {},
   "source": [
    "you can play with the data yourself by performing some more analysis for fun! An example is provided in the above cell."
   ]
  },
  {
   "cell_type": "raw",
   "id": "ffa7b6a8",
   "metadata": {},
   "source": [
    "In the next section we will build our first machine learning model, which is a decision tree classifier."
   ]
  },
  {
   "cell_type": "code",
   "execution_count": null,
   "id": "9bedaf87",
   "metadata": {},
   "outputs": [],
   "source": []
  },
  {
   "cell_type": "code",
   "execution_count": null,
   "id": "e1a820cd",
   "metadata": {},
   "outputs": [],
   "source": []
  },
  {
   "cell_type": "markdown",
   "id": "7f0b27e7",
   "metadata": {},
   "source": [
    "# Building a Decision Tree classifier using sklearn"
   ]
  },
  {
   "cell_type": "markdown",
   "id": "cac55278",
   "metadata": {},
   "source": [
    "Importing all necessary libraries from sklearn\n"
   ]
  },
  {
   "cell_type": "code",
   "execution_count": 97,
   "id": "b73f1356",
   "metadata": {},
   "outputs": [],
   "source": [
    "from sklearn.model_selection import train_test_split\n",
    "from sklearn import tree\n",
    "from sklearn.tree import DecisionTreeClassifier\n",
    "from sklearn import metrics\n",
    "from sklearn.metrics import confusion_matrix\n",
    "from sklearn.metrics import classification_report\n",
    "from sklearn.tree import export_graphviz\n",
    "from sklearn.metrics import ConfusionMatrixDisplay\n",
    "#import pydotplus"
   ]
  },
  {
   "cell_type": "code",
   "execution_count": null,
   "id": "86b54235",
   "metadata": {},
   "outputs": [],
   "source": []
  },
  {
   "cell_type": "markdown",
   "id": "ca8b2186",
   "metadata": {},
   "source": [
    "Feature selection"
   ]
  },
  {
   "cell_type": "markdown",
   "id": "9ae9594d",
   "metadata": {},
   "source": [
    "For a small dataset, using all the features to build the feature space or a model may not be an exhaustive and expensive process. However, for a large dataset, it is not an ideal way to utilise all the features as it will result in a high dimensional feature space, and will be an exhaustive search, expensive and time-consuming job."
   ]
  },
  {
   "cell_type": "markdown",
   "id": "8b5a8ce9",
   "metadata": {},
   "source": [
    "Feature selection is an important step of pre-processing, where we tend to remove the features that do not or less likely to contribute to the classification results. We aim to remove such features without compromising on the classification results.\n"
   ]
  },
  {
   "cell_type": "markdown",
   "id": "34f54a6c",
   "metadata": {},
   "source": [
    "There could be different ways to perform feature selection. One way is intuitive, where knowing the business problem and domain knowledge, we simply use our judgement for selecting most discriminating features. There are other automatic methods such as dimensionality reduction, statistical-based methods to identify feature importance, etc."
   ]
  },
  {
   "cell_type": "markdown",
   "id": "4a54f751",
   "metadata": {},
   "source": [
    "In this notebook, first, we will be building a baseline model using all the features. Then we will be using feature importance method available in sklearn to see the relative importance scores for each feature. You will then be required to build a new module with the identified important features and compare the results of both the models."
   ]
  },
  {
   "cell_type": "markdown",
   "id": "ada47c35",
   "metadata": {},
   "source": [
    "The process to build the model will be the same.\n"
   ]
  },
  {
   "cell_type": "markdown",
   "id": "5d0422ce",
   "metadata": {},
   "source": [
    "As you can see there are 13 features + 1 target in the final DataFrame. Remember, we have added a few new features based on the existing ones such as 'LoanAmount_log'. To build the model we can select all or sub-set of the features."
   ]
  },
  {
   "cell_type": "markdown",
   "id": "8d2faf10",
   "metadata": {},
   "source": [
    "Let's perform some feature selection.\n"
   ]
  },
  {
   "cell_type": "code",
   "execution_count": 98,
   "id": "22a292d7",
   "metadata": {},
   "outputs": [
    {
     "data": {
      "text/plain": [
       "['Gender',\n",
       " 'Married',\n",
       " 'Dependents',\n",
       " 'Education',\n",
       " 'Self_Employed',\n",
       " 'ApplicantIncome',\n",
       " 'CoapplicantIncome',\n",
       " 'Loan_Amount_Term',\n",
       " 'Credit_History',\n",
       " 'Property_Area',\n",
       " 'LoanAmount_log',\n",
       " 'Loan_ID',\n",
       " 'Loan_Status']"
      ]
     },
     "execution_count": 98,
     "metadata": {},
     "output_type": "execute_result"
    }
   ],
   "source": [
    "columns = list(normalized_data.columns) \n",
    "columns"
   ]
  },
  {
   "cell_type": "code",
   "execution_count": 99,
   "id": "0bd1bad6",
   "metadata": {},
   "outputs": [
    {
     "data": {
      "text/html": [
       "<div>\n",
       "<style scoped>\n",
       "    .dataframe tbody tr th:only-of-type {\n",
       "        vertical-align: middle;\n",
       "    }\n",
       "\n",
       "    .dataframe tbody tr th {\n",
       "        vertical-align: top;\n",
       "    }\n",
       "\n",
       "    .dataframe thead th {\n",
       "        text-align: right;\n",
       "    }\n",
       "</style>\n",
       "<table border=\"1\" class=\"dataframe\">\n",
       "  <thead>\n",
       "    <tr style=\"text-align: right;\">\n",
       "      <th></th>\n",
       "      <th>Gender</th>\n",
       "      <th>Married</th>\n",
       "      <th>Dependents</th>\n",
       "      <th>Education</th>\n",
       "      <th>Self_Employed</th>\n",
       "      <th>ApplicantIncome</th>\n",
       "      <th>CoapplicantIncome</th>\n",
       "      <th>Loan_Amount_Term</th>\n",
       "      <th>Credit_History</th>\n",
       "      <th>Property_Area</th>\n",
       "      <th>LoanAmount_log</th>\n",
       "      <th>Loan_ID</th>\n",
       "      <th>Loan_Status</th>\n",
       "    </tr>\n",
       "  </thead>\n",
       "  <tbody>\n",
       "    <tr>\n",
       "      <th>0</th>\n",
       "      <td>0.000307</td>\n",
       "      <td>0.000307</td>\n",
       "      <td>0.000000</td>\n",
       "      <td>0.000307</td>\n",
       "      <td>0.0</td>\n",
       "      <td>0.666044</td>\n",
       "      <td>0.737658</td>\n",
       "      <td>0.110649</td>\n",
       "      <td>0.000307</td>\n",
       "      <td>0.000615</td>\n",
       "      <td>0.001458</td>\n",
       "      <td>365</td>\n",
       "      <td>1</td>\n",
       "    </tr>\n",
       "    <tr>\n",
       "      <th>1</th>\n",
       "      <td>0.000134</td>\n",
       "      <td>0.000134</td>\n",
       "      <td>0.000269</td>\n",
       "      <td>0.000000</td>\n",
       "      <td>0.0</td>\n",
       "      <td>0.653463</td>\n",
       "      <td>0.755412</td>\n",
       "      <td>0.048355</td>\n",
       "      <td>0.000134</td>\n",
       "      <td>0.000134</td>\n",
       "      <td>0.000717</td>\n",
       "      <td>449</td>\n",
       "      <td>1</td>\n",
       "    </tr>\n",
       "    <tr>\n",
       "      <th>2</th>\n",
       "      <td>0.000000</td>\n",
       "      <td>0.000000</td>\n",
       "      <td>0.000000</td>\n",
       "      <td>0.000501</td>\n",
       "      <td>0.0</td>\n",
       "      <td>0.983594</td>\n",
       "      <td>0.000000</td>\n",
       "      <td>0.180384</td>\n",
       "      <td>0.000501</td>\n",
       "      <td>0.000501</td>\n",
       "      <td>0.001989</td>\n",
       "      <td>362</td>\n",
       "      <td>1</td>\n",
       "    </tr>\n",
       "    <tr>\n",
       "      <th>3</th>\n",
       "      <td>0.000177</td>\n",
       "      <td>0.000177</td>\n",
       "      <td>0.000177</td>\n",
       "      <td>0.000000</td>\n",
       "      <td>0.0</td>\n",
       "      <td>0.997975</td>\n",
       "      <td>0.000000</td>\n",
       "      <td>0.063599</td>\n",
       "      <td>0.000177</td>\n",
       "      <td>0.000353</td>\n",
       "      <td>0.000669</td>\n",
       "      <td>43</td>\n",
       "      <td>1</td>\n",
       "    </tr>\n",
       "    <tr>\n",
       "      <th>4</th>\n",
       "      <td>0.000151</td>\n",
       "      <td>0.000151</td>\n",
       "      <td>0.000151</td>\n",
       "      <td>0.000151</td>\n",
       "      <td>0.0</td>\n",
       "      <td>0.999629</td>\n",
       "      <td>0.000000</td>\n",
       "      <td>0.027230</td>\n",
       "      <td>0.000151</td>\n",
       "      <td>0.000303</td>\n",
       "      <td>0.000744</td>\n",
       "      <td>221</td>\n",
       "      <td>1</td>\n",
       "    </tr>\n",
       "  </tbody>\n",
       "</table>\n",
       "</div>"
      ],
      "text/plain": [
       "     Gender   Married  Dependents  Education  Self_Employed  ApplicantIncome  \\\n",
       "0  0.000307  0.000307    0.000000   0.000307            0.0         0.666044   \n",
       "1  0.000134  0.000134    0.000269   0.000000            0.0         0.653463   \n",
       "2  0.000000  0.000000    0.000000   0.000501            0.0         0.983594   \n",
       "3  0.000177  0.000177    0.000177   0.000000            0.0         0.997975   \n",
       "4  0.000151  0.000151    0.000151   0.000151            0.0         0.999629   \n",
       "\n",
       "   CoapplicantIncome  Loan_Amount_Term  Credit_History  Property_Area  \\\n",
       "0           0.737658          0.110649        0.000307       0.000615   \n",
       "1           0.755412          0.048355        0.000134       0.000134   \n",
       "2           0.000000          0.180384        0.000501       0.000501   \n",
       "3           0.000000          0.063599        0.000177       0.000353   \n",
       "4           0.000000          0.027230        0.000151       0.000303   \n",
       "\n",
       "   LoanAmount_log  Loan_ID  Loan_Status  \n",
       "0        0.001458      365            1  \n",
       "1        0.000717      449            1  \n",
       "2        0.001989      362            1  \n",
       "3        0.000669       43            1  \n",
       "4        0.000744      221            1  "
      ]
     },
     "execution_count": 99,
     "metadata": {},
     "output_type": "execute_result"
    }
   ],
   "source": [
    "normalized_data.head()\n"
   ]
  },
  {
   "cell_type": "code",
   "execution_count": 100,
   "id": "3a649e52",
   "metadata": {},
   "outputs": [],
   "source": [
    "features = normalized_data.drop(['Loan_ID','Loan_Status'], axis = 1)\n",
    "\n",
    "classes = pd.DataFrame(normalized_data['Loan_Status'])\n"
   ]
  },
  {
   "cell_type": "code",
   "execution_count": 101,
   "id": "2e755864",
   "metadata": {},
   "outputs": [
    {
     "name": "stdout",
     "output_type": "stream",
     "text": [
      "Features:\n",
      "     Gender   Married  Dependents  Education  Self_Employed  ApplicantIncome  \\\n",
      "0  0.000307  0.000307    0.000000   0.000307            0.0         0.666044   \n",
      "1  0.000134  0.000134    0.000269   0.000000            0.0         0.653463   \n",
      "2  0.000000  0.000000    0.000000   0.000501            0.0         0.983594   \n",
      "3  0.000177  0.000177    0.000177   0.000000            0.0         0.997975   \n",
      "4  0.000151  0.000151    0.000151   0.000151            0.0         0.999629   \n",
      "\n",
      "   CoapplicantIncome  Loan_Amount_Term  Credit_History  Property_Area  \\\n",
      "0           0.737658          0.110649        0.000307       0.000615   \n",
      "1           0.755412          0.048355        0.000134       0.000134   \n",
      "2           0.000000          0.180384        0.000501       0.000501   \n",
      "3           0.000000          0.063599        0.000177       0.000353   \n",
      "4           0.000000          0.027230        0.000151       0.000303   \n",
      "\n",
      "   LoanAmount_log  \n",
      "0        0.001458  \n",
      "1        0.000717  \n",
      "2        0.001989  \n",
      "3        0.000669  \n",
      "4        0.000744  \n",
      "Classes:\n",
      "   Loan_Status\n",
      "0            1\n",
      "1            1\n",
      "2            1\n",
      "3            1\n",
      "4            1\n"
     ]
    }
   ],
   "source": [
    "print('Features:')\n",
    "print(features.head())\n",
    "\n",
    "print('Classes:')\n",
    "print(classes.head())\n"
   ]
  },
  {
   "cell_type": "code",
   "execution_count": 102,
   "id": "5e72ff1f",
   "metadata": {},
   "outputs": [
    {
     "data": {
      "text/html": [
       "<div>\n",
       "<style scoped>\n",
       "    .dataframe tbody tr th:only-of-type {\n",
       "        vertical-align: middle;\n",
       "    }\n",
       "\n",
       "    .dataframe tbody tr th {\n",
       "        vertical-align: top;\n",
       "    }\n",
       "\n",
       "    .dataframe thead th {\n",
       "        text-align: right;\n",
       "    }\n",
       "</style>\n",
       "<table border=\"1\" class=\"dataframe\">\n",
       "  <thead>\n",
       "    <tr style=\"text-align: right;\">\n",
       "      <th></th>\n",
       "      <th>Gender</th>\n",
       "      <th>Married</th>\n",
       "      <th>Dependents</th>\n",
       "      <th>Education</th>\n",
       "      <th>Self_Employed</th>\n",
       "      <th>ApplicantIncome</th>\n",
       "      <th>CoapplicantIncome</th>\n",
       "      <th>Loan_Amount_Term</th>\n",
       "      <th>Credit_History</th>\n",
       "      <th>Property_Area</th>\n",
       "      <th>LoanAmount_log</th>\n",
       "      <th>Loan_ID</th>\n",
       "      <th>Loan_Status</th>\n",
       "    </tr>\n",
       "  </thead>\n",
       "  <tbody>\n",
       "    <tr>\n",
       "      <th>0</th>\n",
       "      <td>0.000307</td>\n",
       "      <td>0.000307</td>\n",
       "      <td>0.000000</td>\n",
       "      <td>0.000307</td>\n",
       "      <td>0.000000</td>\n",
       "      <td>0.666044</td>\n",
       "      <td>0.737658</td>\n",
       "      <td>0.110649</td>\n",
       "      <td>0.000307</td>\n",
       "      <td>0.000615</td>\n",
       "      <td>0.001458</td>\n",
       "      <td>365</td>\n",
       "      <td>1</td>\n",
       "    </tr>\n",
       "    <tr>\n",
       "      <th>1</th>\n",
       "      <td>0.000134</td>\n",
       "      <td>0.000134</td>\n",
       "      <td>0.000269</td>\n",
       "      <td>0.000000</td>\n",
       "      <td>0.000000</td>\n",
       "      <td>0.653463</td>\n",
       "      <td>0.755412</td>\n",
       "      <td>0.048355</td>\n",
       "      <td>0.000134</td>\n",
       "      <td>0.000134</td>\n",
       "      <td>0.000717</td>\n",
       "      <td>449</td>\n",
       "      <td>1</td>\n",
       "    </tr>\n",
       "    <tr>\n",
       "      <th>2</th>\n",
       "      <td>0.000000</td>\n",
       "      <td>0.000000</td>\n",
       "      <td>0.000000</td>\n",
       "      <td>0.000501</td>\n",
       "      <td>0.000000</td>\n",
       "      <td>0.983594</td>\n",
       "      <td>0.000000</td>\n",
       "      <td>0.180384</td>\n",
       "      <td>0.000501</td>\n",
       "      <td>0.000501</td>\n",
       "      <td>0.001989</td>\n",
       "      <td>362</td>\n",
       "      <td>1</td>\n",
       "    </tr>\n",
       "    <tr>\n",
       "      <th>3</th>\n",
       "      <td>0.000177</td>\n",
       "      <td>0.000177</td>\n",
       "      <td>0.000177</td>\n",
       "      <td>0.000000</td>\n",
       "      <td>0.000000</td>\n",
       "      <td>0.997975</td>\n",
       "      <td>0.000000</td>\n",
       "      <td>0.063599</td>\n",
       "      <td>0.000177</td>\n",
       "      <td>0.000353</td>\n",
       "      <td>0.000669</td>\n",
       "      <td>43</td>\n",
       "      <td>1</td>\n",
       "    </tr>\n",
       "    <tr>\n",
       "      <th>4</th>\n",
       "      <td>0.000151</td>\n",
       "      <td>0.000151</td>\n",
       "      <td>0.000151</td>\n",
       "      <td>0.000151</td>\n",
       "      <td>0.000000</td>\n",
       "      <td>0.999629</td>\n",
       "      <td>0.000000</td>\n",
       "      <td>0.027230</td>\n",
       "      <td>0.000151</td>\n",
       "      <td>0.000303</td>\n",
       "      <td>0.000744</td>\n",
       "      <td>221</td>\n",
       "      <td>1</td>\n",
       "    </tr>\n",
       "    <tr>\n",
       "      <th>5</th>\n",
       "      <td>0.000000</td>\n",
       "      <td>0.000000</td>\n",
       "      <td>0.000287</td>\n",
       "      <td>0.000000</td>\n",
       "      <td>0.000000</td>\n",
       "      <td>0.999945</td>\n",
       "      <td>0.000000</td>\n",
       "      <td>0.010341</td>\n",
       "      <td>0.000287</td>\n",
       "      <td>0.000287</td>\n",
       "      <td>0.001449</td>\n",
       "      <td>231</td>\n",
       "      <td>0</td>\n",
       "    </tr>\n",
       "    <tr>\n",
       "      <th>6</th>\n",
       "      <td>0.000155</td>\n",
       "      <td>0.000155</td>\n",
       "      <td>0.000309</td>\n",
       "      <td>0.000155</td>\n",
       "      <td>0.000155</td>\n",
       "      <td>0.986419</td>\n",
       "      <td>0.154538</td>\n",
       "      <td>0.055634</td>\n",
       "      <td>0.000155</td>\n",
       "      <td>0.000000</td>\n",
       "      <td>0.000808</td>\n",
       "      <td>535</td>\n",
       "      <td>0</td>\n",
       "    </tr>\n",
       "    <tr>\n",
       "      <th>7</th>\n",
       "      <td>0.000082</td>\n",
       "      <td>0.000082</td>\n",
       "      <td>0.000164</td>\n",
       "      <td>0.000000</td>\n",
       "      <td>0.000082</td>\n",
       "      <td>0.763789</td>\n",
       "      <td>0.644998</td>\n",
       "      <td>0.024578</td>\n",
       "      <td>0.000082</td>\n",
       "      <td>0.000000</td>\n",
       "      <td>0.000487</td>\n",
       "      <td>332</td>\n",
       "      <td>1</td>\n",
       "    </tr>\n",
       "    <tr>\n",
       "      <th>8</th>\n",
       "      <td>0.000359</td>\n",
       "      <td>0.000000</td>\n",
       "      <td>0.000000</td>\n",
       "      <td>0.000359</td>\n",
       "      <td>0.000000</td>\n",
       "      <td>0.836490</td>\n",
       "      <td>0.520252</td>\n",
       "      <td>0.172103</td>\n",
       "      <td>0.000000</td>\n",
       "      <td>0.000717</td>\n",
       "      <td>0.001658</td>\n",
       "      <td>163</td>\n",
       "      <td>0</td>\n",
       "    </tr>\n",
       "    <tr>\n",
       "      <th>9</th>\n",
       "      <td>0.000202</td>\n",
       "      <td>0.000202</td>\n",
       "      <td>0.000202</td>\n",
       "      <td>0.000000</td>\n",
       "      <td>0.000000</td>\n",
       "      <td>0.997360</td>\n",
       "      <td>0.000000</td>\n",
       "      <td>0.072609</td>\n",
       "      <td>0.000000</td>\n",
       "      <td>0.000000</td>\n",
       "      <td>0.001006</td>\n",
       "      <td>59</td>\n",
       "      <td>0</td>\n",
       "    </tr>\n",
       "  </tbody>\n",
       "</table>\n",
       "</div>"
      ],
      "text/plain": [
       "     Gender   Married  Dependents  Education  Self_Employed  ApplicantIncome  \\\n",
       "0  0.000307  0.000307    0.000000   0.000307       0.000000         0.666044   \n",
       "1  0.000134  0.000134    0.000269   0.000000       0.000000         0.653463   \n",
       "2  0.000000  0.000000    0.000000   0.000501       0.000000         0.983594   \n",
       "3  0.000177  0.000177    0.000177   0.000000       0.000000         0.997975   \n",
       "4  0.000151  0.000151    0.000151   0.000151       0.000000         0.999629   \n",
       "5  0.000000  0.000000    0.000287   0.000000       0.000000         0.999945   \n",
       "6  0.000155  0.000155    0.000309   0.000155       0.000155         0.986419   \n",
       "7  0.000082  0.000082    0.000164   0.000000       0.000082         0.763789   \n",
       "8  0.000359  0.000000    0.000000   0.000359       0.000000         0.836490   \n",
       "9  0.000202  0.000202    0.000202   0.000000       0.000000         0.997360   \n",
       "\n",
       "   CoapplicantIncome  Loan_Amount_Term  Credit_History  Property_Area  \\\n",
       "0           0.737658          0.110649        0.000307       0.000615   \n",
       "1           0.755412          0.048355        0.000134       0.000134   \n",
       "2           0.000000          0.180384        0.000501       0.000501   \n",
       "3           0.000000          0.063599        0.000177       0.000353   \n",
       "4           0.000000          0.027230        0.000151       0.000303   \n",
       "5           0.000000          0.010341        0.000287       0.000287   \n",
       "6           0.154538          0.055634        0.000155       0.000000   \n",
       "7           0.644998          0.024578        0.000082       0.000000   \n",
       "8           0.520252          0.172103        0.000000       0.000717   \n",
       "9           0.000000          0.072609        0.000000       0.000000   \n",
       "\n",
       "   LoanAmount_log  Loan_ID  Loan_Status  \n",
       "0        0.001458      365            1  \n",
       "1        0.000717      449            1  \n",
       "2        0.001989      362            1  \n",
       "3        0.000669       43            1  \n",
       "4        0.000744      221            1  \n",
       "5        0.001449      231            0  \n",
       "6        0.000808      535            0  \n",
       "7        0.000487      332            1  \n",
       "8        0.001658      163            0  \n",
       "9        0.001006       59            0  "
      ]
     },
     "execution_count": 102,
     "metadata": {},
     "output_type": "execute_result"
    }
   ],
   "source": [
    "normalized_data.head(10)\n"
   ]
  },
  {
   "cell_type": "code",
   "execution_count": 103,
   "id": "90d140eb",
   "metadata": {},
   "outputs": [
    {
     "data": {
      "text/plain": [
       "(550, 13)"
      ]
     },
     "execution_count": 103,
     "metadata": {},
     "output_type": "execute_result"
    }
   ],
   "source": [
    "normalized_data.shape\n"
   ]
  },
  {
   "cell_type": "markdown",
   "id": "7befb081",
   "metadata": {},
   "source": [
    "Building our first baseline model using all the features.\n"
   ]
  },
  {
   "cell_type": "markdown",
   "id": "5b11f4fc",
   "metadata": {},
   "source": [
    " Partitioning data into Train and Test sets:"
   ]
  },
  {
   "cell_type": "markdown",
   "id": "5f24d553",
   "metadata": {},
   "source": [
    "You will need to replace random_state = '48' with the 'last two digits of your student number'. If the first number starts with '0', replace '0' with '2'. E.g., if the last two digits of your student number is '05', use '25' instead.**"
   ]
  },
  {
   "cell_type": "code",
   "execution_count": 104,
   "id": "db2e0f3a",
   "metadata": {},
   "outputs": [
    {
     "data": {
      "text/plain": [
       "(550, 13)"
      ]
     },
     "execution_count": 104,
     "metadata": {},
     "output_type": "execute_result"
    }
   ],
   "source": [
    "normalized_data.shape\n"
   ]
  },
  {
   "cell_type": "code",
   "execution_count": 105,
   "id": "b3c5a382",
   "metadata": {},
   "outputs": [],
   "source": [
    "from matplotlib import pyplot"
   ]
  },
  {
   "cell_type": "code",
   "execution_count": 106,
   "id": "59363c71",
   "metadata": {},
   "outputs": [
    {
     "name": "stdout",
     "output_type": "stream",
     "text": [
      "(368, 11) (182, 11)\n"
     ]
    }
   ],
   "source": [
    "x_train, x_test, y_train, y_test = train_test_split(features, classes, test_size= .33,  random_state = 28)\n",
    "print(x_train.shape, x_test.shape)\n"
   ]
  },
  {
   "cell_type": "code",
   "execution_count": 107,
   "id": "2e86a6f0",
   "metadata": {},
   "outputs": [
    {
     "name": "stdout",
     "output_type": "stream",
     "text": [
      "DecisionTreeClassifier(criterion='entropy')\n"
     ]
    }
   ],
   "source": [
    "decisionTree = DecisionTreeClassifier(criterion='entropy')\n",
    "print(decisionTree)"
   ]
  },
  {
   "cell_type": "code",
   "execution_count": 108,
   "id": "700c45f0",
   "metadata": {},
   "outputs": [],
   "source": [
    "dtc_model = decisionTree.fit(x_train, y_train)"
   ]
  },
  {
   "cell_type": "code",
   "execution_count": 109,
   "id": "a3809160",
   "metadata": {},
   "outputs": [
    {
     "name": "stdout",
     "output_type": "stream",
     "text": [
      "Feature: 0, Score: 0.09823\n",
      "Feature: 1, Score: 0.07962\n",
      "Feature: 2, Score: 0.06863\n",
      "Feature: 3, Score: 0.02705\n",
      "Feature: 4, Score: 0.02407\n",
      "Feature: 5, Score: 0.13003\n",
      "Feature: 6, Score: 0.01655\n",
      "Feature: 7, Score: 0.07497\n",
      "Feature: 8, Score: 0.30945\n",
      "Feature: 9, Score: 0.04322\n",
      "Feature: 10, Score: 0.12819\n"
     ]
    },
    {
     "data": {
      "image/png": "[encoded data removed]",
      "text/plain": [
       "<Figure size 432x288 with 1 Axes>"
      ]
     },
     "metadata": {
      "needs_background": "light"
     },
     "output_type": "display_data"
    }
   ],
   "source": [
    "# feature importance\n",
    "importance = dtc_model.feature_importances_\n",
    "for i,v in enumerate(importance):\n",
    " print('Feature: %0d, Score: %.5f' % (i,v))\n",
    "# Barchat for feature importance\n",
    "pyplot.bar([x for x in range(len(importance))], importance)\n",
    "pyplot.show()"
   ]
  },
  {
   "cell_type": "markdown",
   "id": "d3a9442c",
   "metadata": {},
   "source": [
    "features/columns: 0:'Gender', 1:'Married', 2:'Dependents', 3:'Education', 4:'Self_Employed', 5:'ApplicantIncome', 6:'CoapplicantIncome', 7:'Loan_Amount_Term', 8:'Credit_History', 9:'Property_Area', 10:'LoanAmount_log'"
   ]
  },
  {
   "cell_type": "code",
   "execution_count": 111,
   "id": "4fb9d21b",
   "metadata": {},
   "outputs": [],
   "source": [
    "prediction = dtc_model.predict(x_test) "
   ]
  },
  {
   "cell_type": "markdown",
   "id": "55b94845",
   "metadata": {},
   "source": [
    "In the above cell, 'prediction' stores the predicted results (targets/classes)."
   ]
  },
  {
   "cell_type": "markdown",
   "id": "eb79069c",
   "metadata": {},
   "source": [
    "Since we converted the categorical values eariler using a label encoder, let's convert them back."
   ]
  },
  {
   "cell_type": "code",
   "execution_count": 112,
   "id": "69637b7b",
   "metadata": {},
   "outputs": [],
   "source": [
    "y_true = le.inverse_transform(y_test[\"Loan_Status\"])\n",
    "y_pred = le.inverse_transform(prediction)"
   ]
  },
  {
   "cell_type": "code",
   "execution_count": 113,
   "id": "0c72a6a0",
   "metadata": {},
   "outputs": [
    {
     "data": {
      "text/plain": [
       "<sklearn.metrics._plot.confusion_matrix.ConfusionMatrixDisplay at 0x2c384413ee0>"
      ]
     },
     "execution_count": 113,
     "metadata": {},
     "output_type": "execute_result"
    },
    {
     "data": {
      "image/png": "[encoded data removed]",
      "text/plain": [
       "<Figure size 432x288 with 2 Axes>"
      ]
     },
     "metadata": {
      "needs_background": "light"
     },
     "output_type": "display_data"
    }
   ],
   "source": [
    "cm = confusion_matrix(y_true, y_pred)\n",
    "labels = ['N', 'Y']\n",
    "ConfusionMatrixDisplay(cm, display_labels=labels).plot()"
   ]
  },
  {
   "cell_type": "code",
   "execution_count": 114,
   "id": "c437b888",
   "metadata": {},
   "outputs": [
    {
     "name": "stdout",
     "output_type": "stream",
     "text": [
      "              precision    recall  f1-score   support\n",
      "\n",
      "           N       0.51      0.61      0.56        49\n",
      "           Y       0.85      0.78      0.81       133\n",
      "\n",
      "    accuracy                           0.74       182\n",
      "   macro avg       0.68      0.70      0.68       182\n",
      "weighted avg       0.75      0.74      0.74       182\n",
      "\n"
     ]
    }
   ],
   "source": [
    "print(classification_report(y_true, y_pred))"
   ]
  },
  {
   "cell_type": "code",
   "execution_count": null,
   "id": "efcce455",
   "metadata": {},
   "outputs": [],
   "source": []
  },
  {
   "cell_type": "markdown",
   "id": "4a7a8876",
   "metadata": {},
   "source": [
    "# Q6"
   ]
  },
  {
   "cell_type": "markdown",
   "id": "cefd92b8",
   "metadata": {},
   "source": [
    "Based on the feature importance, select a different set of features to build another decision tree model. You\n",
    "should aim to improve the result of the baseline model."
   ]
  },
  {
   "cell_type": "code",
   "execution_count": 127,
   "id": "03c0022d",
   "metadata": {},
   "outputs": [],
   "source": [
    "new_features = normalized_data.drop(['Education','Dependents','Self_Employed','CoapplicantIncome','Property_Area','Loan_Amount_Term','Loan_ID','Loan_Status'], axis = 1)"
   ]
  },
  {
   "cell_type": "code",
   "execution_count": 128,
   "id": "b5e74c63",
   "metadata": {},
   "outputs": [
    {
     "name": "stdout",
     "output_type": "stream",
     "text": [
      "Features:\n",
      "     Gender   Married  ApplicantIncome  Credit_History  LoanAmount_log\n",
      "0  0.000307  0.000307         0.666044        0.000307        0.001458\n",
      "1  0.000134  0.000134         0.653463        0.000134        0.000717\n",
      "2  0.000000  0.000000         0.983594        0.000501        0.001989\n",
      "3  0.000177  0.000177         0.997975        0.000177        0.000669\n",
      "4  0.000151  0.000151         0.999629        0.000151        0.000744\n"
     ]
    }
   ],
   "source": [
    "print('Features:')\n",
    "print(new_features.head())"
   ]
  },
  {
   "cell_type": "code",
   "execution_count": 129,
   "id": "863c8dea",
   "metadata": {},
   "outputs": [
    {
     "name": "stdout",
     "output_type": "stream",
     "text": [
      "(368, 5) (182, 5)\n"
     ]
    }
   ],
   "source": [
    "x_train, x_test, y_train, y_test = train_test_split(new_features, classes, test_size= .33,  random_state = 28)\n",
    "print(x_train.shape, x_test.shape)"
   ]
  },
  {
   "cell_type": "code",
   "execution_count": 130,
   "id": "6ba08675",
   "metadata": {},
   "outputs": [
    {
     "name": "stdout",
     "output_type": "stream",
     "text": [
      "DecisionTreeClassifier(criterion='entropy')\n"
     ]
    }
   ],
   "source": [
    "decisionTree = DecisionTreeClassifier(criterion='entropy')\n",
    "print(decisionTree)"
   ]
  },
  {
   "cell_type": "code",
   "execution_count": 131,
   "id": "eed66de2",
   "metadata": {},
   "outputs": [],
   "source": [
    "dtc_model = decisionTree.fit(x_train, y_train)"
   ]
  },
  {
   "cell_type": "code",
   "execution_count": 132,
   "id": "485f1b1c",
   "metadata": {},
   "outputs": [],
   "source": [
    "prediction = dtc_model.predict(x_test)"
   ]
  },
  {
   "cell_type": "code",
   "execution_count": 133,
   "id": "5ca94493",
   "metadata": {},
   "outputs": [],
   "source": [
    "y_true = le.inverse_transform(y_test[\"Loan_Status\"])\n",
    "y_pred = le.inverse_transform(prediction)"
   ]
  },
  {
   "cell_type": "code",
   "execution_count": 134,
   "id": "30a4cbb9",
   "metadata": {},
   "outputs": [
    {
     "data": {
      "text/plain": [
       "<sklearn.metrics._plot.confusion_matrix.ConfusionMatrixDisplay at 0x2c38435af70>"
      ]
     },
     "execution_count": 134,
     "metadata": {},
     "output_type": "execute_result"
    },
    {
     "data": {
      "image/png": "[encoded data removed]",
      "text/plain": [
       "<Figure size 432x288 with 2 Axes>"
      ]
     },
     "metadata": {
      "needs_background": "light"
     },
     "output_type": "display_data"
    }
   ],
   "source": [
    "cm = confusion_matrix(y_true, y_pred)\n",
    "labels = ['N', 'Y']\n",
    "ConfusionMatrixDisplay(cm, display_labels=labels).plot()"
   ]
  },
  {
   "cell_type": "code",
   "execution_count": 135,
   "id": "67e04719",
   "metadata": {},
   "outputs": [
    {
     "name": "stdout",
     "output_type": "stream",
     "text": [
      "              precision    recall  f1-score   support\n",
      "\n",
      "           N       0.48      0.65      0.55        49\n",
      "           Y       0.85      0.74      0.79       133\n",
      "\n",
      "    accuracy                           0.71       182\n",
      "   macro avg       0.66      0.69      0.67       182\n",
      "weighted avg       0.75      0.71      0.73       182\n",
      "\n"
     ]
    }
   ],
   "source": [
    "print(classification_report(y_true, y_pred))"
   ]
  },
  {
   "cell_type": "code",
   "execution_count": null,
   "id": "599a927f",
   "metadata": {},
   "outputs": [],
   "source": []
  },
  {
   "cell_type": "markdown",
   "id": "e140fdb4",
   "metadata": {},
   "source": [
    "# Q7"
   ]
  },
  {
   "cell_type": "markdown",
   "id": "e15e534e",
   "metadata": {},
   "source": [
    "Write a summary (max 250 words) to compare both the models. The summary should include: idea behind\n",
    "selecting those particular features and comparative analysis of the results of both the models.\n"
   ]
  },
  {
   "cell_type": "markdown",
   "id": "0279c371",
   "metadata": {},
   "source": [
    "After reviewing the important features, I decided to select only those with scores greater than or equal to (>=) 0.07. Because the important feature is knowing the range of impact each column gives to the Decision Tree Model, and the following columns are the ones I use in building another decision tree model: \"Gender\",\"Marriage\",\"ApplicantIncome\",,\"Credit History\",\"LoanAmount_log\".\n",
    "After comparing the new Model to the initial trained model, I discovered that the initial model has a higher accuracy than that of the new model using the Confusion Metrix Display and the Class "
   ]
  },
  {
   "cell_type": "code",
   "execution_count": null,
   "id": "b661671d",
   "metadata": {},
   "outputs": [],
   "source": []
  },
  {
   "cell_type": "markdown",
   "id": "e4c19405",
   "metadata": {},
   "source": [
    "# Q8. "
   ]
  },
  {
   "cell_type": "markdown",
   "id": "ab6c1179",
   "metadata": {},
   "source": [
    "Discuss the result based on the evaluation matrix"
   ]
  },
  {
   "cell_type": "markdown",
   "id": "426e31e5",
   "metadata": {},
   "source": [
    "Precision is the proportion of true positive predictions made by the model out of all positive predictions made by the model.\n",
    "Recall: the proportion of true positive predictions correctly identified by the model.\n",
    "F1-score: the harmonic mean of precision and recall; higher values indicate better performance.\n",
    "Support: the number of samples available for each class.\n",
    "Precision is 0.48, recall is 0.65, and f1-score is 0.55 for class \"N\" (unapproved loans). Precision is 0.85, recall is 0.74, and f1-score is 0.79 for class \"Y\" (approved loans). The model's weighted average f1-score is 0.73, and its accuracy is 0.71. According to the accuracy, the model correctly predicts the class of 71% of the samples in the new_test set. The higher f1-score for class \"Y\" indicates that the model outperforms unapproved loans in identifying approved loans."
   ]
  },
  {
   "cell_type": "code",
   "execution_count": null,
   "id": "f397275d",
   "metadata": {},
   "outputs": [],
   "source": []
  }
 ],
 "metadata": {
  "kernelspec": {
   "display_name": "Python 3 (ipykernel)",
   "language": "python",
   "name": "python3"
  },
  "language_info": {
   "codemirror_mode": {
    "name": "ipython",
    "version": 3
   },
   "file_extension": ".py",
   "mimetype": "text/x-python",
   "name": "python",
   "nbconvert_exporter": "python",
   "pygments_lexer": "ipython3",
   "version": "3.9.12"
  }
 },
 "nbformat": 4,
 "nbformat_minor": 5
}
