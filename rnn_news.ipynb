{
  "nbformat": 4,
  "nbformat_minor": 0,
  "metadata": {
    "colab": {
      "provenance": [],
      "gpuType": "T4"
    },
    "kernelspec": {
      "name": "python3",
      "display_name": "Python 3"
    },
    "language_info": {
      "name": "python"
    },
    "accelerator": "GPU"
  },
  "cells": [
    {
      "cell_type": "code",
      "execution_count": 14,
      "metadata": {
        "id": "Yqr6SoOW94Qi"
      },
      "outputs": [],
      "source": [
        "\n",
        "import re # Regex\n",
        "import string # String manipulation\n",
        "import spacy # NLP tooling\n",
        "import numpy as np # linear algebra\n",
        "import pandas as pd # data processing, CSV file I/O (e.g. pd.read_csv)\n",
        "import tensorflow as tf # Deep learning\n",
        "import matplotlib.pyplot as plt # Visualization\n",
        "from sklearn.model_selection import train_test_split # Split train and validation set\n",
        "from sklearn.preprocessing import LabelEncoder # Encode label into numerical format\n"
      ]
    },
    {
      "cell_type": "code",
      "source": [
        "data =pd.read_csv('/content/drive/MyDrive/apriori/Total_News_Data.csv')"
      ],
      "metadata": {
        "id": "VzvjSweJCWar"
      },
      "execution_count": 15,
      "outputs": []
    },
    {
      "cell_type": "code",
      "source": [
        "data.head(5)"
      ],
      "metadata": {
        "colab": {
          "base_uri": "https://localhost:8080/",
          "height": 310
        },
        "id": "q8DmoAXiEumG",
        "outputId": "953f60dd-03c7-4425-8f91-f9c0bf4c1ea3"
      },
      "execution_count": 16,
      "outputs": [
        {
          "output_type": "execute_result",
          "data": {
            "text/plain": [
              "   Unnamed: 0                                      news_headline  \\\n",
              "0           1  50-year-old problem of biology solved by Artif...   \n",
              "1           2  Microsoft Teams to stop working on Internet Ex...   \n",
              "2           3  Hope US won't erect barriers to cooperation: C...   \n",
              "3           4  Global smartphone sales in Q3 falls 5.7% to 36...   \n",
              "4           5  EU hoping Biden will clarify US position on di...   \n",
              "\n",
              "                                        news_article news_category  \n",
              "0  DeepMind's AI system 'AlphaFold' has been reco...    technology  \n",
              "1  Microsoft Teams will stop working on Internet ...    technology  \n",
              "2  China, in response to reports of US adding Chi...    technology  \n",
              "3  The global smartphone sales in the third quart...    technology  \n",
              "4  The European Union (EU) is hoping that US Pres...    technology  "
            ],
            "text/html": [
              "\n",
              "  <div id=\"df-2e0a5bc9-2f71-4842-9bce-ef633ebbba0f\" class=\"colab-df-container\">\n",
              "    <div>\n",
              "<style scoped>\n",
              "    .dataframe tbody tr th:only-of-type {\n",
              "        vertical-align: middle;\n",
              "    }\n",
              "\n",
              "    .dataframe tbody tr th {\n",
              "        vertical-align: top;\n",
              "    }\n",
              "\n",
              "    .dataframe thead th {\n",
              "        text-align: right;\n",
              "    }\n",
              "</style>\n",
              "<table border=\"1\" class=\"dataframe\">\n",
              "  <thead>\n",
              "    <tr style=\"text-align: right;\">\n",
              "      <th></th>\n",
              "      <th>Unnamed: 0</th>\n",
              "      <th>news_headline</th>\n",
              "      <th>news_article</th>\n",
              "      <th>news_category</th>\n",
              "    </tr>\n",
              "  </thead>\n",
              "  <tbody>\n",
              "    <tr>\n",
              "      <th>0</th>\n",
              "      <td>1</td>\n",
              "      <td>50-year-old problem of biology solved by Artif...</td>\n",
              "      <td>DeepMind's AI system 'AlphaFold' has been reco...</td>\n",
              "      <td>technology</td>\n",
              "    </tr>\n",
              "    <tr>\n",
              "      <th>1</th>\n",
              "      <td>2</td>\n",
              "      <td>Microsoft Teams to stop working on Internet Ex...</td>\n",
              "      <td>Microsoft Teams will stop working on Internet ...</td>\n",
              "      <td>technology</td>\n",
              "    </tr>\n",
              "    <tr>\n",
              "      <th>2</th>\n",
              "      <td>3</td>\n",
              "      <td>Hope US won't erect barriers to cooperation: C...</td>\n",
              "      <td>China, in response to reports of US adding Chi...</td>\n",
              "      <td>technology</td>\n",
              "    </tr>\n",
              "    <tr>\n",
              "      <th>3</th>\n",
              "      <td>4</td>\n",
              "      <td>Global smartphone sales in Q3 falls 5.7% to 36...</td>\n",
              "      <td>The global smartphone sales in the third quart...</td>\n",
              "      <td>technology</td>\n",
              "    </tr>\n",
              "    <tr>\n",
              "      <th>4</th>\n",
              "      <td>5</td>\n",
              "      <td>EU hoping Biden will clarify US position on di...</td>\n",
              "      <td>The European Union (EU) is hoping that US Pres...</td>\n",
              "      <td>technology</td>\n",
              "    </tr>\n",
              "  </tbody>\n",
              "</table>\n",
              "</div>\n",
              "    <div class=\"colab-df-buttons\">\n",
              "\n",
              "  <div class=\"colab-df-container\">\n",
              "    <button class=\"colab-df-convert\" onclick=\"convertToInteractive('df-2e0a5bc9-2f71-4842-9bce-ef633ebbba0f')\"\n",
              "            title=\"Convert this dataframe to an interactive table.\"\n",
              "            style=\"display:none;\">\n",
              "\n",
              "  <svg xmlns=\"http://www.w3.org/2000/svg\" height=\"24px\" viewBox=\"0 -960 960 960\">\n",
              "    <path d=\"M120-120v-720h720v720H120Zm60-500h600v-160H180v160Zm220 220h160v-160H400v160Zm0 220h160v-160H400v160ZM180-400h160v-160H180v160Zm440 0h160v-160H620v160ZM180-180h160v-160H180v160Zm440 0h160v-160H620v160Z\"/>\n",
              "  </svg>\n",
              "    </button>\n",
              "\n",
              "  <style>\n",
              "    .colab-df-container {\n",
              "      display:flex;\n",
              "      gap: 12px;\n",
              "    }\n",
              "\n",
              "    .colab-df-convert {\n",
              "      background-color: #E8F0FE;\n",
              "      border: none;\n",
              "      border-radius: 50%;\n",
              "      cursor: pointer;\n",
              "      display: none;\n",
              "      fill: #1967D2;\n",
              "      height: 32px;\n",
              "      padding: 0 0 0 0;\n",
              "      width: 32px;\n",
              "    }\n",
              "\n",
              "    .colab-df-convert:hover {\n",
              "      background-color: #E2EBFA;\n",
              "      box-shadow: 0px 1px 2px rgba(60, 64, 67, 0.3), 0px 1px 3px 1px rgba(60, 64, 67, 0.15);\n",
              "      fill: #174EA6;\n",
              "    }\n",
              "\n",
              "    .colab-df-buttons div {\n",
              "      margin-bottom: 4px;\n",
              "    }\n",
              "\n",
              "    [theme=dark] .colab-df-convert {\n",
              "      background-color: #3B4455;\n",
              "      fill: #D2E3FC;\n",
              "    }\n",
              "\n",
              "    [theme=dark] .colab-df-convert:hover {\n",
              "      background-color: #434B5C;\n",
              "      box-shadow: 0px 1px 3px 1px rgba(0, 0, 0, 0.15);\n",
              "      filter: drop-shadow(0px 1px 2px rgba(0, 0, 0, 0.3));\n",
              "      fill: #FFFFFF;\n",
              "    }\n",
              "  </style>\n",
              "\n",
              "    <script>\n",
              "      const buttonEl =\n",
              "        document.querySelector('#df-2e0a5bc9-2f71-4842-9bce-ef633ebbba0f button.colab-df-convert');\n",
              "      buttonEl.style.display =\n",
              "        google.colab.kernel.accessAllowed ? 'block' : 'none';\n",
              "\n",
              "      async function convertToInteractive(key) {\n",
              "        const element = document.querySelector('#df-2e0a5bc9-2f71-4842-9bce-ef633ebbba0f');\n",
              "        const dataTable =\n",
              "          await google.colab.kernel.invokeFunction('convertToInteractive',\n",
              "                                                    [key], {});\n",
              "        if (!dataTable) return;\n",
              "\n",
              "        const docLinkHtml = 'Like what you see? Visit the ' +\n",
              "          '<a target=\"_blank\" href=https://colab.research.google.com/notebooks/data_table.ipynb>data table notebook</a>'\n",
              "          + ' to learn more about interactive tables.';\n",
              "        element.innerHTML = '';\n",
              "        dataTable['output_type'] = 'display_data';\n",
              "        await google.colab.output.renderOutput(dataTable, element);\n",
              "        const docLink = document.createElement('div');\n",
              "        docLink.innerHTML = docLinkHtml;\n",
              "        element.appendChild(docLink);\n",
              "      }\n",
              "    </script>\n",
              "  </div>\n",
              "\n",
              "\n",
              "<div id=\"df-53ae84b7-9ad8-4785-bd6f-083d7931c2ce\">\n",
              "  <button class=\"colab-df-quickchart\" onclick=\"quickchart('df-53ae84b7-9ad8-4785-bd6f-083d7931c2ce')\"\n",
              "            title=\"Suggest charts.\"\n",
              "            style=\"display:none;\">\n",
              "\n",
              "<svg xmlns=\"http://www.w3.org/2000/svg\" height=\"24px\"viewBox=\"0 0 24 24\"\n",
              "     width=\"24px\">\n",
              "    <g>\n",
              "        <path d=\"M19 3H5c-1.1 0-2 .9-2 2v14c0 1.1.9 2 2 2h14c1.1 0 2-.9 2-2V5c0-1.1-.9-2-2-2zM9 17H7v-7h2v7zm4 0h-2V7h2v10zm4 0h-2v-4h2v4z\"/>\n",
              "    </g>\n",
              "</svg>\n",
              "  </button>\n",
              "\n",
              "<style>\n",
              "  .colab-df-quickchart {\n",
              "    background-color: #E8F0FE;\n",
              "    border: none;\n",
              "    border-radius: 50%;\n",
              "    cursor: pointer;\n",
              "    display: none;\n",
              "    fill: #1967D2;\n",
              "    height: 32px;\n",
              "    padding: 0 0 0 0;\n",
              "    width: 32px;\n",
              "  }\n",
              "\n",
              "  .colab-df-quickchart:hover {\n",
              "    background-color: #E2EBFA;\n",
              "    box-shadow: 0px 1px 2px rgba(60, 64, 67, 0.3), 0px 1px 3px 1px rgba(60, 64, 67, 0.15);\n",
              "    fill: #174EA6;\n",
              "  }\n",
              "\n",
              "  [theme=dark] .colab-df-quickchart {\n",
              "    background-color: #3B4455;\n",
              "    fill: #D2E3FC;\n",
              "  }\n",
              "\n",
              "  [theme=dark] .colab-df-quickchart:hover {\n",
              "    background-color: #434B5C;\n",
              "    box-shadow: 0px 1px 3px 1px rgba(0, 0, 0, 0.15);\n",
              "    filter: drop-shadow(0px 1px 2px rgba(0, 0, 0, 0.3));\n",
              "    fill: #FFFFFF;\n",
              "  }\n",
              "</style>\n",
              "\n",
              "  <script>\n",
              "    async function quickchart(key) {\n",
              "      const charts = await google.colab.kernel.invokeFunction(\n",
              "          'suggestCharts', [key], {});\n",
              "    }\n",
              "    (() => {\n",
              "      let quickchartButtonEl =\n",
              "        document.querySelector('#df-53ae84b7-9ad8-4785-bd6f-083d7931c2ce button');\n",
              "      quickchartButtonEl.style.display =\n",
              "        google.colab.kernel.accessAllowed ? 'block' : 'none';\n",
              "    })();\n",
              "  </script>\n",
              "</div>\n",
              "    </div>\n",
              "  </div>\n"
            ]
          },
          "metadata": {},
          "execution_count": 16
        }
      ]
    },
    {
      "cell_type": "code",
      "source": [
        "def clean_text(text):\n",
        "    regex_html = re.compile('<.*?>|&([a-z0-9]+|#[0-9]{1,6}|#x[0-9a-f]{1,6});')\n",
        "    remove_digits = str.maketrans('', '', string.digits + string.punctuation)\n",
        "    text = re.sub(regex_html, '', text)\n",
        "    text = text.translate(remove_digits)\n",
        "    return ' '.join(re.sub(\"(@[A-Za-z0-9]+)|([^0-9A-Za-z \\t])|(\\w+:\\/\\/\\S+)\", \" \", text).split()).lower()\n",
        "\n",
        "X= (data.news_headline + \" \" + data.news_article).apply(clean_text)\n"
      ],
      "metadata": {
        "id": "kZgoSP0iJA1F"
      },
      "execution_count": 17,
      "outputs": []
    },
    {
      "cell_type": "code",
      "source": [
        "le = LabelEncoder().fit(data['news_category'])\n",
        "data['label'] = le.transform(data['news_category'])\n",
        "X_train,X_test,y_train,y_test=train_test_split(X,data['label'],test_size=0.2, random_state=42)"
      ],
      "metadata": {
        "id": "QGXKMGt4Iqmr"
      },
      "execution_count": 18,
      "outputs": []
    },
    {
      "cell_type": "code",
      "source": [
        "tokenizer = tf.keras.preprocessing.text.Tokenizer(num_words=8192, oov_token='-')\n",
        "tokenizer.fit_on_texts(X_train)\n",
        "tokenizer.fit_on_texts(X_test)\n",
        "\n",
        "x_train = tf.keras.preprocessing.sequence.pad_sequences(\n",
        "    tokenizer.texts_to_sequences(X_train),\n",
        "    maxlen=128,\n",
        "    padding='post',\n",
        "    truncating='post'\n",
        ")\n",
        "\n",
        "x_test = tf.keras.preprocessing.sequence.pad_sequences(\n",
        "    tokenizer.texts_to_sequences(X_test),\n",
        "    maxlen=128,\n",
        "    padding='post',\n",
        "    truncating='post'\n",
        ")"
      ],
      "metadata": {
        "id": "35snpJOFMSWD"
      },
      "execution_count": 19,
      "outputs": []
    },
    {
      "cell_type": "code",
      "source": [
        "x_train.shape"
      ],
      "metadata": {
        "colab": {
          "base_uri": "https://localhost:8080/"
        },
        "id": "TqbKB9HZOZYQ",
        "outputId": "ba22280f-854e-49e2-cacc-177ad1387847"
      },
      "execution_count": 25,
      "outputs": [
        {
          "output_type": "execute_result",
          "data": {
            "text/plain": [
              "(9696, 128)"
            ]
          },
          "metadata": {},
          "execution_count": 25
        }
      ]
    },
    {
      "cell_type": "code",
      "source": [
        "model = tf.keras.Sequential([\n",
        "    tf.keras.layers.Input((128,)),\n",
        "    tf.keras.layers.Embedding(input_dim=len(tokenizer.word_index), output_dim=64),\n",
        "    tf.keras.layers.Bidirectional(tf.keras.layers.LSTM(128, return_sequences=True)),\n",
        "    tf.keras.layers.GlobalMaxPool1D(),\n",
        "    tf.keras.layers.Dense(256, activation='relu'),\n",
        "    tf.keras.layers.Dropout(0.5),\n",
        "    tf.keras.layers.Dense(len(set(y_train)), activation='softmax')\n",
        "])\n",
        "\n",
        "model.compile(\n",
        "    loss='sparse_categorical_crossentropy',\n",
        "    optimizer='adam',\n",
        "    metrics=['accuracy']\n",
        ")\n",
        "\n",
        "model.summary()"
      ],
      "metadata": {
        "colab": {
          "base_uri": "https://localhost:8080/"
        },
        "id": "TLXYTOsLNXyE",
        "outputId": "708c193f-ec35-4c1e-ce9e-a1515f618b78"
      },
      "execution_count": 26,
      "outputs": [
        {
          "output_type": "stream",
          "name": "stdout",
          "text": [
            "Model: \"sequential_2\"\n",
            "_________________________________________________________________\n",
            " Layer (type)                Output Shape              Param #   \n",
            "=================================================================\n",
            " embedding_4 (Embedding)     (None, 128, 64)           1555648   \n",
            "                                                                 \n",
            " bidirectional_4 (Bidirectio  (None, 128, 256)         197632    \n",
            " nal)                                                            \n",
            "                                                                 \n",
            " global_max_pooling1d_4 (Glo  (None, 256)              0         \n",
            " balMaxPooling1D)                                                \n",
            "                                                                 \n",
            " dense_6 (Dense)             (None, 256)               65792     \n",
            "                                                                 \n",
            " dropout_4 (Dropout)         (None, 256)               0         \n",
            "                                                                 \n",
            " dense_7 (Dense)             (None, 7)                 1799      \n",
            "                                                                 \n",
            "=================================================================\n",
            "Total params: 1,820,871\n",
            "Trainable params: 1,820,871\n",
            "Non-trainable params: 0\n",
            "_________________________________________________________________\n"
          ]
        }
      ]
    },
    {
      "cell_type": "code",
      "source": [
        "history = model.fit(\n",
        "    x_train,\n",
        "    y_train,\n",
        "    epochs=10,\n",
        "    validation_data=(x_test, y_test),\n",
        "    batch_size=32,\n",
        "    callbacks=[tf.keras.callbacks.EarlyStopping(\n",
        "        patience=5,\n",
        "        restore_best_weights=True,\n",
        "    ), tf.keras.callbacks.ReduceLROnPlateau(\n",
        "        monitor='val_loss',\n",
        "        patience=2\n",
        "    )]\n",
        ")"
      ],
      "metadata": {
        "colab": {
          "base_uri": "https://localhost:8080/"
        },
        "id": "ANhXzEuZNgci",
        "outputId": "b4db7054-c11a-4e1f-e96a-b1888a33867c"
      },
      "execution_count": 27,
      "outputs": [
        {
          "output_type": "stream",
          "name": "stdout",
          "text": [
            "Epoch 1/10\n",
            "303/303 [==============================] - 38s 90ms/step - loss: 1.1755 - accuracy: 0.5249 - val_loss: 0.3813 - val_accuracy: 0.8717 - lr: 0.0010\n",
            "Epoch 2/10\n",
            "303/303 [==============================] - 8s 26ms/step - loss: 0.2729 - accuracy: 0.9179 - val_loss: 0.2293 - val_accuracy: 0.9315 - lr: 0.0010\n",
            "Epoch 3/10\n",
            "303/303 [==============================] - 9s 29ms/step - loss: 0.1622 - accuracy: 0.9505 - val_loss: 0.2406 - val_accuracy: 0.9295 - lr: 0.0010\n",
            "Epoch 4/10\n",
            "303/303 [==============================] - 7s 23ms/step - loss: 0.1244 - accuracy: 0.9620 - val_loss: 0.2247 - val_accuracy: 0.9328 - lr: 0.0010\n",
            "Epoch 5/10\n",
            "303/303 [==============================] - 6s 20ms/step - loss: 0.1183 - accuracy: 0.9603 - val_loss: 0.1949 - val_accuracy: 0.9381 - lr: 0.0010\n",
            "Epoch 6/10\n",
            "303/303 [==============================] - 5s 15ms/step - loss: 0.1079 - accuracy: 0.9613 - val_loss: 0.1866 - val_accuracy: 0.9414 - lr: 0.0010\n",
            "Epoch 7/10\n",
            "303/303 [==============================] - 5s 17ms/step - loss: 0.1032 - accuracy: 0.9630 - val_loss: 0.1990 - val_accuracy: 0.9435 - lr: 0.0010\n",
            "Epoch 8/10\n",
            "303/303 [==============================] - 5s 15ms/step - loss: 0.0942 - accuracy: 0.9648 - val_loss: 0.1886 - val_accuracy: 0.9431 - lr: 0.0010\n",
            "Epoch 9/10\n",
            "303/303 [==============================] - 5s 16ms/step - loss: 0.0737 - accuracy: 0.9678 - val_loss: 0.1964 - val_accuracy: 0.9427 - lr: 1.0000e-04\n",
            "Epoch 10/10\n",
            "303/303 [==============================] - 6s 20ms/step - loss: 0.0719 - accuracy: 0.9665 - val_loss: 0.2002 - val_accuracy: 0.9435 - lr: 1.0000e-04\n"
          ]
        }
      ]
    },
    {
      "cell_type": "code",
      "source": [
        "plt.style.use('ggplot')\n",
        "fig, (ax1, ax2) = plt.subplots(nrows=2, ncols=1)\n",
        "fig.suptitle('Training Result')\n",
        "ax1.plot(history.history['loss'], 'o-', label='Train')\n",
        "ax1.plot(history.history['val_loss'], 'o--', label='Validation')\n",
        "ax1.set_xlabel('Epoch')\n",
        "ax1.set_ylabel('Loss')\n",
        "ax1.legend()\n",
        "ax2.plot(history.history['accuracy'], 'o-', label='Train')\n",
        "ax2.plot(history.history['val_accuracy'], 'o--', label='Validation')\n",
        "ax2.set_xlabel('Epoch')\n",
        "ax2.set_ylabel('Accuracy')\n",
        "ax2.legend()"
      ],
      "metadata": {
        "colab": {
          "base_uri": "https://localhost:8080/",
          "height": 518
        },
        "id": "EpNy16oBN2NQ",
        "outputId": "d11fef0f-fd0f-4c3e-ba0f-48d4df19161b"
      },
      "execution_count": 28,
      "outputs": [
        {
          "output_type": "execute_result",
          "data": {
            "text/plain": [
              "<matplotlib.legend.Legend at 0x780280111390>"
            ]
          },
          "metadata": {},
          "execution_count": 28
        },
        {
          "output_type": "display_data",
          "data": {
            "text/plain": [
              "<Figure size 640x480 with 2 Axes>"
            ],
            "image/png": "[encoded data removed]"
          },
          "metadata": {}
        }
      ]
    },
    {
      "cell_type": "code",
      "source": [],
      "metadata": {
        "id": "UcGZd0bOPVuM"
      },
      "execution_count": null,
      "outputs": []
    }
  ]
}